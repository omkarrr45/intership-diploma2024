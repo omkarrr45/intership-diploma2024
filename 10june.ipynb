{
 "cells": [
  {
   "cell_type": "code",
   "execution_count": 2,
   "id": "948ef329-b59b-4e5c-b87f-50f4a768d7aa",
   "metadata": {},
   "outputs": [],
   "source": [
    "def show():\n",
    "    print('hello')\n",
    "    print('ok')\n",
    "    print('goodbye') "
   ]
  },
  {
   "cell_type": "code",
   "execution_count": 3,
   "id": "54fdb027-79ac-4cb1-8b88-513b36c4d130",
   "metadata": {},
   "outputs": [
    {
     "name": "stdout",
     "output_type": "stream",
     "text": [
      "hello\n",
      "ok\n",
      "goodbye\n"
     ]
    }
   ],
   "source": [
    "show()"
   ]
  },
  {
   "cell_type": "code",
   "execution_count": 5,
   "id": "30157aa9-2bd8-47a1-817b-f6f827fc00f0",
   "metadata": {},
   "outputs": [
    {
     "name": "stdout",
     "output_type": "stream",
     "text": [
      "hello\n",
      "ok\n",
      "goodbye\n",
      "hello\n",
      "ok\n",
      "goodbye\n",
      "hello\n",
      "ok\n",
      "goodbye\n"
     ]
    }
   ],
   "source": [
    " show()\n",
    "show()\n",
    "show()"
   ]
  },
  {
   "cell_type": "code",
   "execution_count": 8,
   "id": "b8571e78-63bb-4f3a-90ff-54a90bcf9fd4",
   "metadata": {},
   "outputs": [],
   "source": [
    "#parameterized function\n",
    "\n",
    "def square(n):\n",
    "    result = n * n\n",
    "    print('square is ',result)"
   ]
  },
  {
   "cell_type": "code",
   "execution_count": 11,
   "id": "9dc52e0c-920e-405f-90de-5e35decdfad7",
   "metadata": {},
   "outputs": [
    {
     "name": "stdout",
     "output_type": "stream",
     "text": [
      "square is  100\n"
     ]
    }
   ],
   "source": [
    "square(10)"
   ]
  },
  {
   "cell_type": "code",
   "execution_count": 13,
   "id": "7907cd4e-3bb3-4761-a8c2-ca5c530724d3",
   "metadata": {},
   "outputs": [
    {
     "name": "stdin",
     "output_type": "stream",
     "text": [
      "enter number 5\n"
     ]
    },
    {
     "name": "stdout",
     "output_type": "stream",
     "text": [
      "square is  25\n"
     ]
    }
   ],
   "source": [
    "num = int(input('enter number'))\n",
    "square(num)"
   ]
  },
  {
   "cell_type": "code",
   "execution_count": 16,
   "id": "8e02c0cf-2fb2-41e7-abcb-32fbf0aa357f",
   "metadata": {},
   "outputs": [],
   "source": [
    "#multiparameter function\n",
    "\n",
    "def largest(a,b):\n",
    "    if a > b:\n",
    "        print(a,'is greater')\n",
    "    elif a==b:\n",
    "        print('equal')\n",
    "    else:\n",
    "        print(b,'is greater')\n",
    "        "
   ]
  },
  {
   "cell_type": "code",
   "execution_count": 17,
   "id": "6f62bb63-09e9-47d8-86d7-ef35c9838934",
   "metadata": {},
   "outputs": [
    {
     "name": "stdout",
     "output_type": "stream",
     "text": [
      "50 is greater\n"
     ]
    }
   ],
   "source": [
    "largest(45,50)\n"
   ]
  },
  {
   "cell_type": "code",
   "execution_count": 20,
   "id": "bd2aa9eb-9e80-43f5-8138-88f19485cb32",
   "metadata": {},
   "outputs": [],
   "source": [
    "#write a function which will print a string n number of times\n",
    "def dis(name,n):\n",
    " for i in range(n):\n",
    "    print(name)\n"
   ]
  },
  {
   "cell_type": "code",
   "execution_count": 22,
   "id": "2dff3ed4-6512-41be-8705-174697fbc8eb",
   "metadata": {},
   "outputs": [
    {
     "name": "stdout",
     "output_type": "stream",
     "text": [
      "omkar\n",
      "omkar\n",
      "omkar\n",
      "omkar\n",
      "omkar\n",
      "omkar\n",
      "omkar\n"
     ]
    }
   ],
   "source": [
    "dis('omkar',7)"
   ]
  },
  {
   "cell_type": "code",
   "execution_count": 26,
   "id": "a31b4443-29a6-4fae-97ed-b4ffa7e73836",
   "metadata": {},
   "outputs": [],
   "source": [
    "#function for factorial\n",
    "def facto(n):\n",
    "    fact = 1\n",
    "    for i in range (1, n+1):\n",
    "      fact = fact * i\n",
    "    print(\"factorial:\",fact)"
   ]
  },
  {
   "cell_type": "code",
   "execution_count": 27,
   "id": "596f47d5-1e5f-44e8-a9b2-8338a9ec6f47",
   "metadata": {},
   "outputs": [
    {
     "name": "stdout",
     "output_type": "stream",
     "text": [
      "factorial: 120\n"
     ]
    }
   ],
   "source": [
    "facto(5)"
   ]
  },
  {
   "cell_type": "code",
   "execution_count": 28,
   "id": "282436aa-50a7-46d1-8b41-ba64131fecd9",
   "metadata": {},
   "outputs": [],
   "source": [
    "#function returning values\n",
    "\n",
    "def square(n):\n",
    "    result = n * n\n",
    "    return result"
   ]
  },
  {
   "cell_type": "code",
   "execution_count": 30,
   "id": "f278028f-4135-417b-83f1-57d17873c12c",
   "metadata": {},
   "outputs": [
    {
     "data": {
      "text/plain": [
       "3249"
      ]
     },
     "execution_count": 30,
     "metadata": {},
     "output_type": "execute_result"
    }
   ],
   "source": [
    "square(57)\n"
   ]
  },
  {
   "cell_type": "code",
   "execution_count": 31,
   "id": "e46f597f-23e9-45ec-a9c1-dbacf204bc26",
   "metadata": {},
   "outputs": [],
   "source": [
    "####diffence between return and printm"
   ]
  },
  {
   "cell_type": "code",
   "execution_count": 32,
   "id": "4f3ca68e-f882-44eb-85fb-2cb8744e284f",
   "metadata": {},
   "outputs": [
    {
     "name": "stdout",
     "output_type": "stream",
     "text": [
      "15\n",
      "result 15\n"
     ]
    }
   ],
   "source": [
    "def add(a, b):\n",
    "    result = a + b\n",
    "    return result\n",
    "\n",
    "print(add(5,10))\n",
    "\n",
    "op = add(5, 10)\n",
    "print('result',op)\n"
   ]
  },
  {
   "cell_type": "code",
   "execution_count": 33,
   "id": "0ca7d958-497f-45ba-9e5b-2f3eb8a1f51b",
   "metadata": {},
   "outputs": [
    {
     "name": "stdout",
     "output_type": "stream",
     "text": [
      "15\n",
      "None\n",
      "15\n",
      "result None\n"
     ]
    }
   ],
   "source": [
    "def add(a, b):\n",
    "    result = a + b\n",
    "    print(result)\n",
    "\n",
    "print(add(5,10))\n",
    "\n",
    "op = add(5, 10)\n",
    "print('result',op)"
   ]
  },
  {
   "cell_type": "code",
   "execution_count": 34,
   "id": "3a81959e-bb43-428f-aa43-83a41e8c3adc",
   "metadata": {},
   "outputs": [],
   "source": [
    "\n",
    "def largest(a,b):\n",
    "    if a > b:\n",
    "        return a\n",
    "    elif a==b:\n",
    "        return 'equal'\n",
    "    else:\n",
    "        return b\n",
    "        \n",
    "        "
   ]
  },
  {
   "cell_type": "code",
   "execution_count": 35,
   "id": "b6950a83-4c92-4094-9e19-a8ee034fda8a",
   "metadata": {},
   "outputs": [
    {
     "data": {
      "text/plain": [
       "'equal'"
      ]
     },
     "execution_count": 35,
     "metadata": {},
     "output_type": "execute_result"
    }
   ],
   "source": [
    "largest(7, 7)\n"
   ]
  },
  {
   "cell_type": "code",
   "execution_count": 36,
   "id": "21741763-e16c-4c99-ba6f-7b353122ba2f",
   "metadata": {},
   "outputs": [],
   "source": [
    "#perm and comb\n",
    "#ncr = n! / r!(n-r)!"
   ]
  },
  {
   "cell_type": "code",
   "execution_count": null,
   "id": "7cf94ddc-1e2a-410d-b844-9e9250a4a82c",
   "metadata": {},
   "outputs": [],
   "source": [
    "### remaining "
   ]
  },
  {
   "cell_type": "code",
   "execution_count": null,
   "id": "fce80e9c-f0e8-4720-8d3c-eacc633d4aaa",
   "metadata": {},
   "outputs": [],
   "source": [
    "def calc(n):\n",
    "     sq = n * n\n",
    "     cu =n ** 3\n",
    "     return sq, cu"
   ]
  },
  {
   "cell_type": "markdown",
   "id": "0cabf975-dcea-4b9c-94e7-7ea1601b32f2",
   "metadata": {},
   "source": [
    "calc(5)"
   ]
  },
  {
   "cell_type": "code",
   "execution_count": 41,
   "id": "f3440852-7e56-4845-bbd9-b6d143ab256b",
   "metadata": {},
   "outputs": [],
   "source": [
    "#default parameter\n",
    "def add3(a = 5, b = 9, c = 9):\n",
    "    result = a + b + c\n",
    "    return result\n"
   ]
  },
  {
   "cell_type": "code",
   "execution_count": 42,
   "id": "4b08c901-9db8-49dc-aba6-3330c70f48d8",
   "metadata": {},
   "outputs": [
    {
     "data": {
      "text/plain": [
       "23"
      ]
     },
     "execution_count": 42,
     "metadata": {},
     "output_type": "execute_result"
    }
   ],
   "source": [
    "add3()"
   ]
  },
  {
   "cell_type": "code",
   "execution_count": 43,
   "id": "83b94e85-dce6-4acd-ba97-2e7eed949aae",
   "metadata": {},
   "outputs": [],
   "source": [
    "def inl(*a):\n",
    "    print(*a)"
   ]
  },
  {
   "cell_type": "code",
   "execution_count": 44,
   "id": "a8ba2545-5e06-4616-b25d-2467708b4ffc",
   "metadata": {},
   "outputs": [
    {
     "name": "stdout",
     "output_type": "stream",
     "text": [
      "1 22 3 5 6\n"
     ]
    }
   ],
   "source": [
    "inl(1,22,3,5,6)"
   ]
  },
  {
   "cell_type": "code",
   "execution_count": 48,
   "id": "375eb5bb-0bf3-4989-b3c9-8bd99bcc1944",
   "metadata": {},
   "outputs": [],
   "source": [
    "def inl(*a):\n",
    "    for i in a:\n",
    "     print(i)"
   ]
  },
  {
   "cell_type": "code",
   "execution_count": 50,
   "id": "4dd9b723-1c16-447b-a58d-bff80c465611",
   "metadata": {},
   "outputs": [
    {
     "name": "stdout",
     "output_type": "stream",
     "text": [
      "2\n",
      "3\n",
      "4\n",
      "5\n",
      "6\n"
     ]
    }
   ],
   "source": [
    "inl(2,3,4,5,6)\n"
   ]
  },
  {
   "cell_type": "code",
   "execution_count": null,
   "id": "4b58a865-0999-4dfc-b618-b0375c2239fd",
   "metadata": {},
   "outputs": [],
   "source": []
  },
  {
   "cell_type": "code",
   "execution_count": 51,
   "id": "94c5be62-f488-49fa-915c-06d9f9fde850",
   "metadata": {},
   "outputs": [],
   "source": [
    "#lambda function\n",
    "\n",
    "square = lambda x: x * x\n"
   ]
  },
  {
   "cell_type": "code",
   "execution_count": 52,
   "id": "e8590779-86f9-4b43-8164-af1689b17c9b",
   "metadata": {},
   "outputs": [
    {
     "data": {
      "text/plain": [
       "25"
      ]
     },
     "execution_count": 52,
     "metadata": {},
     "output_type": "execute_result"
    }
   ],
   "source": [
    "square(5)\n"
   ]
  },
  {
   "cell_type": "code",
   "execution_count": null,
   "id": "3d90b7eb-054e-40f6-841b-d7b2c51593d4",
   "metadata": {},
   "outputs": [],
   "source": [
    "ad = lambda x,y: x + y"
   ]
  },
  {
   "cell_type": "code",
   "execution_count": null,
   "id": "91e8130e-b9fb-4b0d-8992-51aaf1dec4f5",
   "metadata": {},
   "outputs": [],
   "source": []
  },
  {
   "cell_type": "code",
   "execution_count": 56,
   "id": "91f5e6fc-649c-4cb8-920d-cbaf96f16ffe",
   "metadata": {},
   "outputs": [],
   "source": [
    "#filter\n",
    "\n",
    "num = [23,45,76,13,57,21]"
   ]
  },
  {
   "cell_type": "code",
   "execution_count": 59,
   "id": "7ce20eb2-6f7e-4206-ab63-686b1d0619ea",
   "metadata": {},
   "outputs": [],
   "source": [
    "new = filter(lambda x: x > 40, num)"
   ]
  },
  {
   "cell_type": "code",
   "execution_count": 60,
   "id": "c29e4423-c400-446c-93e1-30ed59e1aefa",
   "metadata": {},
   "outputs": [
    {
     "data": {
      "text/plain": [
       "[45, 76, 57]"
      ]
     },
     "execution_count": 60,
     "metadata": {},
     "output_type": "execute_result"
    }
   ],
   "source": [
    "list(new)"
   ]
  },
  {
   "cell_type": "code",
   "execution_count": 61,
   "id": "31072293-a3e2-4159-aa1f-329065853096",
   "metadata": {},
   "outputs": [],
   "source": [
    "#map\n",
    "\n",
    "new = map(lambda x: x/2,num)\n"
   ]
  },
  {
   "cell_type": "code",
   "execution_count": 62,
   "id": "7e77ee16-6aeb-4710-8216-42246b449aa6",
   "metadata": {},
   "outputs": [
    {
     "data": {
      "text/plain": [
       "[11.5, 22.5, 38.0, 6.5, 28.5, 10.5]"
      ]
     },
     "execution_count": 62,
     "metadata": {},
     "output_type": "execute_result"
    }
   ],
   "source": [
    "list(new)"
   ]
  },
  {
   "cell_type": "code",
   "execution_count": 63,
   "id": "398ed101-5a44-4135-89da-609435359eb8",
   "metadata": {},
   "outputs": [],
   "source": [
    "####module"
   ]
  },
  {
   "cell_type": "code",
   "execution_count": 64,
   "id": "f9a7dcc1-7dcb-4447-9304-8fa07f34c700",
   "metadata": {},
   "outputs": [],
   "source": [
    "import math\n"
   ]
  },
  {
   "cell_type": "code",
   "execution_count": 65,
   "id": "6d2f90b0-d20a-4fbe-9a17-de8a05c16850",
   "metadata": {},
   "outputs": [
    {
     "data": {
      "text/plain": [
       "10.0"
      ]
     },
     "execution_count": 65,
     "metadata": {},
     "output_type": "execute_result"
    }
   ],
   "source": [
    "math.sqrt(100)"
   ]
  },
  {
   "cell_type": "code",
   "execution_count": 66,
   "id": "e39e1935-148b-44ef-b3de-d991690f3e54",
   "metadata": {},
   "outputs": [
    {
     "data": {
      "text/plain": [
       "-0.9880316240928618"
      ]
     },
     "execution_count": 66,
     "metadata": {},
     "output_type": "execute_result"
    }
   ],
   "source": [
    "math.sin(30)\n"
   ]
  },
  {
   "cell_type": "code",
   "execution_count": 67,
   "id": "3a0d4a68-094e-42ed-8340-470412082a0a",
   "metadata": {},
   "outputs": [
    {
     "data": {
      "text/plain": [
       "2.302585092994046"
      ]
     },
     "execution_count": 67,
     "metadata": {},
     "output_type": "execute_result"
    }
   ],
   "source": [
    "math.log(10)\n"
   ]
  },
  {
   "cell_type": "code",
   "execution_count": 69,
   "id": "509c7765-a616-4e50-8ed7-296523039722",
   "metadata": {},
   "outputs": [
    {
     "name": "stdin",
     "output_type": "stream",
     "text": [
      "enter radius 5\n"
     ]
    },
    {
     "name": "stdout",
     "output_type": "stream",
     "text": [
      "area is 78.53981633974483\n"
     ]
    }
   ],
   "source": [
    "#read a radius and find area\n",
    "\n",
    "\n",
    "r = float(input('enter radius'))\n",
    "area= math.pi * r * r\n",
    "print('area is',area)\n"
   ]
  },
  {
   "cell_type": "raw",
   "id": "31ab3e26-a94a-4b0e-89fa-d50f998e097a",
   "metadata": {},
   "source": []
  },
  {
   "cell_type": "code",
   "execution_count": 72,
   "id": "edc4f969-9633-43a5-8b79-a8a664e11331",
   "metadata": {},
   "outputs": [],
   "source": [
    "import time\n"
   ]
  },
  {
   "cell_type": "code",
   "execution_count": 73,
   "id": "60b5b39b-96ce-4cdf-94b9-a47070c2f25a",
   "metadata": {},
   "outputs": [
    {
     "data": {
      "text/plain": [
       "'Mon Jun 10 12:13:05 2024'"
      ]
     },
     "execution_count": 73,
     "metadata": {},
     "output_type": "execute_result"
    }
   ],
   "source": [
    "time.asctime()"
   ]
  },
  {
   "cell_type": "code",
   "execution_count": 74,
   "id": "7fc39bc1-35ce-4255-a6be-3e1d8a0ed943",
   "metadata": {},
   "outputs": [
    {
     "name": "stdout",
     "output_type": "stream",
     "text": [
      "hello\n",
      "ok\n"
     ]
    }
   ],
   "source": [
    "print(\"hello\")\n",
    "time.sleep(5)\n",
    "print('ok')\n"
   ]
  },
  {
   "cell_type": "code",
   "execution_count": 75,
   "id": "833d4212-82e9-459a-ab08-27e66b824206",
   "metadata": {},
   "outputs": [],
   "source": [
    "#giving an alias\n",
    "\n",
    "import math as m"
   ]
  },
  {
   "cell_type": "code",
   "execution_count": 77,
   "id": "b4c164a1-20b0-4488-8f4b-ec6747ab50e0",
   "metadata": {},
   "outputs": [
    {
     "data": {
      "text/plain": [
       "2.23606797749979"
      ]
     },
     "execution_count": 77,
     "metadata": {},
     "output_type": "execute_result"
    }
   ],
   "source": [
    "m.sqrt(5)"
   ]
  },
  {
   "cell_type": "code",
   "execution_count": null,
   "id": "c8bf47ee-142c-4c12-a332-887334d689af",
   "metadata": {},
   "outputs": [],
   "source": [
    "#.."
   ]
  },
  {
   "cell_type": "code",
   "execution_count": 80,
   "id": "72e7156e-9816-4223-bffb-4beee37aa9a3",
   "metadata": {},
   "outputs": [],
   "source": [
    "# selective imports\n",
    "from math import sqrt, sin, pi"
   ]
  },
  {
   "cell_type": "code",
   "execution_count": 81,
   "id": "168406b1-f27f-4a3f-9ec4-98c51e0619a0",
   "metadata": {},
   "outputs": [
    {
     "data": {
      "text/plain": [
       "2.23606797749979"
      ]
     },
     "execution_count": 81,
     "metadata": {},
     "output_type": "execute_result"
    }
   ],
   "source": [
    "sqrt(5)\n"
   ]
  },
  {
   "cell_type": "code",
   "execution_count": 82,
   "id": "95c0dad4-f571-4b81-913f-8a91fc351ca5",
   "metadata": {},
   "outputs": [
    {
     "data": {
      "text/plain": [
       "3.141592653589793"
      ]
     },
     "execution_count": 82,
     "metadata": {},
     "output_type": "execute_result"
    }
   ],
   "source": [
    "pi"
   ]
  },
  {
   "cell_type": "code",
   "execution_count": 83,
   "id": "aec73de2-24d5-4f7c-8bb1-713911f55511",
   "metadata": {},
   "outputs": [
    {
     "data": {
      "text/plain": [
       "<function math.sin(x, /)>"
      ]
     },
     "execution_count": 83,
     "metadata": {},
     "output_type": "execute_result"
    }
   ],
   "source": [
    "sin"
   ]
  },
  {
   "cell_type": "code",
   "execution_count": 85,
   "id": "dd3cf069-0ca7-45b4-a1f3-fb4d85918a3d",
   "metadata": {},
   "outputs": [
    {
     "ename": "ModuleNotFoundError",
     "evalue": "No module named 'mod1'",
     "output_type": "error",
     "traceback": [
      "\u001b[1;31m---------------------------------------------------------------------------\u001b[0m",
      "\u001b[1;31mModuleNotFoundError\u001b[0m                       Traceback (most recent call last)",
      "Cell \u001b[1;32mIn[85], line 1\u001b[0m\n\u001b[1;32m----> 1\u001b[0m \u001b[38;5;28;01mimport\u001b[39;00m \u001b[38;5;21;01mmod1\u001b[39;00m\n",
      "\u001b[1;31mModuleNotFoundError\u001b[0m: No module named 'mod1'"
     ]
    }
   ],
   "source": [
    "import mod1"
   ]
  },
  {
   "cell_type": "code",
   "execution_count": 84,
   "id": "c49329d7-7cb2-4013-aa33-6217eeaa734e",
   "metadata": {},
   "outputs": [],
   "source": [
    "def dis():\n",
    "    print('hello')\n",
    "    print('this is amodule')"
   ]
  },
  {
   "cell_type": "code",
   "execution_count": null,
   "id": "9d58a83f-0268-44df-a8f7-16160d6d3b57",
   "metadata": {},
   "outputs": [],
   "source": [
    "a = 5"
   ]
  }
 ],
 "metadata": {
  "kernelspec": {
   "display_name": "Python 3 (ipykernel)",
   "language": "python",
   "name": "python3"
  },
  "language_info": {
   "codemirror_mode": {
    "name": "ipython",
    "version": 3
   },
   "file_extension": ".py",
   "mimetype": "text/x-python",
   "name": "python",
   "nbconvert_exporter": "python",
   "pygments_lexer": "ipython3",
   "version": "3.11.7"
  }
 },
 "nbformat": 4,
 "nbformat_minor": 5
}
