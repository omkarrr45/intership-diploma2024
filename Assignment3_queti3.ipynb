{
 "cells": [
  {
   "cell_type": "code",
   "execution_count": null,
   "id": "45f20e2d-6958-4ed0-913c-dbcce9330b0f",
   "metadata": {},
   "outputs": [],
   "source": [
    "# This Python 3 environment comes with many helpful analytics libraries installed\n",
    "# It is defined by the kaggle/python Docker image: https://github.com/kaggle/docker-python\n",
    "# For example, here's several helpful packages to load\n",
    "import numpy as np # linear algebra\n",
    "import pandas as pd # data processing, CSV file I/O (e.g. pd.read_csv)\n",
    "# Input data files are available in the read-only \"../input/\" directory\n",
    "# For example, running this (by clicking run or pressing Shift+Enter) will list all files under the input directory\n",
    "import os\n",
    "for dirname, _, filenames in os.walk('/kaggle/input'):\n",
    "    for filename in filenames:\n",
    "        print(os.path.join(dirname, filename))\n",
    "# You can write up to 20GB to the current directory (/kaggle/working/) that gets preserved as output when you create a version using \"Save & Run All\" \n",
    "# You can also write temporary files to /kaggle/temp/, but they won't be saved outside of the current session"
   ]
  },
  {
   "cell_type": "code",
   "execution_count": 1,
   "id": "751fce6c-adce-4f4d-86e1-7ac7801f7a60",
   "metadata": {},
   "outputs": [],
   "source": [
    "import pandas as pd\n",
    "import numpy as np\n",
    "import matplotlib.pyplot as plt\n",
    "import seaborn as sns"
   ]
  },
  {
   "cell_type": "code",
   "execution_count": 2,
   "id": "fdac97fc-ac92-4350-a4f1-c802c7a84d2a",
   "metadata": {},
   "outputs": [],
   "source": [
    "df = pd.read_csv('CWC23_all_innings.csv')"
   ]
  },
  {
   "cell_type": "code",
   "execution_count": 3,
   "id": "5c1f4489-d2ca-4d1d-bbd1-681e2a459a8a",
   "metadata": {},
   "outputs": [
    {
     "data": {
      "text/plain": [
       "(1437, 20)"
      ]
     },
     "execution_count": 3,
     "metadata": {},
     "output_type": "execute_result"
    }
   ],
   "source": [
    "df.shape\n"
   ]
  },
  {
   "cell_type": "code",
   "execution_count": 4,
   "id": "5cbf61a2-3082-4be0-ae9a-9398a504e8ba",
   "metadata": {},
   "outputs": [
    {
     "data": {
      "text/plain": [
       "28740"
      ]
     },
     "execution_count": 4,
     "metadata": {},
     "output_type": "execute_result"
    }
   ],
   "source": [
    "df.size"
   ]
  },
  {
   "cell_type": "code",
   "execution_count": 30,
   "id": "3cb2f9d9-4887-449c-be78-18a189ec357a",
   "metadata": {},
   "outputs": [
    {
     "data": {
      "text/plain": [
       "<bound method NDFrame.describe of      team                     player bat_or_bowl  bb_bf  runs  wkts  \\\n",
       "0     PAK  Shaheen Shah Afridi (PAK)        bowl     60    45   3.0   \n",
       "1     ENG            DJ Willey (ENG)        bowl     60    45   3.0   \n",
       "2      NZ              MJ Henry (NZ)        bowl     60    48   3.0   \n",
       "3      NZ           LH Ferguson (NZ)        bowl     60    49   3.0   \n",
       "4     AFG           Noor Ahmad (AFG)        bowl     60    49   3.0   \n",
       "...   ...                        ...         ...    ...   ...   ...   \n",
       "1432  IND       Mohammed Shami (IND)        bowl     42    47   1.0   \n",
       "1433  AUS              TM Head (AUS)        bowl     12     4   0.0   \n",
       "1434  AUS             MR Marsh (AUS)        bowl     12     5   0.0   \n",
       "1435  IND            RA Jadeja (IND)        bowl     60    43   0.0   \n",
       "1436  IND        Kuldeep Yadav (IND)        bowl     60    56   0.0   \n",
       "\n",
       "      wicketball_prob  runs_per_ball      opposition     ground start_date  \\\n",
       "0             0.05000       0.750000  v South Africa    Chennai  27-Oct-23   \n",
       "1             0.05000       0.750000         v India    Lucknow  29-Oct-23   \n",
       "2             0.05000       0.800000       v England  Ahmedabad   5-Oct-23   \n",
       "3             0.05000       0.816667    v Bangladesh    Chennai  13-Oct-23   \n",
       "4             0.05000       0.816667      v Pakistan    Chennai  23-Oct-23   \n",
       "...               ...            ...             ...        ...        ...   \n",
       "1432          0.02381       1.119048     v Australia  Ahmedabad  19-Nov-23   \n",
       "1433          0.00000       0.333333         v India  Ahmedabad  19-Nov-23   \n",
       "1434          0.00000       0.416667         v India  Ahmedabad  19-Nov-23   \n",
       "1435          0.00000       0.716667     v Australia  Ahmedabad  19-Nov-23   \n",
       "1436          0.00000       0.933333     v Australia  Ahmedabad  19-Nov-23   \n",
       "\n",
       "      overs  mdns  econ  inns  4s  6s  sr  not_out  mins  \n",
       "0      10.0   0.0  4.50     2 NaN NaN NaN      NaN   NaN  \n",
       "1      10.0   2.0  4.50     1 NaN NaN NaN      NaN   NaN  \n",
       "2      10.0   1.0  4.80     1 NaN NaN NaN      NaN   NaN  \n",
       "3      10.0   0.0  4.90     1 NaN NaN NaN      NaN   NaN  \n",
       "4      10.0   0.0  4.90     1 NaN NaN NaN      NaN   NaN  \n",
       "...     ...   ...   ...   ...  ..  ..  ..      ...   ...  \n",
       "1432    7.0   1.0  6.71     2 NaN NaN NaN      NaN   NaN  \n",
       "1433    2.0   0.0  2.00     1 NaN NaN NaN      NaN   NaN  \n",
       "1434    2.0   0.0  2.50     1 NaN NaN NaN      NaN   NaN  \n",
       "1435   10.0   0.0  4.30     2 NaN NaN NaN      NaN   NaN  \n",
       "1436   10.0   0.0  5.60     2 NaN NaN NaN      NaN   NaN  \n",
       "\n",
       "[1437 rows x 20 columns]>"
      ]
     },
     "execution_count": 30,
     "metadata": {},
     "output_type": "execute_result"
    }
   ],
   "source": [
    "df.describe"
   ]
  },
  {
   "cell_type": "code",
   "execution_count": 5,
   "id": "d40487ea-62d8-4e0e-82c5-ae7c5e515176",
   "metadata": {},
   "outputs": [
    {
     "name": "stdout",
     "output_type": "stream",
     "text": [
      "<class 'pandas.core.frame.DataFrame'>\n",
      "RangeIndex: 1437 entries, 0 to 1436\n",
      "Data columns (total 20 columns):\n",
      " #   Column           Non-Null Count  Dtype  \n",
      "---  ------           --------------  -----  \n",
      " 0   team             1437 non-null   object \n",
      " 1   player           1437 non-null   object \n",
      " 2   bat_or_bowl      1437 non-null   object \n",
      " 3   bb_bf            1437 non-null   int64  \n",
      " 4   runs             1437 non-null   int64  \n",
      " 5   wkts             574 non-null    float64\n",
      " 6   wicketball_prob  1437 non-null   float64\n",
      " 7   runs_per_ball    1437 non-null   float64\n",
      " 8   opposition       1437 non-null   object \n",
      " 9   ground           1437 non-null   object \n",
      " 10  start_date       1437 non-null   object \n",
      " 11  overs            574 non-null    float64\n",
      " 12  mdns             574 non-null    float64\n",
      " 13  econ             574 non-null    float64\n",
      " 14  inns             1437 non-null   int64  \n",
      " 15  4s               863 non-null    float64\n",
      " 16  6s               863 non-null    float64\n",
      " 17  sr               863 non-null    float64\n",
      " 18  not_out          849 non-null    float64\n",
      " 19  mins             863 non-null    float64\n",
      "dtypes: float64(11), int64(3), object(6)\n",
      "memory usage: 224.7+ KB\n"
     ]
    }
   ],
   "source": [
    "df.info()\n"
   ]
  },
  {
   "cell_type": "code",
   "execution_count": 6,
   "id": "2a320a2b-0504-4be4-a59d-0d18d18cf6b4",
   "metadata": {},
   "outputs": [
    {
     "data": {
      "text/plain": [
       "team                0.00\n",
       "player              0.00\n",
       "bat_or_bowl         0.00\n",
       "bb_bf               0.00\n",
       "runs                0.00\n",
       "wkts               60.06\n",
       "wicketball_prob     0.00\n",
       "runs_per_ball       0.00\n",
       "opposition          0.00\n",
       "ground              0.00\n",
       "start_date          0.00\n",
       "overs              60.06\n",
       "mdns               60.06\n",
       "econ               60.06\n",
       "inns                0.00\n",
       "4s                 39.94\n",
       "6s                 39.94\n",
       "sr                 39.94\n",
       "not_out            40.92\n",
       "mins               39.94\n",
       "dtype: float64"
      ]
     },
     "execution_count": 6,
     "metadata": {},
     "output_type": "execute_result"
    }
   ],
   "source": [
    "df_null = round(df.isna().sum()*100/len(df),2)\n",
    "df_null"
   ]
  },
  {
   "cell_type": "code",
   "execution_count": 7,
   "id": "df2fd82d-3022-48ba-af46-1cafae114309",
   "metadata": {},
   "outputs": [
    {
     "data": {
      "text/html": [
       "<div>\n",
       "<style scoped>\n",
       "    .dataframe tbody tr th:only-of-type {\n",
       "        vertical-align: middle;\n",
       "    }\n",
       "\n",
       "    .dataframe tbody tr th {\n",
       "        vertical-align: top;\n",
       "    }\n",
       "\n",
       "    .dataframe thead th {\n",
       "        text-align: right;\n",
       "    }\n",
       "</style>\n",
       "<table border=\"1\" class=\"dataframe\">\n",
       "  <thead>\n",
       "    <tr style=\"text-align: right;\">\n",
       "      <th></th>\n",
       "      <th>team</th>\n",
       "      <th>player</th>\n",
       "      <th>bat_or_bowl</th>\n",
       "      <th>bb_bf</th>\n",
       "      <th>runs</th>\n",
       "      <th>wkts</th>\n",
       "      <th>wicketball_prob</th>\n",
       "      <th>runs_per_ball</th>\n",
       "      <th>opposition</th>\n",
       "      <th>ground</th>\n",
       "      <th>start_date</th>\n",
       "      <th>overs</th>\n",
       "      <th>mdns</th>\n",
       "      <th>econ</th>\n",
       "      <th>inns</th>\n",
       "      <th>4s</th>\n",
       "      <th>6s</th>\n",
       "      <th>sr</th>\n",
       "      <th>not_out</th>\n",
       "      <th>mins</th>\n",
       "    </tr>\n",
       "  </thead>\n",
       "  <tbody>\n",
       "    <tr>\n",
       "      <th>0</th>\n",
       "      <td>PAK</td>\n",
       "      <td>Shaheen Shah Afridi (PAK)</td>\n",
       "      <td>bowl</td>\n",
       "      <td>60</td>\n",
       "      <td>45</td>\n",
       "      <td>3.0</td>\n",
       "      <td>0.05000</td>\n",
       "      <td>0.750000</td>\n",
       "      <td>v South Africa</td>\n",
       "      <td>Chennai</td>\n",
       "      <td>27-Oct-23</td>\n",
       "      <td>10.0</td>\n",
       "      <td>0.0</td>\n",
       "      <td>4.50</td>\n",
       "      <td>2</td>\n",
       "      <td>NaN</td>\n",
       "      <td>NaN</td>\n",
       "      <td>NaN</td>\n",
       "      <td>NaN</td>\n",
       "      <td>NaN</td>\n",
       "    </tr>\n",
       "    <tr>\n",
       "      <th>1</th>\n",
       "      <td>ENG</td>\n",
       "      <td>DJ Willey (ENG)</td>\n",
       "      <td>bowl</td>\n",
       "      <td>60</td>\n",
       "      <td>45</td>\n",
       "      <td>3.0</td>\n",
       "      <td>0.05000</td>\n",
       "      <td>0.750000</td>\n",
       "      <td>v India</td>\n",
       "      <td>Lucknow</td>\n",
       "      <td>29-Oct-23</td>\n",
       "      <td>10.0</td>\n",
       "      <td>2.0</td>\n",
       "      <td>4.50</td>\n",
       "      <td>1</td>\n",
       "      <td>NaN</td>\n",
       "      <td>NaN</td>\n",
       "      <td>NaN</td>\n",
       "      <td>NaN</td>\n",
       "      <td>NaN</td>\n",
       "    </tr>\n",
       "    <tr>\n",
       "      <th>2</th>\n",
       "      <td>NZ</td>\n",
       "      <td>MJ Henry (NZ)</td>\n",
       "      <td>bowl</td>\n",
       "      <td>60</td>\n",
       "      <td>48</td>\n",
       "      <td>3.0</td>\n",
       "      <td>0.05000</td>\n",
       "      <td>0.800000</td>\n",
       "      <td>v England</td>\n",
       "      <td>Ahmedabad</td>\n",
       "      <td>5-Oct-23</td>\n",
       "      <td>10.0</td>\n",
       "      <td>1.0</td>\n",
       "      <td>4.80</td>\n",
       "      <td>1</td>\n",
       "      <td>NaN</td>\n",
       "      <td>NaN</td>\n",
       "      <td>NaN</td>\n",
       "      <td>NaN</td>\n",
       "      <td>NaN</td>\n",
       "    </tr>\n",
       "    <tr>\n",
       "      <th>3</th>\n",
       "      <td>NZ</td>\n",
       "      <td>LH Ferguson (NZ)</td>\n",
       "      <td>bowl</td>\n",
       "      <td>60</td>\n",
       "      <td>49</td>\n",
       "      <td>3.0</td>\n",
       "      <td>0.05000</td>\n",
       "      <td>0.816667</td>\n",
       "      <td>v Bangladesh</td>\n",
       "      <td>Chennai</td>\n",
       "      <td>13-Oct-23</td>\n",
       "      <td>10.0</td>\n",
       "      <td>0.0</td>\n",
       "      <td>4.90</td>\n",
       "      <td>1</td>\n",
       "      <td>NaN</td>\n",
       "      <td>NaN</td>\n",
       "      <td>NaN</td>\n",
       "      <td>NaN</td>\n",
       "      <td>NaN</td>\n",
       "    </tr>\n",
       "    <tr>\n",
       "      <th>4</th>\n",
       "      <td>AFG</td>\n",
       "      <td>Noor Ahmad (AFG)</td>\n",
       "      <td>bowl</td>\n",
       "      <td>60</td>\n",
       "      <td>49</td>\n",
       "      <td>3.0</td>\n",
       "      <td>0.05000</td>\n",
       "      <td>0.816667</td>\n",
       "      <td>v Pakistan</td>\n",
       "      <td>Chennai</td>\n",
       "      <td>23-Oct-23</td>\n",
       "      <td>10.0</td>\n",
       "      <td>0.0</td>\n",
       "      <td>4.90</td>\n",
       "      <td>1</td>\n",
       "      <td>NaN</td>\n",
       "      <td>NaN</td>\n",
       "      <td>NaN</td>\n",
       "      <td>NaN</td>\n",
       "      <td>NaN</td>\n",
       "    </tr>\n",
       "    <tr>\n",
       "      <th>...</th>\n",
       "      <td>...</td>\n",
       "      <td>...</td>\n",
       "      <td>...</td>\n",
       "      <td>...</td>\n",
       "      <td>...</td>\n",
       "      <td>...</td>\n",
       "      <td>...</td>\n",
       "      <td>...</td>\n",
       "      <td>...</td>\n",
       "      <td>...</td>\n",
       "      <td>...</td>\n",
       "      <td>...</td>\n",
       "      <td>...</td>\n",
       "      <td>...</td>\n",
       "      <td>...</td>\n",
       "      <td>...</td>\n",
       "      <td>...</td>\n",
       "      <td>...</td>\n",
       "      <td>...</td>\n",
       "      <td>...</td>\n",
       "    </tr>\n",
       "    <tr>\n",
       "      <th>1432</th>\n",
       "      <td>IND</td>\n",
       "      <td>Mohammed Shami (IND)</td>\n",
       "      <td>bowl</td>\n",
       "      <td>42</td>\n",
       "      <td>47</td>\n",
       "      <td>1.0</td>\n",
       "      <td>0.02381</td>\n",
       "      <td>1.119048</td>\n",
       "      <td>v Australia</td>\n",
       "      <td>Ahmedabad</td>\n",
       "      <td>19-Nov-23</td>\n",
       "      <td>7.0</td>\n",
       "      <td>1.0</td>\n",
       "      <td>6.71</td>\n",
       "      <td>2</td>\n",
       "      <td>NaN</td>\n",
       "      <td>NaN</td>\n",
       "      <td>NaN</td>\n",
       "      <td>NaN</td>\n",
       "      <td>NaN</td>\n",
       "    </tr>\n",
       "    <tr>\n",
       "      <th>1433</th>\n",
       "      <td>AUS</td>\n",
       "      <td>TM Head (AUS)</td>\n",
       "      <td>bowl</td>\n",
       "      <td>12</td>\n",
       "      <td>4</td>\n",
       "      <td>0.0</td>\n",
       "      <td>0.00000</td>\n",
       "      <td>0.333333</td>\n",
       "      <td>v India</td>\n",
       "      <td>Ahmedabad</td>\n",
       "      <td>19-Nov-23</td>\n",
       "      <td>2.0</td>\n",
       "      <td>0.0</td>\n",
       "      <td>2.00</td>\n",
       "      <td>1</td>\n",
       "      <td>NaN</td>\n",
       "      <td>NaN</td>\n",
       "      <td>NaN</td>\n",
       "      <td>NaN</td>\n",
       "      <td>NaN</td>\n",
       "    </tr>\n",
       "    <tr>\n",
       "      <th>1434</th>\n",
       "      <td>AUS</td>\n",
       "      <td>MR Marsh (AUS)</td>\n",
       "      <td>bowl</td>\n",
       "      <td>12</td>\n",
       "      <td>5</td>\n",
       "      <td>0.0</td>\n",
       "      <td>0.00000</td>\n",
       "      <td>0.416667</td>\n",
       "      <td>v India</td>\n",
       "      <td>Ahmedabad</td>\n",
       "      <td>19-Nov-23</td>\n",
       "      <td>2.0</td>\n",
       "      <td>0.0</td>\n",
       "      <td>2.50</td>\n",
       "      <td>1</td>\n",
       "      <td>NaN</td>\n",
       "      <td>NaN</td>\n",
       "      <td>NaN</td>\n",
       "      <td>NaN</td>\n",
       "      <td>NaN</td>\n",
       "    </tr>\n",
       "    <tr>\n",
       "      <th>1435</th>\n",
       "      <td>IND</td>\n",
       "      <td>RA Jadeja (IND)</td>\n",
       "      <td>bowl</td>\n",
       "      <td>60</td>\n",
       "      <td>43</td>\n",
       "      <td>0.0</td>\n",
       "      <td>0.00000</td>\n",
       "      <td>0.716667</td>\n",
       "      <td>v Australia</td>\n",
       "      <td>Ahmedabad</td>\n",
       "      <td>19-Nov-23</td>\n",
       "      <td>10.0</td>\n",
       "      <td>0.0</td>\n",
       "      <td>4.30</td>\n",
       "      <td>2</td>\n",
       "      <td>NaN</td>\n",
       "      <td>NaN</td>\n",
       "      <td>NaN</td>\n",
       "      <td>NaN</td>\n",
       "      <td>NaN</td>\n",
       "    </tr>\n",
       "    <tr>\n",
       "      <th>1436</th>\n",
       "      <td>IND</td>\n",
       "      <td>Kuldeep Yadav (IND)</td>\n",
       "      <td>bowl</td>\n",
       "      <td>60</td>\n",
       "      <td>56</td>\n",
       "      <td>0.0</td>\n",
       "      <td>0.00000</td>\n",
       "      <td>0.933333</td>\n",
       "      <td>v Australia</td>\n",
       "      <td>Ahmedabad</td>\n",
       "      <td>19-Nov-23</td>\n",
       "      <td>10.0</td>\n",
       "      <td>0.0</td>\n",
       "      <td>5.60</td>\n",
       "      <td>2</td>\n",
       "      <td>NaN</td>\n",
       "      <td>NaN</td>\n",
       "      <td>NaN</td>\n",
       "      <td>NaN</td>\n",
       "      <td>NaN</td>\n",
       "    </tr>\n",
       "  </tbody>\n",
       "</table>\n",
       "<p>1437 rows × 20 columns</p>\n",
       "</div>"
      ],
      "text/plain": [
       "     team                     player bat_or_bowl  bb_bf  runs  wkts  \\\n",
       "0     PAK  Shaheen Shah Afridi (PAK)        bowl     60    45   3.0   \n",
       "1     ENG            DJ Willey (ENG)        bowl     60    45   3.0   \n",
       "2      NZ              MJ Henry (NZ)        bowl     60    48   3.0   \n",
       "3      NZ           LH Ferguson (NZ)        bowl     60    49   3.0   \n",
       "4     AFG           Noor Ahmad (AFG)        bowl     60    49   3.0   \n",
       "...   ...                        ...         ...    ...   ...   ...   \n",
       "1432  IND       Mohammed Shami (IND)        bowl     42    47   1.0   \n",
       "1433  AUS              TM Head (AUS)        bowl     12     4   0.0   \n",
       "1434  AUS             MR Marsh (AUS)        bowl     12     5   0.0   \n",
       "1435  IND            RA Jadeja (IND)        bowl     60    43   0.0   \n",
       "1436  IND        Kuldeep Yadav (IND)        bowl     60    56   0.0   \n",
       "\n",
       "      wicketball_prob  runs_per_ball      opposition     ground start_date  \\\n",
       "0             0.05000       0.750000  v South Africa    Chennai  27-Oct-23   \n",
       "1             0.05000       0.750000         v India    Lucknow  29-Oct-23   \n",
       "2             0.05000       0.800000       v England  Ahmedabad   5-Oct-23   \n",
       "3             0.05000       0.816667    v Bangladesh    Chennai  13-Oct-23   \n",
       "4             0.05000       0.816667      v Pakistan    Chennai  23-Oct-23   \n",
       "...               ...            ...             ...        ...        ...   \n",
       "1432          0.02381       1.119048     v Australia  Ahmedabad  19-Nov-23   \n",
       "1433          0.00000       0.333333         v India  Ahmedabad  19-Nov-23   \n",
       "1434          0.00000       0.416667         v India  Ahmedabad  19-Nov-23   \n",
       "1435          0.00000       0.716667     v Australia  Ahmedabad  19-Nov-23   \n",
       "1436          0.00000       0.933333     v Australia  Ahmedabad  19-Nov-23   \n",
       "\n",
       "      overs  mdns  econ  inns  4s  6s  sr  not_out  mins  \n",
       "0      10.0   0.0  4.50     2 NaN NaN NaN      NaN   NaN  \n",
       "1      10.0   2.0  4.50     1 NaN NaN NaN      NaN   NaN  \n",
       "2      10.0   1.0  4.80     1 NaN NaN NaN      NaN   NaN  \n",
       "3      10.0   0.0  4.90     1 NaN NaN NaN      NaN   NaN  \n",
       "4      10.0   0.0  4.90     1 NaN NaN NaN      NaN   NaN  \n",
       "...     ...   ...   ...   ...  ..  ..  ..      ...   ...  \n",
       "1432    7.0   1.0  6.71     2 NaN NaN NaN      NaN   NaN  \n",
       "1433    2.0   0.0  2.00     1 NaN NaN NaN      NaN   NaN  \n",
       "1434    2.0   0.0  2.50     1 NaN NaN NaN      NaN   NaN  \n",
       "1435   10.0   0.0  4.30     2 NaN NaN NaN      NaN   NaN  \n",
       "1436   10.0   0.0  5.60     2 NaN NaN NaN      NaN   NaN  \n",
       "\n",
       "[1437 rows x 20 columns]"
      ]
     },
     "execution_count": 7,
     "metadata": {},
     "output_type": "execute_result"
    }
   ],
   "source": [
    "df\n"
   ]
  },
  {
   "cell_type": "code",
   "execution_count": 8,
   "id": "17de684c-4713-49b1-824c-faa7597a7c1d",
   "metadata": {},
   "outputs": [
    {
     "data": {
      "text/plain": [
       "count        1437\n",
       "unique         10\n",
       "top       v India\n",
       "freq          179\n",
       "Name: opposition, dtype: object"
      ]
     },
     "execution_count": 8,
     "metadata": {},
     "output_type": "execute_result"
    }
   ],
   "source": [
    "df['opposition'].describe()\n"
   ]
  },
  {
   "cell_type": "code",
   "execution_count": 35,
   "id": "23e8e2d6-6ec5-4253-9214-57e76c105e48",
   "metadata": {},
   "outputs": [
    {
     "data": {
      "image/png": "[encoded data removed]",
      "text/plain": [
       "<Figure size 640x480 with 1 Axes>"
      ]
     },
     "metadata": {},
     "output_type": "display_data"
    }
   ],
   "source": [
    "plt.boxplot(df['runs']);\n",
    "plt.title('Outliers in data');"
   ]
  },
  {
   "cell_type": "code",
   "execution_count": 37,
   "id": "4c1ca901-ef6a-4192-9fe7-76cd2ba4286f",
   "metadata": {},
   "outputs": [],
   "source": [
    "q3  = np.percentile(df['runs'],85)\n",
    "q2 = np.percentile(df['runs'],25)\n",
    "iqr = q3 -q2\n",
    "ub = q3 +(1.5 * iqr)\n",
    "lb = q2-(1.5 * iqr)\n",
    "\n",
    "df  = df[(df['runs'] <= ub) & (df['runs'] >=lb)]"
   ]
  },
  {
   "cell_type": "code",
   "execution_count": 38,
   "id": "8f56132b-2249-4eb9-ba78-f43a4d35fe84",
   "metadata": {},
   "outputs": [
    {
     "data": {
      "image/png": "[encoded data removed]",
      "text/plain": [
       "<Figure size 640x480 with 1 Axes>"
      ]
     },
     "metadata": {},
     "output_type": "display_data"
    }
   ],
   "source": [
    "plt.boxplot(df['runs']);\n",
    "plt.title('Outliers in data');"
   ]
  },
  {
   "cell_type": "code",
   "execution_count": 20,
   "id": "4588e31b-f2cc-46a1-a80d-49d3c71e13a2",
   "metadata": {},
   "outputs": [
    {
     "data": {
      "image/png": "[encoded data removed]",
      "text/plain": [
       "<Figure size 640x480 with 1 Axes>"
      ]
     },
     "metadata": {},
     "output_type": "display_data"
    }
   ],
   "source": [
    "df['runs'].hist(bins=30)\n",
    "plt.show()"
   ]
  },
  {
   "cell_type": "code",
   "execution_count": 23,
   "id": "adbbfbd9-2215-4508-972f-63732b617b0c",
   "metadata": {},
   "outputs": [
    {
     "data": {
      "image/png": "[encoded data removed]",
      "text/plain": [
       "<Figure size 640x480 with 1 Axes>"
      ]
     },
     "metadata": {},
     "output_type": "display_data"
    }
   ],
   "source": [
    "df['wkts'].hist(bins=30)\n",
    "plt.show()"
   ]
  },
  {
   "cell_type": "code",
   "execution_count": 34,
   "id": "f84f8703-42d3-4430-8ff7-d8eb0660e830",
   "metadata": {},
   "outputs": [
    {
     "data": {
      "image/png": "[encoded data removed]",
      "text/plain": [
       "<Figure size 640x480 with 1 Axes>"
      ]
     },
     "metadata": {},
     "output_type": "display_data"
    }
   ],
   "source": [
    "\n",
    "plt.hist(df['wkts'],histtype='step',color = 'orange',bins = 20);\n"
   ]
  },
  {
   "cell_type": "code",
   "execution_count": null,
   "id": "871c2bd3-1915-4de7-8cab-ab4f5c5e24e8",
   "metadata": {},
   "outputs": [],
   "source": []
  }
 ],
 "metadata": {
  "kernelspec": {
   "display_name": "Python 3 (ipykernel)",
   "language": "python",
   "name": "python3"
  },
  "language_info": {
   "codemirror_mode": {
    "name": "ipython",
    "version": 3
   },
   "file_extension": ".py",
   "mimetype": "text/x-python",
   "name": "python",
   "nbconvert_exporter": "python",
   "pygments_lexer": "ipython3",
   "version": "3.11.7"
  }
 },
 "nbformat": 4,
 "nbformat_minor": 5
}
