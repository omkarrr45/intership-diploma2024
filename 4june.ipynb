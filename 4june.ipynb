{
 "cells": [
  {
   "cell_type": "code",
   "execution_count": 1,
   "id": "5d916404-8823-49b0-95c5-eb0ad68ca2ff",
   "metadata": {},
   "outputs": [],
   "source": [
    "#check if a number is positive or negative"
   ]
  },
  {
   "cell_type": "code",
   "execution_count": 2,
   "id": "d48da516-6b97-485b-8043-b383bf3c4c16",
   "metadata": {},
   "outputs": [
    {
     "name": "stdin",
     "output_type": "stream",
     "text": [
      "enter the number 7\n"
     ]
    },
    {
     "name": "stdout",
     "output_type": "stream",
     "text": [
      "positive\n",
      "ok\n"
     ]
    }
   ],
   "source": [
    "num=int(input ('enter the number'))\n",
    "if num>0:print('positive') ;print('ok')\n",
    "else:print('negative') ;print('goodbye')"
   ]
  },
  {
   "cell_type": "code",
   "execution_count": 3,
   "id": "d18a2ee7-01b8-4d56-a742-4e4af493853a",
   "metadata": {},
   "outputs": [
    {
     "name": "stdin",
     "output_type": "stream",
     "text": [
      "enter the number 0\n"
     ]
    },
    {
     "name": "stdout",
     "output_type": "stream",
     "text": [
      "zero\n"
     ]
    }
   ],
   "source": [
    "num=int(input('enter the number'))\n",
    "if num>0:\n",
    "    print('positve')\n",
    "elif num==0:\n",
    "    print('zero')\n",
    "else:\n",
    "    print('negative')\n",
    "    "
   ]
  },
  {
   "cell_type": "code",
   "execution_count": 4,
   "id": "a9c53c51-1e74-4da2-aba3-62dfaee0ad2e",
   "metadata": {},
   "outputs": [],
   "source": [
    "\n",
    "#even odd "
   ]
  },
  {
   "cell_type": "code",
   "execution_count": 5,
   "id": "3fd37962-5ef8-458f-a6bf-f02af2b731aa",
   "metadata": {},
   "outputs": [
    {
     "name": "stdin",
     "output_type": "stream",
     "text": [
      "enter the number 5\n"
     ]
    },
    {
     "name": "stdout",
     "output_type": "stream",
     "text": [
      "odd\n"
     ]
    }
   ],
   "source": [
    "num=int(input('enter the number'))\n",
    "if num%2==0:print('even')\n",
    "else:print('odd')"
   ]
  },
  {
   "cell_type": "code",
   "execution_count": 6,
   "id": "26765f26-2cd5-49c9-a930-e9df7901f637",
   "metadata": {},
   "outputs": [
    {
     "name": "stdout",
     "output_type": "stream",
     "text": [
      "ok\n"
     ]
    }
   ],
   "source": [
    "\n",
    "a=56\n",
    "if a:\n",
    "    print('ok')"
   ]
  },
  {
   "cell_type": "code",
   "execution_count": 7,
   "id": "159c555f-7676-4903-94d1-3d9db8be79f6",
   "metadata": {},
   "outputs": [],
   "source": [
    "#check if the number is in between 50 and 150"
   ]
  },
  {
   "cell_type": "code",
   "execution_count": 8,
   "id": "00c8d76e-b044-4c96-876a-9e43b8c0e8ee",
   "metadata": {},
   "outputs": [
    {
     "name": "stdin",
     "output_type": "stream",
     "text": [
      "enter the number 175\n"
     ]
    },
    {
     "name": "stdout",
     "output_type": "stream",
     "text": [
      "greter than 150\n"
     ]
    }
   ],
   "source": [
    "num=int(input('enter the number'))\n",
    "if num>50:\n",
    "    if num<150:\n",
    "        print('correct')\n",
    "    else:\n",
    "        print('greter than 150')\n",
    "else:\n",
    "    print('not correct')"
   ]
  },
  {
   "cell_type": "code",
   "execution_count": 9,
   "id": "1a58d190-9374-472e-a387-d9b9c41fa9e7",
   "metadata": {},
   "outputs": [
    {
     "name": "stdin",
     "output_type": "stream",
     "text": [
      "enter the number 15\n"
     ]
    },
    {
     "name": "stdout",
     "output_type": "stream",
     "text": [
      "incorrect\n"
     ]
    }
   ],
   "source": [
    "\n",
    "num=int(input('enter the number'))\n",
    "if num>50 and num<150:print('correct')\n",
    "else:print('incorrect')"
   ]
  },
  {
   "cell_type": "code",
   "execution_count": 10,
   "id": "f16f78be-1680-46d6-a9ff-efb1fb4fd9d3",
   "metadata": {},
   "outputs": [],
   "source": [
    "#read the purches cost and selling cost state profit or loss and how much"
   ]
  },
  {
   "cell_type": "code",
   "execution_count": 11,
   "id": "251b4ccc-2f02-4a1a-811b-54e7f371bf77",
   "metadata": {},
   "outputs": [
    {
     "name": "stdin",
     "output_type": "stream",
     "text": [
      "enter the per_cost 100\n",
      "enter the number 150\n"
     ]
    },
    {
     "name": "stdout",
     "output_type": "stream",
     "text": [
      "profit: 50\n"
     ]
    }
   ],
   "source": [
    "per_cost =int(input('enter the per_cost'))\n",
    "sel_cost=int(input('enter the number'))\n",
    "if sel_cost>per_cost:print('profit:',sel_cost-per_cost)\n",
    "else: print('loss:',per_cost-sel_cost)"
   ]
  },
  {
   "cell_type": "code",
   "execution_count": 12,
   "id": "a19b2b24-182c-498a-abc0-a2ff575ea5cd",
   "metadata": {},
   "outputs": [],
   "source": [
    "#take 3 number find the largest of them not allowed to use 'and' or 'or'"
   ]
  },
  {
   "cell_type": "code",
   "execution_count": 13,
   "id": "d5f1a91e-9e99-420c-bcc3-c2ae7b8a104a",
   "metadata": {},
   "outputs": [
    {
     "name": "stdin",
     "output_type": "stream",
     "text": [
      "enter the number1 5\n",
      "enter the number2 3\n",
      "enter the number3 7\n"
     ]
    },
    {
     "name": "stdout",
     "output_type": "stream",
     "text": [
      "num3 is greater\n"
     ]
    }
   ],
   "source": [
    "num1=int(input('enter the number1'))\n",
    "num2=int(input('enter the number2'))\n",
    "num3=int(input('enter the number3'))\n",
    "if num1>num2:\n",
    "    if num1>num3:\n",
    "        print('num1 is greater')\n",
    "    else: \n",
    "        print('num3 is greater')\n",
    "else:\n",
    "      if num2>num3:\n",
    "        print('num2 is greater')"
   ]
  },
  {
   "cell_type": "code",
   "execution_count": 14,
   "id": "5533b8ef-e08d-445e-89bd-f2ee4b8c8086",
   "metadata": {},
   "outputs": [],
   "source": [
    "#write a program to find if an year is a leap or not \n"
   ]
  },
  {
   "cell_type": "code",
   "execution_count": 15,
   "id": "6b634758-d493-4fe7-82fd-463caebe28ae",
   "metadata": {},
   "outputs": [
    {
     "name": "stdin",
     "output_type": "stream",
     "text": [
      "enter the number 2005\n"
     ]
    },
    {
     "name": "stdout",
     "output_type": "stream",
     "text": [
      "not leap year\n"
     ]
    }
   ],
   "source": [
    "year=int(input('enter the number'))\n",
    "if year%4==0:\n",
    "   if year%100==0:\n",
    "      if year%400==0:\n",
    "       print('leap century year')\n",
    "      else:\n",
    "       print('century year but not leap')\n",
    "   else:\n",
    "    print('leap year')\n",
    "else:\n",
    " print('not leap year')\n",
    "    \n"
   ]
  },
  {
   "cell_type": "code",
   "execution_count": 16,
   "id": "82feebf0-c331-4fc9-b594-90af6bb3fba6",
   "metadata": {},
   "outputs": [
    {
     "name": "stdin",
     "output_type": "stream",
     "text": [
      "enter the marks 75\n"
     ]
    },
    {
     "name": "stdout",
     "output_type": "stream",
     "text": [
      "first class\n"
     ]
    }
   ],
   "source": [
    "\n",
    "marks=int(input('enter the marks'))\n",
    "if marks>60:\n",
    "    print('first class')\n",
    "elif marks>=50:\n",
    "    print('second class')\n",
    "elif marks>=40:\n",
    "    print('third class')\n",
    "elif marks>=35:\n",
    "    print('pass')\n",
    "else:\n",
    "    print('fail')"
   ]
  },
  {
   "cell_type": "code",
   "execution_count": 17,
   "id": "09768d7f-3f74-4987-8bf0-9efdc300e13b",
   "metadata": {},
   "outputs": [],
   "source": [
    "\n",
    "#menu driven  based on the choice if will do sequre cube or cheak +ve ,-ve"
   ]
  },
  {
   "cell_type": "code",
   "execution_count": 18,
   "id": "6854edd1-625d-47d7-a78d-54c29e809f9f",
   "metadata": {},
   "outputs": [
    {
     "name": "stdin",
     "output_type": "stream",
     "text": [
      "enter the number 55\n"
     ]
    },
    {
     "name": "stdout",
     "output_type": "stream",
     "text": [
      "menu:\n",
      "1.square\n",
      "2.cube\n",
      "3.cheak positive or negative\n"
     ]
    },
    {
     "name": "stdin",
     "output_type": "stream",
     "text": [
      "enter your choice 1\n"
     ]
    },
    {
     "name": "stdout",
     "output_type": "stream",
     "text": [
      "square is: 3025\n"
     ]
    }
   ],
   "source": [
    "num=int(input('enter the number'))\n",
    "print('menu:\\n1.square\\n2.cube\\n3.cheak positive or negative')\n",
    "choice=int(input('enter your choice'))\n",
    "if choice==1:\n",
    "    print('square is:',num*num)\n",
    "elif choice==2:\n",
    "    print('cube is:',num**3)\n",
    "elif choice==3:\n",
    "    if num>0:\n",
    "        print('positive')\n",
    "    else:\n",
    "        print('you must forgotten ur sspects or brain')"
   ]
  },
  {
   "cell_type": "code",
   "execution_count": null,
   "id": "e6e1857f-d040-4150-8c3d-ffaa4b03d004",
   "metadata": {},
   "outputs": [],
   "source": []
  }
 ],
 "metadata": {
  "kernelspec": {
   "display_name": "Python 3 (ipykernel)",
   "language": "python",
   "name": "python3"
  },
  "language_info": {
   "codemirror_mode": {
    "name": "ipython",
    "version": 3
   },
   "file_extension": ".py",
   "mimetype": "text/x-python",
   "name": "python",
   "nbconvert_exporter": "python",
   "pygments_lexer": "ipython3",
   "version": "3.11.7"
  }
 },
 "nbformat": 4,
 "nbformat_minor": 5
}
