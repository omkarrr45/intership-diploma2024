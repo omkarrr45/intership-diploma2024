{
 "cells": [
  {
   "cell_type": "code",
   "execution_count": 4,
   "id": "48f6714d-d080-4169-83f7-fe4e4e4528ab",
   "metadata": {},
   "outputs": [
    {
     "name": "stdout",
     "output_type": "stream",
     "text": [
      "omkar\n",
      "omkar\n",
      "omkar\n",
      "omkar\n",
      "omkar\n"
     ]
    }
   ],
   "source": [
    "count = 1\n",
    "\n",
    "while count <= 5:\n",
    "    print('omkar')\n",
    "    count = count + 1\n"
   ]
  },
  {
   "cell_type": "code",
   "execution_count": 5,
   "id": "d57b12c9-1f48-41f4-af2a-cc57ccc92eec",
   "metadata": {},
   "outputs": [
    {
     "name": "stdout",
     "output_type": "stream",
     "text": [
      "5 6 7 8 9 10 11 12 13 14 15 Goodbye!!!\n"
     ]
    }
   ],
   "source": [
    "# print numbers from 5 to 15\n",
    "\n",
    "count = 5\n",
    "\n",
    "while count <= 15:\n",
    "    print(count, end = ' ')\n",
    "    count += 1\n",
    "    \n",
    "print('Goodbye!!!')"
   ]
  },
  {
   "cell_type": "code",
   "execution_count": 6,
   "id": "a05d3959-2f82-487c-830f-8f86179a7649",
   "metadata": {},
   "outputs": [
    {
     "name": "stdout",
     "output_type": "stream",
     "text": [
      "16\n"
     ]
    }
   ],
   "source": [
    "print(count)"
   ]
  },
  {
   "cell_type": "code",
   "execution_count": 7,
   "id": "9a786f69-481e-4ccb-9804-50d71425df19",
   "metadata": {},
   "outputs": [
    {
     "name": "stdout",
     "output_type": "stream",
     "text": [
      "Addition is: 55\n"
     ]
    }
   ],
   "source": [
    "# print the addition of numbers from 1 to 10\n",
    "\n",
    "count = 1\n",
    "add = 0\n",
    "\n",
    "while count <= 10:\n",
    "    add = add + count\n",
    "    count += 1\n",
    "    \n",
    "print('Addition is:', add)\n"
   ]
  },
  {
   "cell_type": "code",
   "execution_count": 1,
   "id": "3e579837-77ee-453f-8d45-5a386cb18a65",
   "metadata": {},
   "outputs": [],
   "source": [
    "#menu drive"
   ]
  },
  {
   "cell_type": "code",
   "execution_count": 2,
   "id": "ffbdb7a4-a911-4d0a-97c9-f63a5c9fbe41",
   "metadata": {},
   "outputs": [],
   "source": [
    "#read 2 number and perform add,sub,floor div\n",
    "#which one is greater based on the choice"
   ]
  },
  {
   "cell_type": "code",
   "execution_count": 3,
   "id": "972c185f-6a18-47eb-96b6-991c60e98a58",
   "metadata": {},
   "outputs": [
    {
     "name": "stdin",
     "output_type": "stream",
     "text": [
      "enter the number 7\n",
      "enter the number 5\n"
     ]
    },
    {
     "name": "stdout",
     "output_type": "stream",
     "text": [
      "menu:\n",
      "1.add\n",
      "2.sub\n",
      "3.floor div\n",
      "4.greater\n"
     ]
    },
    {
     "name": "stdin",
     "output_type": "stream",
     "text": [
      "enter your choice 1\n"
     ]
    },
    {
     "name": "stdout",
     "output_type": "stream",
     "text": [
      "add= 12\n",
      "add= 12\n"
     ]
    }
   ],
   "source": [
    "num1=int(input('enter the number'))\n",
    "num2=int(input('enter the number'))\n",
    "print('menu:\\n1.add\\n2.sub\\n3.floor div\\n4.greater')\n",
    "choice=int(input('enter your choice'))\n",
    "if choice==1:\n",
    "    add=num1+num2\n",
    "    print('add=',add)\n",
    "if choice==2:\n",
    "    sub=num1-num2\n",
    "    print('sub=',sub)\n",
    "if choice==3:\n",
    "    div=num1//num2\n",
    "    print('div=',div)\n",
    "if choice==1:\n",
    "    add=num1+num2\n",
    "    print('add=',add)\n",
    "if choice==4:\n",
    "    if num1>num2:\n",
    "       print('greater')\n",
    "    else:\n",
    "        print('smaller')"
   ]
  },
  {
   "cell_type": "code",
   "execution_count": 4,
   "id": "a7df2f77-ea71-4095-a4ef-3ff57396cf17",
   "metadata": {},
   "outputs": [
    {
     "name": "stdout",
     "output_type": "stream",
     "text": [
      "omkar\n",
      "omkar\n",
      "omkar\n",
      "omkar\n",
      "omkar\n"
     ]
    }
   ],
   "source": [
    "count=1\n",
    "while count<=5:\n",
    "    print('omkar')\n",
    "    count=count+1"
   ]
  },
  {
   "cell_type": "code",
   "execution_count": 5,
   "id": "d86f9ce9-5244-4c7c-809e-cd6ff9c3e2bb",
   "metadata": {},
   "outputs": [
    {
     "name": "stdout",
     "output_type": "stream",
     "text": [
      "5 6 7 8 9 10 11 12 13 14 15 goodbye!!!\n",
      "16\n"
     ]
    }
   ],
   "source": [
    "#print no. from 5to 15\n",
    "count=5\n",
    "while count<=15:\n",
    "    print(count,end=' ')\n",
    "    count+=1\n",
    "    \n",
    "print('goodbye!!!')\n",
    "print(count)"
   ]
  },
  {
   "cell_type": "code",
   "execution_count": 6,
   "id": "ca03f6a8-b126-4cb9-922a-635e881381ed",
   "metadata": {},
   "outputs": [
    {
     "name": "stdout",
     "output_type": "stream",
     "text": [
      "1 3 6 10 15 21 28 36 45 55 addition is 55\n",
      "11\n"
     ]
    }
   ],
   "source": [
    "#printthe addition of no. from 1 to 10\n",
    "count=1\n",
    "add=0\n",
    "while count<=10:\n",
    "    add=add+count\n",
    "    print(add,end=' ')\n",
    "    count+=1\n",
    "\n",
    "print('addition is',add)\n",
    "print(count)"
   ]
  },
  {
   "cell_type": "code",
   "execution_count": 7,
   "id": "f45c92ea-8160-49ca-98de-e5f78a82ece7",
   "metadata": {},
   "outputs": [],
   "source": [
    "#print the addition of all odd numbers from 1 to 20 "
   ]
  },
  {
   "cell_type": "code",
   "execution_count": 8,
   "id": "206a4abf-517b-409e-b112-d2836e8ffe7f",
   "metadata": {},
   "outputs": [
    {
     "name": "stdout",
     "output_type": "stream",
     "text": [
      "addition is= 100\n"
     ]
    }
   ],
   "source": [
    "count=1\n",
    "add=0\n",
    "while count<=20:       \n",
    "          add=add+count\n",
    "          count+=2\n",
    "          \n",
    "print('addition is=',add)\n"
   ]
  },
  {
   "cell_type": "code",
   "execution_count": 9,
   "id": "f567f586-be13-499d-8ff9-cd4f4af552de",
   "metadata": {},
   "outputs": [],
   "source": [
    "#factorial\n"
   ]
  },
  {
   "cell_type": "code",
   "execution_count": 10,
   "id": "f5eade2b-fbb2-4b82-92e1-87f420303f4d",
   "metadata": {},
   "outputs": [
    {
     "name": "stdout",
     "output_type": "stream",
     "text": [
      "loop end\n",
      "factorial 120\n"
     ]
    }
   ],
   "source": [
    "\n",
    "num=1\n",
    "fact=1\n",
    "while num<=5:\n",
    "       fact=fact*num\n",
    "       num=num+1\n",
    "else: \n",
    "    print('loop end')\n",
    "    print('factorial',fact)"
   ]
  },
  {
   "cell_type": "code",
   "execution_count": 11,
   "id": "b775239e-a204-4b53-a5d9-b1568a82ec90",
   "metadata": {},
   "outputs": [
    {
     "name": "stdout",
     "output_type": "stream",
     "text": [
      "loop end\n",
      "factorial 120\n"
     ]
    }
   ],
   "source": [
    "\n",
    "num=1\n",
    "fact=1\n",
    "while num<=5:\n",
    "       fact=fact*num\n",
    "       num=num+1\n",
    "else: \n",
    "    print('loop end')\n",
    "    print('factorial',fact)"
   ]
  },
  {
   "cell_type": "code",
   "execution_count": 12,
   "id": "9780d956-e07c-46f2-bcf4-3efe0797b306",
   "metadata": {},
   "outputs": [],
   "source": [
    "#find the sum of digits in a number 12345\n"
   ]
  },
  {
   "cell_type": "code",
   "execution_count": 13,
   "id": "d6f09398-cc03-43ad-ae6c-f44e1955341c",
   "metadata": {},
   "outputs": [
    {
     "name": "stdin",
     "output_type": "stream",
     "text": [
      "enter the number 15\n"
     ]
    },
    {
     "name": "stdout",
     "output_type": "stream",
     "text": [
      "addition of digit is 6\n"
     ]
    }
   ],
   "source": [
    "num=int(input('enter the number'))\n",
    "add=0\n",
    "while num>0:\n",
    "    digit=num%10\n",
    "    num=num//10\n",
    "    add=add+digit\n",
    " \n",
    "\n",
    "print('addition of digit is',add)"
   ]
  },
  {
   "cell_type": "code",
   "execution_count": 14,
   "id": "5f66dcb1-d1ea-49b4-966d-82f3d59ca259",
   "metadata": {},
   "outputs": [],
   "source": [
    "#for loop"
   ]
  },
  {
   "cell_type": "code",
   "execution_count": 15,
   "id": "e0841180-cb2f-4574-a50e-adc2ec44d273",
   "metadata": {},
   "outputs": [
    {
     "name": "stdout",
     "output_type": "stream",
     "text": [
      "12 34 45 21 adi True "
     ]
    }
   ],
   "source": [
    "for n in 12,34,45,21,'adi',True:\n",
    "    #print(n)\n",
    "   # print(' ')\n",
    "    print(n,end=' ')"
   ]
  },
  {
   "cell_type": "code",
   "execution_count": 16,
   "id": "5fd32587-0017-4d2e-a688-2bd52a72af4a",
   "metadata": {},
   "outputs": [
    {
     "name": "stdout",
     "output_type": "stream",
     "text": [
      "0.5\n",
      "1.0\n",
      "1.5\n",
      "2.0\n",
      "2.5\n",
      "28.0\n"
     ]
    }
   ],
   "source": [
    "for n in 1,2,3,4,5,56:\n",
    "    print(n/2)"
   ]
  },
  {
   "cell_type": "code",
   "execution_count": 17,
   "id": "b24ebf42-dc7e-4d43-8f2c-f0f19e81e4f1",
   "metadata": {},
   "outputs": [
    {
     "data": {
      "text/plain": [
       "[5, 6, 7, 8, 9, 10, 11, 12, 13, 14, 15, 16, 17, 18, 19]"
      ]
     },
     "execution_count": 17,
     "metadata": {},
     "output_type": "execute_result"
    }
   ],
   "source": [
    "#range function\n",
    "list(range(5,20))"
   ]
  },
  {
   "cell_type": "code",
   "execution_count": 18,
   "id": "de402646-d2a5-4455-88aa-6437504624f2",
   "metadata": {},
   "outputs": [
    {
     "data": {
      "text/plain": [
       "[5, 7, 9, 11, 13, 15, 17, 19]"
      ]
     },
     "execution_count": 18,
     "metadata": {},
     "output_type": "execute_result"
    }
   ],
   "source": [
    "list(range(5,20,2))"
   ]
  },
  {
   "cell_type": "code",
   "execution_count": 19,
   "id": "eaa8e993-0b13-4c99-82a4-84d987fb9843",
   "metadata": {},
   "outputs": [],
   "source": [
    "#range(start,end+1,step)"
   ]
  },
  {
   "cell_type": "code",
   "execution_count": 20,
   "id": "a4da5f92-e9e7-4964-af52-ba81b5f0c33f",
   "metadata": {},
   "outputs": [
    {
     "name": "stdout",
     "output_type": "stream",
     "text": [
      "1 2 3 4 5 6 7 8 9 10 "
     ]
    }
   ],
   "source": [
    "for n in range(1,11):\n",
    "    print(n,end=' ')"
   ]
  },
  {
   "cell_type": "code",
   "execution_count": 21,
   "id": "5da7e019-4464-46c1-915f-d0993f8a13a3",
   "metadata": {},
   "outputs": [
    {
     "name": "stdout",
     "output_type": "stream",
     "text": [
      "additon 100\n"
     ]
    }
   ],
   "source": [
    "#addition of odd number from 1 to 20\n",
    "add=0\n",
    "for n in range(1,21,2):\n",
    "    add=add+n\n",
    "print('additon',add)"
   ]
  },
  {
   "cell_type": "code",
   "execution_count": 22,
   "id": "883de992-06e0-4d0a-935b-b0f5411170e0",
   "metadata": {},
   "outputs": [
    {
     "name": "stdout",
     "output_type": "stream",
     "text": [
      "omkar\n",
      "omkar\n",
      "omkar\n",
      "omkar\n",
      "omkar\n",
      "omkar\n",
      "omkar\n",
      "omkar\n",
      "omkar\n",
      "omkar\n"
     ]
    }
   ],
   "source": [
    "for n in range(1,11):\n",
    "    print('omkar')"
   ]
  },
  {
   "cell_type": "code",
   "execution_count": 24,
   "id": "bcafed01-db3f-4491-8073-d969bae4a0d8",
   "metadata": {},
   "outputs": [
    {
     "name": "stdout",
     "output_type": "stream",
     "text": [
      "omkar omkar omkar omkar omkar omkar omkar omkar omkar omkar "
     ]
    }
   ],
   "source": [
    "for n in range(10):\n",
    "    print('omkar',end=' ')"
   ]
  },
  {
   "cell_type": "code",
   "execution_count": 26,
   "id": "54ab6c09-7b00-444d-9688-ce3336ecfc09",
   "metadata": {},
   "outputs": [
    {
     "name": "stdout",
     "output_type": "stream",
     "text": [
      "o\n",
      "m\n",
      "k\n",
      "a\n",
      "r\n"
     ]
    }
   ],
   "source": [
    "for n in 'omkar':\n",
    "  print(n)"
   ]
  },
  {
   "cell_type": "code",
   "execution_count": 28,
   "id": "c0573128-7217-4ee4-b1ed-e8fa4bde496f",
   "metadata": {},
   "outputs": [
    {
     "name": "stdout",
     "output_type": "stream",
     "text": [
      "omkar\n",
      "ganesh\n"
     ]
    }
   ],
   "source": [
    "for n in 'omkar','ganesh':\n",
    "    print(n)"
   ]
  },
  {
   "cell_type": "code",
   "execution_count": 29,
   "id": "fd00d9c7-8c6c-400f-b331-692762c10f06",
   "metadata": {},
   "outputs": [],
   "source": [
    "l=[23,77,31,55]"
   ]
  },
  {
   "cell_type": "code",
   "execution_count": 30,
   "id": "6b455b21-23b2-4ebd-81a5-526a5e667280",
   "metadata": {},
   "outputs": [
    {
     "name": "stdout",
     "output_type": "stream",
     "text": [
      "23\n",
      "77\n",
      "31\n",
      "55\n",
      "loop ended\n"
     ]
    }
   ],
   "source": [
    "for n in l:\n",
    "    print(n)\n",
    "else:\n",
    "    print('loop ended')"
   ]
  },
  {
   "cell_type": "code",
   "execution_count": 31,
   "id": "4048ef07-5af1-4b23-9417-9eabb3e8c3f5",
   "metadata": {},
   "outputs": [],
   "source": [
    "#find the factorial of a number using for loop"
   ]
  },
  {
   "cell_type": "code",
   "execution_count": 32,
   "id": "36f2c7d6-bd09-4027-993c-dde258f81e33",
   "metadata": {},
   "outputs": [
    {
     "name": "stdin",
     "output_type": "stream",
     "text": [
      "enter the number 55\n"
     ]
    },
    {
     "name": "stdout",
     "output_type": "stream",
     "text": [
      "factorial= 12696403353658275925965100847566516959580321051449436762275840000000000000\n"
     ]
    }
   ],
   "source": [
    "n=int(input('enter the number'))\n",
    "fact=1\n",
    "for n in range(1,n+1):\n",
    "    fact=fact*n\n",
    "print('factorial=',fact)"
   ]
  },
  {
   "cell_type": "code",
   "execution_count": 33,
   "id": "be25f20d-8880-4f85-9d16-d1229b392282",
   "metadata": {},
   "outputs": [
    {
     "name": "stdout",
     "output_type": "stream",
     "text": [
      "1\n",
      "2\n",
      "3\n",
      "4\n"
     ]
    }
   ],
   "source": [
    "for n in range(1,10):\n",
    "    if n==5:\n",
    "        break\n",
    "    print(n)"
   ]
  },
  {
   "cell_type": "code",
   "execution_count": 34,
   "id": "5d24a34b-5334-45fe-a360-eaaa4e43b761",
   "metadata": {},
   "outputs": [
    {
     "name": "stdout",
     "output_type": "stream",
     "text": [
      "1\n",
      "2\n",
      "3\n",
      "4\n",
      "6\n",
      "7\n",
      "8\n",
      "9\n"
     ]
    }
   ],
   "source": [
    "for n in range(1,10):\n",
    "    if n==5:\n",
    "        continue\n",
    "    print(n)"
   ]
  },
  {
   "cell_type": "code",
   "execution_count": 35,
   "id": "6ce5dbb7-f352-4f77-be1e-5f551f9e695a",
   "metadata": {},
   "outputs": [
    {
     "name": "stdout",
     "output_type": "stream",
     "text": [
      "0\n",
      "1\n",
      "2\n",
      "3\n",
      "4\n",
      "5\n"
     ]
    }
   ],
   "source": [
    "count=0\n",
    "while count<10:\n",
    "    print(count)\n",
    "    if count==5:\n",
    "        break  #continue\n",
    "    count+=1"
   ]
  },
  {
   "cell_type": "code",
   "execution_count": 36,
   "id": "3f85a7f0-1f55-4ceb-b9e8-5b0dcc089f23",
   "metadata": {},
   "outputs": [],
   "source": [
    "#print odd number from 1 to 12 using cotinue statement"
   ]
  },
  {
   "cell_type": "code",
   "execution_count": 37,
   "id": "f0b36582-c3ed-4e8e-93e5-908a964a12ad",
   "metadata": {},
   "outputs": [
    {
     "name": "stdout",
     "output_type": "stream",
     "text": [
      "1\n",
      "3\n",
      "5\n",
      "7\n",
      "9\n",
      "11\n"
     ]
    }
   ],
   "source": [
    "for i in range(1,13):\n",
    "    if i%2==0:\n",
    "        continue\n",
    "    print(i)"
   ]
  },
  {
   "cell_type": "code",
   "execution_count": 1,
   "id": "c092657a-40dc-43da-8c8f-9ed282a52570",
   "metadata": {},
   "outputs": [],
   "source": [
    "pass\n",
    "num=5\n",
    "if num>1:\n",
    "    pass"
   ]
  },
  {
   "cell_type": "code",
   "execution_count": 2,
   "id": "98b890bc-fbf7-4b56-8541-370c69dc8cad",
   "metadata": {},
   "outputs": [
    {
     "data": {
      "text/plain": [
       "' *\\n    **\\n    ***'"
      ]
     },
     "execution_count": 2,
     "metadata": {},
     "output_type": "execute_result"
    }
   ],
   "source": [
    "#nested loop\n",
    "''' *\n",
    "    **\n",
    "    ***'''\n"
   ]
  },
  {
   "cell_type": "code",
   "execution_count": 3,
   "id": "eceed27c-7369-47b1-8f33-5aa839951f10",
   "metadata": {},
   "outputs": [
    {
     "name": "stdout",
     "output_type": "stream",
     "text": [
      "* \n",
      "* * \n",
      "* * * \n"
     ]
    }
   ],
   "source": [
    "row=3\n",
    "for i in range(1,row+1):\n",
    "    for j in range(i):\n",
    "        print('*',end=' ')\n",
    "    print( )\n",
    "    "
   ]
  },
  {
   "cell_type": "code",
   "execution_count": 8,
   "id": "13a4e922-834d-4e25-b999-53d26e2267ae",
   "metadata": {},
   "outputs": [
    {
     "name": "stdin",
     "output_type": "stream",
     "text": [
      "Enter the number of rows  7\n"
     ]
    },
    {
     "name": "stdout",
     "output_type": "stream",
     "text": [
      "* \n",
      "* * \n",
      "* * * \n",
      "* * * * \n",
      "* * * * * \n",
      "* * * * * * \n",
      "* * * * * * * \n"
     ]
    }
   ],
   "source": [
    "row = int(input('Enter the number of rows '))\n",
    "\n",
    "for i in range(1, row + 1):\n",
    "    for j in range(i):\n",
    "        print('*', end = ' ')\n",
    "    print()\n",
    "    "
   ]
  },
  {
   "cell_type": "code",
   "execution_count": null,
   "id": "fd764d5a-ff84-4582-a65f-ee2d1d95adf8",
   "metadata": {},
   "outputs": [],
   "source": []
  }
 ],
 "metadata": {
  "kernelspec": {
   "display_name": "Python 3 (ipykernel)",
   "language": "python",
   "name": "python3"
  },
  "language_info": {
   "codemirror_mode": {
    "name": "ipython",
    "version": 3
   },
   "file_extension": ".py",
   "mimetype": "text/x-python",
   "name": "python",
   "nbconvert_exporter": "python",
   "pygments_lexer": "ipython3",
   "version": "3.11.7"
  }
 },
 "nbformat": 4,
 "nbformat_minor": 5
}
