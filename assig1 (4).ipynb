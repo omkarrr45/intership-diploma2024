{
 "cells": [
  {
   "cell_type": "code",
   "execution_count": 6,
   "id": "25f25666-cb88-4aee-87b0-54e0005cdd15",
   "metadata": {},
   "outputs": [
    {
     "name": "stdin",
     "output_type": "stream",
     "text": [
      "Enter the number of days:  375\n"
     ]
    },
    {
     "name": "stdout",
     "output_type": "stream",
     "text": [
      "days:- 375\n",
      "years:- 1\n",
      "weeks:- 1\n",
      "remaining days:- 3\n"
     ]
    }
   ],
   "source": [
    "# que:-1 Write a program to convert specified days into years, weeks and days.Take user input.Note: Ignore leap year.\n",
    "\n",
    "\n",
    "days = int(input(\"Enter the number of days: \"))\n",
    "years = days // 365\n",
    "weeks = (days % 365) // 7\n",
    "remaining_days = (days % 365) % 7\n",
    "print(\"days:-\",days)\n",
    "print(\"years:-\",years)\n",
    "print(\"weeks:-\",weeks)\n",
    "print(\"remaining days:-\",remaining_days)\n"
   ]
  },
  {
   "cell_type": "code",
   "execution_count": 8,
   "id": "9087f0c4-6fa9-430a-8b24-37d30c899c97",
   "metadata": {},
   "outputs": [
    {
     "name": "stdin",
     "output_type": "stream",
     "text": [
      "Enter the basic salary of the employee:  1700\n"
     ]
    },
    {
     "name": "stdout",
     "output_type": "stream",
     "text": [
      "Basic Salary: 1700.0\n",
      "HRA:- 340.0\n",
      "DA:- 1360.0\n",
      "Gross Salary:- 3400.0\n"
     ]
    }
   ],
   "source": [
    "# que:-2 Write a Python program to input basiPython salary of an employee and calculate its Gross salary according to following:\n",
    "# Basic Salary <= 10000 : HRA = 20%, DA = 80%\n",
    "# Basic Salary <= 20000 : HRA = 30%, DA = 90%\n",
    "# Basic Salary > 20000 : HRA = 35%, DA = 95%\n",
    "\n",
    "\n",
    "basic_salary = float(input(\"Enter the basic salary of the employee: \"))\n",
    "if basic_salary <= 10000:\n",
    "    HRA = 0.20 * basic_salary\n",
    "    DA = 0.80 * basic_salary\n",
    "elif basic_salary <= 20000:\n",
    "    HRA = 0.30 * basic_salary\n",
    "    DA = 0.90 * basic_salary\n",
    "else:\n",
    "    HRA = 0.35 * basic_salary\n",
    "    DA = 0.95 * basic_salary\n",
    "gross_salary = basic_salary + HRA + DA\n",
    "print(f\"Basic Salary: {basic_salary}\")\n",
    "print(\"HRA:-\",HRA)\n",
    "print(\"DA:-\",DA)\n",
    "print(\"Gross Salary:-\",gross_salary)"
   ]
  },
  {
   "cell_type": "code",
   "execution_count": 86,
   "id": "af48fd48-0f30-43e6-aa14-5fb821978455",
   "metadata": {},
   "outputs": [
    {
     "name": "stdin",
     "output_type": "stream",
     "text": [
      "Enter the number of electricity units consumed:  75\n"
     ]
    },
    {
     "name": "stdout",
     "output_type": "stream",
     "text": [
      "69.0\n"
     ]
    }
   ],
   "source": [
    "# que :- 3 Write a Python program to input electricity unit charges and calculate total electricity bill according to the given condition:\n",
    "# For first 50 units Rs. 0.50/unit\n",
    "# For next 100 units Rs. 0.75/unit\n",
    "# For next 100 units Rs. 1.25/unit\n",
    "# For unit above 250 Rs. 1.50/unit\n",
    "# An additional surcharge of 17% is added to the bill\n",
    "\n",
    "\n",
    "\n",
    "units = float(input(\"Enter the number of electricity units consumed: \"))\n",
    "if units <= 50:\n",
    "    total_bill = units * 0.50 + 0.17 * units\n",
    "    print(total_bill)\n",
    "elif units <= 150:\n",
    "    total_bill = units * 0.75 + 0.17 * units\n",
    "    print(total_bill)\n",
    "elif units <= 250:\n",
    "    total_bill = units * 1.25 + 0.17 * units\n",
    "    print(total_bill)\n",
    "else:\n",
    "    if units > 250:\n",
    "        total_bill = units * 1.50 + 0.17 * units\n",
    "        print(total_bill)"
   ]
  },
  {
   "cell_type": "code",
   "execution_count": 41,
   "id": "dd4f1a55-9dff-4e35-b958-4e8b34f3da53",
   "metadata": {},
   "outputs": [
    {
     "name": "stdout",
     "output_type": "stream",
     "text": [
      "1 \n",
      "2 2 \n",
      "3 3 3 \n",
      "4 4 4 4 \n",
      "5 5 5 5 5 \n"
     ]
    }
   ],
   "source": [
    "# que :- 4  Write a Python program to print the given number patterns.\n",
    "1\n",
    "2 2\n",
    "3 3 3\n",
    "4 4 4 4\n",
    "5 5 5 5 5\n",
    "\n",
    "\n",
    "num_rows =5\n",
    "for i in range(1, num_rows + 1):\n",
    " for j in range(i):\n",
    "        print(i, end=\" \")\n",
    "    \n",
    " print()"
   ]
  },
  {
   "cell_type": "code",
   "execution_count": 43,
   "id": "3bc64eb0-1d8a-4c2e-89e8-d5ec3abdd66c",
   "metadata": {},
   "outputs": [
    {
     "name": "stdin",
     "output_type": "stream",
     "text": [
      "Enter a number:  75\n"
     ]
    },
    {
     "name": "stdout",
     "output_type": "stream",
     "text": [
      "The product of the digits is:= 35\n"
     ]
    }
   ],
   "source": [
    "# que 5 Write a Python program to calculate product of digits of a number. Read value of n from user.\n",
    "\n",
    "n = int(input(\"Enter a number: \"))\n",
    "product = 1\n",
    "while n > 0:\n",
    "    digit = n % 10  \n",
    "    product *= digit\n",
    "    n //= 10\n",
    "\n",
    "\n",
    "print(\"The product of the digits is:=\",product)"
   ]
  },
  {
   "cell_type": "code",
   "execution_count": 8,
   "id": "f7ef4618-8dac-4907-b793-5d7cd0748901",
   "metadata": {},
   "outputs": [],
   "source": [
    "# que 6 Create a list of elements like: x = [45, 67, 12, ‘Hello’, 23.45, ‘World’] and oerform following operations:\n",
    "\n",
    "x = [45,67,12,'hello',23.45,'world']"
   ]
  },
  {
   "cell_type": "code",
   "execution_count": 9,
   "id": "2df2cec0-cb8c-452f-b09f-aa94bfdf9526",
   "metadata": {},
   "outputs": [
    {
     "name": "stdout",
     "output_type": "stream",
     "text": [
      "String values: ['hello', 'world']\n"
     ]
    }
   ],
   "source": [
    "#6-1 Extract only string values from this list.\n",
    "\n",
    "string_values = [element for element in x if isinstance(element, str)]\n",
    "print(\"String values:\", string_values)"
   ]
  },
  {
   "cell_type": "code",
   "execution_count": 10,
   "id": "cbde9643-72a3-42d3-8c59-8fa18adb68eb",
   "metadata": {},
   "outputs": [
    {
     "data": {
      "text/plain": [
       "['HELLO', 'WORLD']"
      ]
     },
     "execution_count": 10,
     "metadata": {},
     "output_type": "execute_result"
    }
   ],
   "source": [
    "#6-2 Create a new list with strings in upper case.\n",
    "[element.upper() for element in string_values]\n"
   ]
  },
  {
   "cell_type": "code",
   "execution_count": 11,
   "id": "bd2edf34-b635-461c-921d-83c0a50cffbb",
   "metadata": {},
   "outputs": [
    {
     "name": "stdout",
     "output_type": "stream",
     "text": [
      "Sum of integer values: 124\n"
     ]
    }
   ],
   "source": [
    "#6-3 Find the addition of integer values\n",
    "integer=[element for element in x if isinstance(element, int)]\n",
    "sum= sum(integer)\n",
    "print(\"Sum of integer values:\", sum)"
   ]
  },
  {
   "cell_type": "code",
   "execution_count": 12,
   "id": "34b60268-bb04-44a8-a673-7e81dad2c829",
   "metadata": {},
   "outputs": [
    {
     "data": {
      "text/plain": [
       "False"
      ]
     },
     "execution_count": 12,
     "metadata": {},
     "output_type": "execute_result"
    }
   ],
   "source": [
    "#6-4 Check that the value 56 is present in it or not.\n",
    "56 in x"
   ]
  },
  {
   "cell_type": "code",
   "execution_count": 13,
   "id": "a56d02f1-c947-4835-bad7-595073dee4d5",
   "metadata": {},
   "outputs": [
    {
     "data": {
      "text/plain": [
       "['world', 23.45, 'hello', 12, 67, 45]"
      ]
     },
     "execution_count": 13,
     "metadata": {},
     "output_type": "execute_result"
    }
   ],
   "source": [
    "#6-5 Print the list in reverse order.\n",
    "\n",
    "x[::-1]"
   ]
  },
  {
   "cell_type": "code",
   "execution_count": 80,
   "id": "fdfbca6d-80bb-4171-86ff-c3c87e49e3f1",
   "metadata": {},
   "outputs": [
    {
     "name": "stdout",
     "output_type": "stream",
     "text": [
      "[45, 67, 12, 36, 23.45, 'world']\n"
     ]
    }
   ],
   "source": [
    "#6-6 Delete the string ‘Hello’ from it.\n",
    "\n",
    "if 'hello' in x:\n",
    "  x.remove('hello')\n",
    "print(x)"
   ]
  },
  {
   "cell_type": "code",
   "execution_count": 15,
   "id": "56067c3e-99df-472f-b32b-4620fa9e78e9",
   "metadata": {},
   "outputs": [
    {
     "name": "stdout",
     "output_type": "stream",
     "text": [
      "[45, 67, 12, 'hello', 36, 23.45, 'world']\n"
     ]
    }
   ],
   "source": [
    "#6-7 . Insert a new value of 36 at 5th position in list.\n",
    "\n",
    "x.insert(4,36)\n",
    "print(x)"
   ]
  },
  {
   "cell_type": "code",
   "execution_count": 16,
   "id": "aedb8893-95fe-47f3-be00-2078a17e2b20",
   "metadata": {},
   "outputs": [
    {
     "data": {
      "text/plain": [
       "7"
      ]
     },
     "execution_count": 16,
     "metadata": {},
     "output_type": "execute_result"
    }
   ],
   "source": [
    "#6-8 Count total number of elements in list now.\n",
    "len(x)"
   ]
  },
  {
   "cell_type": "code",
   "execution_count": 81,
   "id": "4e855d8e-6c05-49c9-bac5-30f55c085fa3",
   "metadata": {},
   "outputs": [
    {
     "name": "stdout",
     "output_type": "stream",
     "text": [
      "[12, 36, 23.45, 'world']\n"
     ]
    }
   ],
   "source": [
    "#6-9 . Extract the values from 2nd index to 5th index.\n",
    "\n",
    "n=x[2:6]\n",
    "print(n)"
   ]
  },
  {
   "cell_type": "code",
   "execution_count": 82,
   "id": "073ebe49-4ec2-4f9f-93c6-980902f898a5",
   "metadata": {},
   "outputs": [
    {
     "name": "stdout",
     "output_type": "stream",
     "text": [
      "[45, 67, 12, 36, 23.45, 'world', [34, 'pune']]\n"
     ]
    }
   ],
   "source": [
    "#6-10 Append [34, ‘Pune’] to this list.\n",
    "\n",
    "x.append([34,'pune'])\n",
    "print(x)"
   ]
  },
  {
   "cell_type": "code",
   "execution_count": 19,
   "id": "ae94a5f3-62cb-4f0f-9b6c-cc599442a98a",
   "metadata": {},
   "outputs": [
    {
     "data": {
      "text/plain": [
       "[34, 'pune']"
      ]
     },
     "execution_count": 19,
     "metadata": {},
     "output_type": "execute_result"
    }
   ],
   "source": [
    "#6-11  Delete the last element from list.\n",
    "\n",
    "x.pop()"
   ]
  },
  {
   "cell_type": "code",
   "execution_count": 67,
   "id": "7292f0bb-519a-4f07-a60a-70d8b3f28985",
   "metadata": {},
   "outputs": [],
   "source": [
    "#que 7 Create a tuple of elements with 5 float values in it and perform following operations:\n",
    "\n",
    "t=(7.7,2.2,5.5,4.4,1.1)"
   ]
  },
  {
   "cell_type": "code",
   "execution_count": 68,
   "id": "4c51927a-e986-448f-9f9e-0a7b4fa63718",
   "metadata": {},
   "outputs": [
    {
     "data": {
      "text/plain": [
       "[1.1, 2.2, 4.4, 5.5, 7.7]"
      ]
     },
     "execution_count": 68,
     "metadata": {},
     "output_type": "execute_result"
    }
   ],
   "source": [
    "#7-1 Print the data in sorted manner.\n",
    "sorted(t)"
   ]
  },
  {
   "cell_type": "code",
   "execution_count": 22,
   "id": "1b752d7c-105b-4ffb-aee2-2354ac85a98a",
   "metadata": {},
   "outputs": [
    {
     "data": {
      "text/plain": [
       "False"
      ]
     },
     "execution_count": 22,
     "metadata": {},
     "output_type": "execute_result"
    }
   ],
   "source": [
    "#7-2 Check to see that the element 50 is present in it.\n",
    "50 in t"
   ]
  },
  {
   "cell_type": "code",
   "execution_count": 23,
   "id": "eab434df-de68-401c-a738-33777336d655",
   "metadata": {},
   "outputs": [
    {
     "name": "stdout",
     "output_type": "stream",
     "text": [
      "{1.1, 2.2, 3.3, 4.4, 5.5}\n"
     ]
    }
   ],
   "source": [
    "#7-3 Convert this tuple in set.\n",
    "float_set=set(t)\n",
    "print(float_set)"
   ]
  },
  {
   "cell_type": "code",
   "execution_count": 24,
   "id": "b08672bf-05a8-4e6e-941c-ddb8ee57ccb1",
   "metadata": {},
   "outputs": [],
   "source": [
    "#que 8 Create a dictionary of elements: {‘a’: ‘apple’, ‘b’: ‘ball’, ‘c’: ‘cat’, ‘d’: ‘doll’, ‘k’:‘king’} and perform following operations.\n",
    "\n",
    "d={'a': 'apple', 'b': 'ball', 'c': 'cat', 'd': 'doll', 'k':'king'}\n"
   ]
  },
  {
   "cell_type": "code",
   "execution_count": 25,
   "id": "542cc4c1-7875-43d8-82ce-8e94b035f404",
   "metadata": {},
   "outputs": [
    {
     "name": "stdout",
     "output_type": "stream",
     "text": [
      "king\n"
     ]
    }
   ],
   "source": [
    "#8-1 Access the data at key ‘k’.\n",
    "k=d['k']\n",
    "print(k)"
   ]
  },
  {
   "cell_type": "code",
   "execution_count": 26,
   "id": "117f27e1-e554-4f7c-bf3d-7eb1f7f194cb",
   "metadata": {},
   "outputs": [
    {
     "name": "stdout",
     "output_type": "stream",
     "text": [
      "{'a': 'apple', 'b': 'ball', 'c': 'cat', 'd': 'doll', 'k': 'king', 'z': 'zebra'}\n"
     ]
    }
   ],
   "source": [
    "#8-2  Add a new values ‘z’: ‘zebra’\n",
    "d['z']='zebra'\n",
    "print(d)"
   ]
  },
  {
   "cell_type": "code",
   "execution_count": 27,
   "id": "11b1a709-ea6c-4719-9e25-b27aba93ceb9",
   "metadata": {},
   "outputs": [
    {
     "name": "stdout",
     "output_type": "stream",
     "text": [
      "{'a': 'apple', 'b': 'ball', 'c': 'cat', 'd': 'dog', 'k': 'king', 'z': 'zebra'}\n"
     ]
    }
   ],
   "source": [
    "#8-3 Replace the contents of ‘d’ as ‘dog’\n",
    "d['d']='dog'\n",
    "print(d)"
   ]
  },
  {
   "cell_type": "code",
   "execution_count": 28,
   "id": "62ef4d9e-4486-402a-8660-e3641be1de81",
   "metadata": {},
   "outputs": [
    {
     "data": {
      "text/plain": [
       "dict_values(['apple', 'ball', 'cat', 'dog', 'king', 'zebra'])"
      ]
     },
     "execution_count": 28,
     "metadata": {},
     "output_type": "execute_result"
    }
   ],
   "source": [
    "#8-4 Print all the values from this dictionary.\n",
    "\n",
    "d.values()"
   ]
  },
  {
   "cell_type": "code",
   "execution_count": 29,
   "id": "6ffe2488-f896-4e8a-b93f-e560919b48e5",
   "metadata": {},
   "outputs": [
    {
     "data": {
      "text/plain": [
       "6"
      ]
     },
     "execution_count": 29,
     "metadata": {},
     "output_type": "execute_result"
    }
   ],
   "source": [
    "#8-5 Find the length of this dictionary\n",
    "len(d)\n"
   ]
  },
  {
   "cell_type": "code",
   "execution_count": 65,
   "id": "b54880fa-074f-400f-a996-9d7f3fa258a9",
   "metadata": {},
   "outputs": [],
   "source": [
    "# que 9 Write a program to find the second largest element in a list.\n",
    "\n",
    "list=[77,67,35,70,54]"
   ]
  },
  {
   "cell_type": "code",
   "execution_count": 66,
   "id": "ed6f261d-20e3-4ef3-a262-6a87f49e4323",
   "metadata": {},
   "outputs": [
    {
     "name": "stdout",
     "output_type": "stream",
     "text": [
      "70\n"
     ]
    }
   ],
   "source": [
    "sorted(list)\n",
    "print(list[-2])"
   ]
  },
  {
   "cell_type": "code",
   "execution_count": 60,
   "id": "545777dc-301b-4dee-b328-f3562f4bd612",
   "metadata": {},
   "outputs": [],
   "source": [
    "#que 10 This is a list of some metallic elements. metals = [ 'silver','gold', ... ] Make a new list that is almost identical to the metals list: the new contains the same items, in the same order, except that it does NOT contain the item 'copper'.\n"
   ]
  },
  {
   "cell_type": "code",
   "execution_count": 8,
   "id": "28aa5d8a-9df0-49b4-be2a-f7b7ebeb1466",
   "metadata": {},
   "outputs": [],
   "source": [
    "m=['gold','silver','copper','aluminum','platinum','iron']"
   ]
  },
  {
   "cell_type": "code",
   "execution_count": 9,
   "id": "5b447fba-083d-4bc2-854d-9e5f039bf6b1",
   "metadata": {},
   "outputs": [
    {
     "name": "stdout",
     "output_type": "stream",
     "text": [
      "['gold', 'silver', 'aluminum', 'platinum', 'iron']\n"
     ]
    }
   ],
   "source": [
    "n_metal=[m for m in m if m!='copper']\n",
    "print(n_metal)\n"
   ]
  },
  {
   "cell_type": "code",
   "execution_count": null,
   "id": "a9314521-ddc0-49ab-956a-0b8aba49b0ff",
   "metadata": {},
   "outputs": [],
   "source": []
  }
 ],
 "metadata": {
  "kernelspec": {
   "display_name": "Python 3 (ipykernel)",
   "language": "python",
   "name": "python3"
  },
  "language_info": {
   "codemirror_mode": {
    "name": "ipython",
    "version": 3
   },
   "file_extension": ".py",
   "mimetype": "text/x-python",
   "name": "python",
   "nbconvert_exporter": "python",
   "pygments_lexer": "ipython3",
   "version": "3.11.7"
  }
 },
 "nbformat": 4,
 "nbformat_minor": 5
}
