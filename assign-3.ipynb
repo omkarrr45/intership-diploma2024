{
 "cells": [
  {
   "cell_type": "code",
   "execution_count": 1,
   "id": "ca286acc",
   "metadata": {
    "_cell_guid": "b1076dfc-b9ad-4769-8c92-a6c4dae69d19",
    "_uuid": "8f2839f25d086af736a60e9eeb907d3b93b6e0e5",
    "execution": {
     "iopub.execute_input": "2024-06-25T04:46:27.413701Z",
     "iopub.status.busy": "2024-06-25T04:46:27.413219Z",
     "iopub.status.idle": "2024-06-25T04:46:28.582437Z",
     "shell.execute_reply": "2024-06-25T04:46:28.581207Z"
    },
    "papermill": {
     "duration": 1.191052,
     "end_time": "2024-06-25T04:46:28.585311",
     "exception": false,
     "start_time": "2024-06-25T04:46:27.394259",
     "status": "completed"
    },
    "tags": []
   },
   "outputs": [
    {
     "name": "stdout",
     "output_type": "stream",
     "text": [
      "/kaggle/input/loan-defaulter/application_data.csv\n",
      "/kaggle/input/loan-defaulter/previous_application.csv\n",
      "/kaggle/input/loan-defaulter/columns_description.csv\n",
      "/kaggle/input/auto-sales-data/Auto Sales data.csv\n",
      "/kaggle/input/playgrounds4e06originaldata/original.csv\n"
     ]
    }
   ],
   "source": [
    "# This Python 3 environment comes with many helpful analytics libraries installed\n",
    "# It is defined by the kaggle/python Docker image: https://github.com/kaggle/docker-python\n",
    "# For example, here's several helpful packages to load\n",
    "\n",
    "import numpy as np # linear algebra\n",
    "import pandas as pd # data processing, CSV file I/O (e.g. pd.read_csv)\n",
    "\n",
    "# Input data files are available in the read-only \"../input/\" directory\n",
    "# For example, running this (by clicking run or pressing Shift+Enter) will list all files under the input directory\n",
    "\n",
    "import os\n",
    "for dirname, _, filenames in os.walk('/kaggle/input'):\n",
    "    for filename in filenames:\n",
    "        print(os.path.join(dirname, filename))\n",
    "\n",
    "# You can write up to 20GB to the current directory (/kaggle/working/) that gets preserved as output when you create a version using \"Save & Run All\" \n",
    "# You can also write temporary files to /kaggle/temp/, but they won't be saved outside of the current session"
   ]
  },
  {
   "cell_type": "code",
   "execution_count": 2,
   "id": "3b6cfc13",
   "metadata": {
    "execution": {
     "iopub.execute_input": "2024-06-25T04:46:28.620754Z",
     "iopub.status.busy": "2024-06-25T04:46:28.620116Z",
     "iopub.status.idle": "2024-06-25T04:46:30.268644Z",
     "shell.execute_reply": "2024-06-25T04:46:30.267164Z"
    },
    "papermill": {
     "duration": 1.669616,
     "end_time": "2024-06-25T04:46:30.271654",
     "exception": false,
     "start_time": "2024-06-25T04:46:28.602038",
     "status": "completed"
    },
    "tags": []
   },
   "outputs": [],
   "source": [
    "# Packages that we neeed in EDA\n",
    "import pandas as pd\n",
    "import numpy as np\n",
    "import matplotlib.pyplot as plt\n",
    "import seaborn as sns"
   ]
  },
  {
   "cell_type": "markdown",
   "id": "22eb40b1",
   "metadata": {
    "papermill": {
     "duration": 0.016512,
     "end_time": "2024-06-25T04:46:30.305656",
     "exception": false,
     "start_time": "2024-06-25T04:46:30.289144",
     "status": "completed"
    },
    "tags": []
   },
   "source": [
    "# Loan-defaulter data"
   ]
  },
  {
   "cell_type": "code",
   "execution_count": 3,
   "id": "e654d4be",
   "metadata": {
    "execution": {
     "iopub.execute_input": "2024-06-25T04:46:30.342415Z",
     "iopub.status.busy": "2024-06-25T04:46:30.341973Z",
     "iopub.status.idle": "2024-06-25T04:46:37.751213Z",
     "shell.execute_reply": "2024-06-25T04:46:37.749744Z"
    },
    "papermill": {
     "duration": 7.431378,
     "end_time": "2024-06-25T04:46:37.754512",
     "exception": false,
     "start_time": "2024-06-25T04:46:30.323134",
     "status": "completed"
    },
    "tags": []
   },
   "outputs": [],
   "source": [
    "# creating variables for application data and columns description \n",
    "df = pd.read_csv('/kaggle/input/loan-defaulter/application_data.csv')\n",
    "col_desc = pd.read_csv('/kaggle/input/loan-defaulter/columns_description.csv')"
   ]
  },
  {
   "cell_type": "code",
   "execution_count": 4,
   "id": "7264ceb0",
   "metadata": {
    "execution": {
     "iopub.execute_input": "2024-06-25T04:46:37.790602Z",
     "iopub.status.busy": "2024-06-25T04:46:37.790128Z",
     "iopub.status.idle": "2024-06-25T04:46:37.801337Z",
     "shell.execute_reply": "2024-06-25T04:46:37.799836Z"
    },
    "papermill": {
     "duration": 0.032012,
     "end_time": "2024-06-25T04:46:37.804084",
     "exception": false,
     "start_time": "2024-06-25T04:46:37.772072",
     "status": "completed"
    },
    "tags": []
   },
   "outputs": [
    {
     "data": {
      "text/plain": [
       "(160, 5)"
      ]
     },
     "execution_count": 4,
     "metadata": {},
     "output_type": "execute_result"
    }
   ],
   "source": [
    "# Shape of column Description\n",
    "col_desc.shape"
   ]
  },
  {
   "cell_type": "code",
   "execution_count": 5,
   "id": "872df698",
   "metadata": {
    "execution": {
     "iopub.execute_input": "2024-06-25T04:46:37.841381Z",
     "iopub.status.busy": "2024-06-25T04:46:37.840950Z",
     "iopub.status.idle": "2024-06-25T04:46:37.872446Z",
     "shell.execute_reply": "2024-06-25T04:46:37.870882Z"
    },
    "papermill": {
     "duration": 0.054028,
     "end_time": "2024-06-25T04:46:37.875556",
     "exception": false,
     "start_time": "2024-06-25T04:46:37.821528",
     "status": "completed"
    },
    "tags": []
   },
   "outputs": [
    {
     "data": {
      "text/html": [
       "<div>\n",
       "<style scoped>\n",
       "    .dataframe tbody tr th:only-of-type {\n",
       "        vertical-align: middle;\n",
       "    }\n",
       "\n",
       "    .dataframe tbody tr th {\n",
       "        vertical-align: top;\n",
       "    }\n",
       "\n",
       "    .dataframe thead th {\n",
       "        text-align: right;\n",
       "    }\n",
       "</style>\n",
       "<table border=\"1\" class=\"dataframe\">\n",
       "  <thead>\n",
       "    <tr style=\"text-align: right;\">\n",
       "      <th></th>\n",
       "      <th>Unnamed: 0</th>\n",
       "      <th>Table</th>\n",
       "      <th>Row</th>\n",
       "      <th>Description</th>\n",
       "      <th>Special</th>\n",
       "    </tr>\n",
       "  </thead>\n",
       "  <tbody>\n",
       "    <tr>\n",
       "      <th>0</th>\n",
       "      <td>1</td>\n",
       "      <td>application_data</td>\n",
       "      <td>SK_ID_CURR</td>\n",
       "      <td>ID of loan in our sample</td>\n",
       "      <td>NaN</td>\n",
       "    </tr>\n",
       "    <tr>\n",
       "      <th>1</th>\n",
       "      <td>2</td>\n",
       "      <td>application_data</td>\n",
       "      <td>TARGET</td>\n",
       "      <td>Target variable (1 - client with payment diffi...</td>\n",
       "      <td>NaN</td>\n",
       "    </tr>\n",
       "    <tr>\n",
       "      <th>2</th>\n",
       "      <td>5</td>\n",
       "      <td>application_data</td>\n",
       "      <td>NAME_CONTRACT_TYPE</td>\n",
       "      <td>Identification if loan is cash or revolving</td>\n",
       "      <td>NaN</td>\n",
       "    </tr>\n",
       "    <tr>\n",
       "      <th>3</th>\n",
       "      <td>6</td>\n",
       "      <td>application_data</td>\n",
       "      <td>CODE_GENDER</td>\n",
       "      <td>Gender of the client</td>\n",
       "      <td>NaN</td>\n",
       "    </tr>\n",
       "    <tr>\n",
       "      <th>4</th>\n",
       "      <td>7</td>\n",
       "      <td>application_data</td>\n",
       "      <td>FLAG_OWN_CAR</td>\n",
       "      <td>Flag if the client owns a car</td>\n",
       "      <td>NaN</td>\n",
       "    </tr>\n",
       "    <tr>\n",
       "      <th>...</th>\n",
       "      <td>...</td>\n",
       "      <td>...</td>\n",
       "      <td>...</td>\n",
       "      <td>...</td>\n",
       "      <td>...</td>\n",
       "    </tr>\n",
       "    <tr>\n",
       "      <th>155</th>\n",
       "      <td>209</td>\n",
       "      <td>previous_application.csv</td>\n",
       "      <td>DAYS_FIRST_DUE</td>\n",
       "      <td>Relative to application date of current applic...</td>\n",
       "      <td>time only relative to the application</td>\n",
       "    </tr>\n",
       "    <tr>\n",
       "      <th>156</th>\n",
       "      <td>210</td>\n",
       "      <td>previous_application.csv</td>\n",
       "      <td>DAYS_LAST_DUE_1ST_VERSION</td>\n",
       "      <td>Relative to application date of current applic...</td>\n",
       "      <td>time only relative to the application</td>\n",
       "    </tr>\n",
       "    <tr>\n",
       "      <th>157</th>\n",
       "      <td>211</td>\n",
       "      <td>previous_application.csv</td>\n",
       "      <td>DAYS_LAST_DUE</td>\n",
       "      <td>Relative to application date of current applic...</td>\n",
       "      <td>time only relative to the application</td>\n",
       "    </tr>\n",
       "    <tr>\n",
       "      <th>158</th>\n",
       "      <td>212</td>\n",
       "      <td>previous_application.csv</td>\n",
       "      <td>DAYS_TERMINATION</td>\n",
       "      <td>Relative to application date of current applic...</td>\n",
       "      <td>time only relative to the application</td>\n",
       "    </tr>\n",
       "    <tr>\n",
       "      <th>159</th>\n",
       "      <td>213</td>\n",
       "      <td>previous_application.csv</td>\n",
       "      <td>NFLAG_INSURED_ON_APPROVAL</td>\n",
       "      <td>Did the client requested insurance during the ...</td>\n",
       "      <td>NaN</td>\n",
       "    </tr>\n",
       "  </tbody>\n",
       "</table>\n",
       "<p>160 rows × 5 columns</p>\n",
       "</div>"
      ],
      "text/plain": [
       "     Unnamed: 0                     Table                        Row  \\\n",
       "0             1          application_data                 SK_ID_CURR   \n",
       "1             2          application_data                     TARGET   \n",
       "2             5          application_data         NAME_CONTRACT_TYPE   \n",
       "3             6          application_data                CODE_GENDER   \n",
       "4             7          application_data               FLAG_OWN_CAR   \n",
       "..          ...                       ...                        ...   \n",
       "155         209  previous_application.csv             DAYS_FIRST_DUE   \n",
       "156         210  previous_application.csv  DAYS_LAST_DUE_1ST_VERSION   \n",
       "157         211  previous_application.csv              DAYS_LAST_DUE   \n",
       "158         212  previous_application.csv           DAYS_TERMINATION   \n",
       "159         213  previous_application.csv  NFLAG_INSURED_ON_APPROVAL   \n",
       "\n",
       "                                           Description  \\\n",
       "0                             ID of loan in our sample   \n",
       "1    Target variable (1 - client with payment diffi...   \n",
       "2          Identification if loan is cash or revolving   \n",
       "3                                 Gender of the client   \n",
       "4                        Flag if the client owns a car   \n",
       "..                                                 ...   \n",
       "155  Relative to application date of current applic...   \n",
       "156  Relative to application date of current applic...   \n",
       "157  Relative to application date of current applic...   \n",
       "158  Relative to application date of current applic...   \n",
       "159  Did the client requested insurance during the ...   \n",
       "\n",
       "                                   Special  \n",
       "0                                      NaN  \n",
       "1                                      NaN  \n",
       "2                                      NaN  \n",
       "3                                      NaN  \n",
       "4                                      NaN  \n",
       "..                                     ...  \n",
       "155  time only relative to the application  \n",
       "156  time only relative to the application  \n",
       "157  time only relative to the application  \n",
       "158  time only relative to the application  \n",
       "159                                    NaN  \n",
       "\n",
       "[160 rows x 5 columns]"
      ]
     },
     "execution_count": 5,
     "metadata": {},
     "output_type": "execute_result"
    }
   ],
   "source": [
    "# Column discription\n",
    "col_desc"
   ]
  },
  {
   "cell_type": "code",
   "execution_count": 6,
   "id": "fe1958fc",
   "metadata": {
    "execution": {
     "iopub.execute_input": "2024-06-25T04:46:37.914591Z",
     "iopub.status.busy": "2024-06-25T04:46:37.914074Z",
     "iopub.status.idle": "2024-06-25T04:46:37.931107Z",
     "shell.execute_reply": "2024-06-25T04:46:37.929845Z"
    },
    "papermill": {
     "duration": 0.039353,
     "end_time": "2024-06-25T04:46:37.933755",
     "exception": false,
     "start_time": "2024-06-25T04:46:37.894402",
     "status": "completed"
    },
    "tags": []
   },
   "outputs": [
    {
     "data": {
      "text/html": [
       "<div>\n",
       "<style scoped>\n",
       "    .dataframe tbody tr th:only-of-type {\n",
       "        vertical-align: middle;\n",
       "    }\n",
       "\n",
       "    .dataframe tbody tr th {\n",
       "        vertical-align: top;\n",
       "    }\n",
       "\n",
       "    .dataframe thead th {\n",
       "        text-align: right;\n",
       "    }\n",
       "</style>\n",
       "<table border=\"1\" class=\"dataframe\">\n",
       "  <thead>\n",
       "    <tr style=\"text-align: right;\">\n",
       "      <th></th>\n",
       "      <th>Row</th>\n",
       "      <th>Description</th>\n",
       "    </tr>\n",
       "  </thead>\n",
       "  <tbody>\n",
       "    <tr>\n",
       "      <th>0</th>\n",
       "      <td>SK_ID_CURR</td>\n",
       "      <td>ID of loan in our sample</td>\n",
       "    </tr>\n",
       "    <tr>\n",
       "      <th>1</th>\n",
       "      <td>TARGET</td>\n",
       "      <td>Target variable (1 - client with payment diffi...</td>\n",
       "    </tr>\n",
       "    <tr>\n",
       "      <th>2</th>\n",
       "      <td>NAME_CONTRACT_TYPE</td>\n",
       "      <td>Identification if loan is cash or revolving</td>\n",
       "    </tr>\n",
       "    <tr>\n",
       "      <th>3</th>\n",
       "      <td>CODE_GENDER</td>\n",
       "      <td>Gender of the client</td>\n",
       "    </tr>\n",
       "    <tr>\n",
       "      <th>4</th>\n",
       "      <td>FLAG_OWN_CAR</td>\n",
       "      <td>Flag if the client owns a car</td>\n",
       "    </tr>\n",
       "    <tr>\n",
       "      <th>...</th>\n",
       "      <td>...</td>\n",
       "      <td>...</td>\n",
       "    </tr>\n",
       "    <tr>\n",
       "      <th>155</th>\n",
       "      <td>DAYS_FIRST_DUE</td>\n",
       "      <td>Relative to application date of current applic...</td>\n",
       "    </tr>\n",
       "    <tr>\n",
       "      <th>156</th>\n",
       "      <td>DAYS_LAST_DUE_1ST_VERSION</td>\n",
       "      <td>Relative to application date of current applic...</td>\n",
       "    </tr>\n",
       "    <tr>\n",
       "      <th>157</th>\n",
       "      <td>DAYS_LAST_DUE</td>\n",
       "      <td>Relative to application date of current applic...</td>\n",
       "    </tr>\n",
       "    <tr>\n",
       "      <th>158</th>\n",
       "      <td>DAYS_TERMINATION</td>\n",
       "      <td>Relative to application date of current applic...</td>\n",
       "    </tr>\n",
       "    <tr>\n",
       "      <th>159</th>\n",
       "      <td>NFLAG_INSURED_ON_APPROVAL</td>\n",
       "      <td>Did the client requested insurance during the ...</td>\n",
       "    </tr>\n",
       "  </tbody>\n",
       "</table>\n",
       "<p>160 rows × 2 columns</p>\n",
       "</div>"
      ],
      "text/plain": [
       "                           Row  \\\n",
       "0                   SK_ID_CURR   \n",
       "1                       TARGET   \n",
       "2           NAME_CONTRACT_TYPE   \n",
       "3                  CODE_GENDER   \n",
       "4                 FLAG_OWN_CAR   \n",
       "..                         ...   \n",
       "155             DAYS_FIRST_DUE   \n",
       "156  DAYS_LAST_DUE_1ST_VERSION   \n",
       "157              DAYS_LAST_DUE   \n",
       "158           DAYS_TERMINATION   \n",
       "159  NFLAG_INSURED_ON_APPROVAL   \n",
       "\n",
       "                                           Description  \n",
       "0                             ID of loan in our sample  \n",
       "1    Target variable (1 - client with payment diffi...  \n",
       "2          Identification if loan is cash or revolving  \n",
       "3                                 Gender of the client  \n",
       "4                        Flag if the client owns a car  \n",
       "..                                                 ...  \n",
       "155  Relative to application date of current applic...  \n",
       "156  Relative to application date of current applic...  \n",
       "157  Relative to application date of current applic...  \n",
       "158  Relative to application date of current applic...  \n",
       "159  Did the client requested insurance during the ...  \n",
       "\n",
       "[160 rows x 2 columns]"
      ]
     },
     "execution_count": 6,
     "metadata": {},
     "output_type": "execute_result"
    }
   ],
   "source": [
    "# Information of Row and Description column\n",
    "col_desc.iloc[:,[2,3]]"
   ]
  },
  {
   "cell_type": "code",
   "execution_count": 7,
   "id": "e0941e0c",
   "metadata": {
    "execution": {
     "iopub.execute_input": "2024-06-25T04:46:37.970769Z",
     "iopub.status.busy": "2024-06-25T04:46:37.970310Z",
     "iopub.status.idle": "2024-06-25T04:46:37.977862Z",
     "shell.execute_reply": "2024-06-25T04:46:37.976418Z"
    },
    "papermill": {
     "duration": 0.02946,
     "end_time": "2024-06-25T04:46:37.980826",
     "exception": false,
     "start_time": "2024-06-25T04:46:37.951366",
     "status": "completed"
    },
    "tags": []
   },
   "outputs": [
    {
     "data": {
      "text/plain": [
       "(307511, 122)"
      ]
     },
     "execution_count": 7,
     "metadata": {},
     "output_type": "execute_result"
    }
   ],
   "source": [
    "# shape of application data\n",
    "df.shape"
   ]
  },
  {
   "cell_type": "code",
   "execution_count": 8,
   "id": "48be4c9d",
   "metadata": {
    "execution": {
     "iopub.execute_input": "2024-06-25T04:46:38.019761Z",
     "iopub.status.busy": "2024-06-25T04:46:38.019308Z",
     "iopub.status.idle": "2024-06-25T04:46:38.025247Z",
     "shell.execute_reply": "2024-06-25T04:46:38.023960Z"
    },
    "papermill": {
     "duration": 0.030378,
     "end_time": "2024-06-25T04:46:38.028978",
     "exception": false,
     "start_time": "2024-06-25T04:46:37.998600",
     "status": "completed"
    },
    "tags": []
   },
   "outputs": [],
   "source": [
    "pd.set_option('display.max_columns',None)\n",
    "pd.set_option('display.max_rows',None)"
   ]
  },
  {
   "cell_type": "code",
   "execution_count": 9,
   "id": "d9249eef",
   "metadata": {
    "execution": {
     "iopub.execute_input": "2024-06-25T04:46:38.067463Z",
     "iopub.status.busy": "2024-06-25T04:46:38.067006Z",
     "iopub.status.idle": "2024-06-25T04:46:38.081222Z",
     "shell.execute_reply": "2024-06-25T04:46:38.079946Z"
    },
    "papermill": {
     "duration": 0.036922,
     "end_time": "2024-06-25T04:46:38.084153",
     "exception": false,
     "start_time": "2024-06-25T04:46:38.047231",
     "status": "completed"
    },
    "tags": []
   },
   "outputs": [
    {
     "data": {
      "text/plain": [
       "SK_ID_CURR                        int64\n",
       "TARGET                            int64\n",
       "NAME_CONTRACT_TYPE               object\n",
       "CODE_GENDER                      object\n",
       "FLAG_OWN_CAR                     object\n",
       "FLAG_OWN_REALTY                  object\n",
       "CNT_CHILDREN                      int64\n",
       "AMT_INCOME_TOTAL                float64\n",
       "AMT_CREDIT                      float64\n",
       "AMT_ANNUITY                     float64\n",
       "AMT_GOODS_PRICE                 float64\n",
       "NAME_TYPE_SUITE                  object\n",
       "NAME_INCOME_TYPE                 object\n",
       "NAME_EDUCATION_TYPE              object\n",
       "NAME_FAMILY_STATUS               object\n",
       "NAME_HOUSING_TYPE                object\n",
       "REGION_POPULATION_RELATIVE      float64\n",
       "DAYS_BIRTH                        int64\n",
       "DAYS_EMPLOYED                     int64\n",
       "DAYS_REGISTRATION               float64\n",
       "DAYS_ID_PUBLISH                   int64\n",
       "OWN_CAR_AGE                     float64\n",
       "FLAG_MOBIL                        int64\n",
       "FLAG_EMP_PHONE                    int64\n",
       "FLAG_WORK_PHONE                   int64\n",
       "FLAG_CONT_MOBILE                  int64\n",
       "FLAG_PHONE                        int64\n",
       "FLAG_EMAIL                        int64\n",
       "OCCUPATION_TYPE                  object\n",
       "CNT_FAM_MEMBERS                 float64\n",
       "REGION_RATING_CLIENT              int64\n",
       "REGION_RATING_CLIENT_W_CITY       int64\n",
       "WEEKDAY_APPR_PROCESS_START       object\n",
       "HOUR_APPR_PROCESS_START           int64\n",
       "REG_REGION_NOT_LIVE_REGION        int64\n",
       "REG_REGION_NOT_WORK_REGION        int64\n",
       "LIVE_REGION_NOT_WORK_REGION       int64\n",
       "REG_CITY_NOT_LIVE_CITY            int64\n",
       "REG_CITY_NOT_WORK_CITY            int64\n",
       "LIVE_CITY_NOT_WORK_CITY           int64\n",
       "ORGANIZATION_TYPE                object\n",
       "EXT_SOURCE_1                    float64\n",
       "EXT_SOURCE_2                    float64\n",
       "EXT_SOURCE_3                    float64\n",
       "APARTMENTS_AVG                  float64\n",
       "BASEMENTAREA_AVG                float64\n",
       "YEARS_BEGINEXPLUATATION_AVG     float64\n",
       "YEARS_BUILD_AVG                 float64\n",
       "COMMONAREA_AVG                  float64\n",
       "ELEVATORS_AVG                   float64\n",
       "ENTRANCES_AVG                   float64\n",
       "FLOORSMAX_AVG                   float64\n",
       "FLOORSMIN_AVG                   float64\n",
       "LANDAREA_AVG                    float64\n",
       "LIVINGAPARTMENTS_AVG            float64\n",
       "LIVINGAREA_AVG                  float64\n",
       "NONLIVINGAPARTMENTS_AVG         float64\n",
       "NONLIVINGAREA_AVG               float64\n",
       "APARTMENTS_MODE                 float64\n",
       "BASEMENTAREA_MODE               float64\n",
       "YEARS_BEGINEXPLUATATION_MODE    float64\n",
       "YEARS_BUILD_MODE                float64\n",
       "COMMONAREA_MODE                 float64\n",
       "ELEVATORS_MODE                  float64\n",
       "ENTRANCES_MODE                  float64\n",
       "FLOORSMAX_MODE                  float64\n",
       "FLOORSMIN_MODE                  float64\n",
       "LANDAREA_MODE                   float64\n",
       "LIVINGAPARTMENTS_MODE           float64\n",
       "LIVINGAREA_MODE                 float64\n",
       "NONLIVINGAPARTMENTS_MODE        float64\n",
       "NONLIVINGAREA_MODE              float64\n",
       "APARTMENTS_MEDI                 float64\n",
       "BASEMENTAREA_MEDI               float64\n",
       "YEARS_BEGINEXPLUATATION_MEDI    float64\n",
       "YEARS_BUILD_MEDI                float64\n",
       "COMMONAREA_MEDI                 float64\n",
       "ELEVATORS_MEDI                  float64\n",
       "ENTRANCES_MEDI                  float64\n",
       "FLOORSMAX_MEDI                  float64\n",
       "FLOORSMIN_MEDI                  float64\n",
       "LANDAREA_MEDI                   float64\n",
       "LIVINGAPARTMENTS_MEDI           float64\n",
       "LIVINGAREA_MEDI                 float64\n",
       "NONLIVINGAPARTMENTS_MEDI        float64\n",
       "NONLIVINGAREA_MEDI              float64\n",
       "FONDKAPREMONT_MODE               object\n",
       "HOUSETYPE_MODE                   object\n",
       "TOTALAREA_MODE                  float64\n",
       "WALLSMATERIAL_MODE               object\n",
       "EMERGENCYSTATE_MODE              object\n",
       "OBS_30_CNT_SOCIAL_CIRCLE        float64\n",
       "DEF_30_CNT_SOCIAL_CIRCLE        float64\n",
       "OBS_60_CNT_SOCIAL_CIRCLE        float64\n",
       "DEF_60_CNT_SOCIAL_CIRCLE        float64\n",
       "DAYS_LAST_PHONE_CHANGE          float64\n",
       "FLAG_DOCUMENT_2                   int64\n",
       "FLAG_DOCUMENT_3                   int64\n",
       "FLAG_DOCUMENT_4                   int64\n",
       "FLAG_DOCUMENT_5                   int64\n",
       "FLAG_DOCUMENT_6                   int64\n",
       "FLAG_DOCUMENT_7                   int64\n",
       "FLAG_DOCUMENT_8                   int64\n",
       "FLAG_DOCUMENT_9                   int64\n",
       "FLAG_DOCUMENT_10                  int64\n",
       "FLAG_DOCUMENT_11                  int64\n",
       "FLAG_DOCUMENT_12                  int64\n",
       "FLAG_DOCUMENT_13                  int64\n",
       "FLAG_DOCUMENT_14                  int64\n",
       "FLAG_DOCUMENT_15                  int64\n",
       "FLAG_DOCUMENT_16                  int64\n",
       "FLAG_DOCUMENT_17                  int64\n",
       "FLAG_DOCUMENT_18                  int64\n",
       "FLAG_DOCUMENT_19                  int64\n",
       "FLAG_DOCUMENT_20                  int64\n",
       "FLAG_DOCUMENT_21                  int64\n",
       "AMT_REQ_CREDIT_BUREAU_HOUR      float64\n",
       "AMT_REQ_CREDIT_BUREAU_DAY       float64\n",
       "AMT_REQ_CREDIT_BUREAU_WEEK      float64\n",
       "AMT_REQ_CREDIT_BUREAU_MON       float64\n",
       "AMT_REQ_CREDIT_BUREAU_QRT       float64\n",
       "AMT_REQ_CREDIT_BUREAU_YEAR      float64\n",
       "dtype: object"
      ]
     },
     "execution_count": 9,
     "metadata": {},
     "output_type": "execute_result"
    }
   ],
   "source": [
    "df.dtypes # data type of every column in Application data"
   ]
  },
  {
   "cell_type": "code",
   "execution_count": 10,
   "id": "4ec40d6c",
   "metadata": {
    "execution": {
     "iopub.execute_input": "2024-06-25T04:46:38.123291Z",
     "iopub.status.busy": "2024-06-25T04:46:38.122903Z",
     "iopub.status.idle": "2024-06-25T04:46:38.665260Z",
     "shell.execute_reply": "2024-06-25T04:46:38.663874Z"
    },
    "papermill": {
     "duration": 0.56578,
     "end_time": "2024-06-25T04:46:38.668686",
     "exception": false,
     "start_time": "2024-06-25T04:46:38.102906",
     "status": "completed"
    },
    "tags": []
   },
   "outputs": [
    {
     "data": {
      "text/plain": [
       "SK_ID_CURR                       0.00\n",
       "TARGET                           0.00\n",
       "NAME_CONTRACT_TYPE               0.00\n",
       "CODE_GENDER                      0.00\n",
       "FLAG_OWN_CAR                     0.00\n",
       "FLAG_OWN_REALTY                  0.00\n",
       "CNT_CHILDREN                     0.00\n",
       "AMT_INCOME_TOTAL                 0.00\n",
       "AMT_CREDIT                       0.00\n",
       "AMT_ANNUITY                      0.00\n",
       "AMT_GOODS_PRICE                  0.09\n",
       "NAME_TYPE_SUITE                  0.42\n",
       "NAME_INCOME_TYPE                 0.00\n",
       "NAME_EDUCATION_TYPE              0.00\n",
       "NAME_FAMILY_STATUS               0.00\n",
       "NAME_HOUSING_TYPE                0.00\n",
       "REGION_POPULATION_RELATIVE       0.00\n",
       "DAYS_BIRTH                       0.00\n",
       "DAYS_EMPLOYED                    0.00\n",
       "DAYS_REGISTRATION                0.00\n",
       "DAYS_ID_PUBLISH                  0.00\n",
       "OWN_CAR_AGE                     65.99\n",
       "FLAG_MOBIL                       0.00\n",
       "FLAG_EMP_PHONE                   0.00\n",
       "FLAG_WORK_PHONE                  0.00\n",
       "FLAG_CONT_MOBILE                 0.00\n",
       "FLAG_PHONE                       0.00\n",
       "FLAG_EMAIL                       0.00\n",
       "OCCUPATION_TYPE                 31.35\n",
       "CNT_FAM_MEMBERS                  0.00\n",
       "REGION_RATING_CLIENT             0.00\n",
       "REGION_RATING_CLIENT_W_CITY      0.00\n",
       "WEEKDAY_APPR_PROCESS_START       0.00\n",
       "HOUR_APPR_PROCESS_START          0.00\n",
       "REG_REGION_NOT_LIVE_REGION       0.00\n",
       "REG_REGION_NOT_WORK_REGION       0.00\n",
       "LIVE_REGION_NOT_WORK_REGION      0.00\n",
       "REG_CITY_NOT_LIVE_CITY           0.00\n",
       "REG_CITY_NOT_WORK_CITY           0.00\n",
       "LIVE_CITY_NOT_WORK_CITY          0.00\n",
       "ORGANIZATION_TYPE                0.00\n",
       "EXT_SOURCE_1                    56.38\n",
       "EXT_SOURCE_2                     0.21\n",
       "EXT_SOURCE_3                    19.83\n",
       "APARTMENTS_AVG                  50.75\n",
       "BASEMENTAREA_AVG                58.52\n",
       "YEARS_BEGINEXPLUATATION_AVG     48.78\n",
       "YEARS_BUILD_AVG                 66.50\n",
       "COMMONAREA_AVG                  69.87\n",
       "ELEVATORS_AVG                   53.30\n",
       "ENTRANCES_AVG                   50.35\n",
       "FLOORSMAX_AVG                   49.76\n",
       "FLOORSMIN_AVG                   67.85\n",
       "LANDAREA_AVG                    59.38\n",
       "LIVINGAPARTMENTS_AVG            68.35\n",
       "LIVINGAREA_AVG                  50.19\n",
       "NONLIVINGAPARTMENTS_AVG         69.43\n",
       "NONLIVINGAREA_AVG               55.18\n",
       "APARTMENTS_MODE                 50.75\n",
       "BASEMENTAREA_MODE               58.52\n",
       "YEARS_BEGINEXPLUATATION_MODE    48.78\n",
       "YEARS_BUILD_MODE                66.50\n",
       "COMMONAREA_MODE                 69.87\n",
       "ELEVATORS_MODE                  53.30\n",
       "ENTRANCES_MODE                  50.35\n",
       "FLOORSMAX_MODE                  49.76\n",
       "FLOORSMIN_MODE                  67.85\n",
       "LANDAREA_MODE                   59.38\n",
       "LIVINGAPARTMENTS_MODE           68.35\n",
       "LIVINGAREA_MODE                 50.19\n",
       "NONLIVINGAPARTMENTS_MODE        69.43\n",
       "NONLIVINGAREA_MODE              55.18\n",
       "APARTMENTS_MEDI                 50.75\n",
       "BASEMENTAREA_MEDI               58.52\n",
       "YEARS_BEGINEXPLUATATION_MEDI    48.78\n",
       "YEARS_BUILD_MEDI                66.50\n",
       "COMMONAREA_MEDI                 69.87\n",
       "ELEVATORS_MEDI                  53.30\n",
       "ENTRANCES_MEDI                  50.35\n",
       "FLOORSMAX_MEDI                  49.76\n",
       "FLOORSMIN_MEDI                  67.85\n",
       "LANDAREA_MEDI                   59.38\n",
       "LIVINGAPARTMENTS_MEDI           68.35\n",
       "LIVINGAREA_MEDI                 50.19\n",
       "NONLIVINGAPARTMENTS_MEDI        69.43\n",
       "NONLIVINGAREA_MEDI              55.18\n",
       "FONDKAPREMONT_MODE              68.39\n",
       "HOUSETYPE_MODE                  50.18\n",
       "TOTALAREA_MODE                  48.27\n",
       "WALLSMATERIAL_MODE              50.84\n",
       "EMERGENCYSTATE_MODE             47.40\n",
       "OBS_30_CNT_SOCIAL_CIRCLE         0.33\n",
       "DEF_30_CNT_SOCIAL_CIRCLE         0.33\n",
       "OBS_60_CNT_SOCIAL_CIRCLE         0.33\n",
       "DEF_60_CNT_SOCIAL_CIRCLE         0.33\n",
       "DAYS_LAST_PHONE_CHANGE           0.00\n",
       "FLAG_DOCUMENT_2                  0.00\n",
       "FLAG_DOCUMENT_3                  0.00\n",
       "FLAG_DOCUMENT_4                  0.00\n",
       "FLAG_DOCUMENT_5                  0.00\n",
       "FLAG_DOCUMENT_6                  0.00\n",
       "FLAG_DOCUMENT_7                  0.00\n",
       "FLAG_DOCUMENT_8                  0.00\n",
       "FLAG_DOCUMENT_9                  0.00\n",
       "FLAG_DOCUMENT_10                 0.00\n",
       "FLAG_DOCUMENT_11                 0.00\n",
       "FLAG_DOCUMENT_12                 0.00\n",
       "FLAG_DOCUMENT_13                 0.00\n",
       "FLAG_DOCUMENT_14                 0.00\n",
       "FLAG_DOCUMENT_15                 0.00\n",
       "FLAG_DOCUMENT_16                 0.00\n",
       "FLAG_DOCUMENT_17                 0.00\n",
       "FLAG_DOCUMENT_18                 0.00\n",
       "FLAG_DOCUMENT_19                 0.00\n",
       "FLAG_DOCUMENT_20                 0.00\n",
       "FLAG_DOCUMENT_21                 0.00\n",
       "AMT_REQ_CREDIT_BUREAU_HOUR      13.50\n",
       "AMT_REQ_CREDIT_BUREAU_DAY       13.50\n",
       "AMT_REQ_CREDIT_BUREAU_WEEK      13.50\n",
       "AMT_REQ_CREDIT_BUREAU_MON       13.50\n",
       "AMT_REQ_CREDIT_BUREAU_QRT       13.50\n",
       "AMT_REQ_CREDIT_BUREAU_YEAR      13.50\n",
       "dtype: float64"
      ]
     },
     "execution_count": 10,
     "metadata": {},
     "output_type": "execute_result"
    }
   ],
   "source": [
    "# Null values in df in (%) form\n",
    "df_null= round(df.isnull().sum()*100/len(df),2)\n",
    "df_null"
   ]
  },
  {
   "cell_type": "code",
   "execution_count": 11,
   "id": "e4ec916a",
   "metadata": {
    "execution": {
     "iopub.execute_input": "2024-06-25T04:46:38.709472Z",
     "iopub.status.busy": "2024-06-25T04:46:38.709075Z",
     "iopub.status.idle": "2024-06-25T04:46:38.722224Z",
     "shell.execute_reply": "2024-06-25T04:46:38.720765Z"
    },
    "papermill": {
     "duration": 0.037063,
     "end_time": "2024-06-25T04:46:38.725353",
     "exception": false,
     "start_time": "2024-06-25T04:46:38.688290",
     "status": "completed"
    },
    "tags": []
   },
   "outputs": [
    {
     "data": {
      "text/plain": [
       "OWN_CAR_AGE                     65.99\n",
       "OCCUPATION_TYPE                 31.35\n",
       "EXT_SOURCE_1                    56.38\n",
       "APARTMENTS_AVG                  50.75\n",
       "BASEMENTAREA_AVG                58.52\n",
       "YEARS_BEGINEXPLUATATION_AVG     48.78\n",
       "YEARS_BUILD_AVG                 66.50\n",
       "COMMONAREA_AVG                  69.87\n",
       "ELEVATORS_AVG                   53.30\n",
       "ENTRANCES_AVG                   50.35\n",
       "FLOORSMAX_AVG                   49.76\n",
       "FLOORSMIN_AVG                   67.85\n",
       "LANDAREA_AVG                    59.38\n",
       "LIVINGAPARTMENTS_AVG            68.35\n",
       "LIVINGAREA_AVG                  50.19\n",
       "NONLIVINGAPARTMENTS_AVG         69.43\n",
       "NONLIVINGAREA_AVG               55.18\n",
       "APARTMENTS_MODE                 50.75\n",
       "BASEMENTAREA_MODE               58.52\n",
       "YEARS_BEGINEXPLUATATION_MODE    48.78\n",
       "YEARS_BUILD_MODE                66.50\n",
       "COMMONAREA_MODE                 69.87\n",
       "ELEVATORS_MODE                  53.30\n",
       "ENTRANCES_MODE                  50.35\n",
       "FLOORSMAX_MODE                  49.76\n",
       "FLOORSMIN_MODE                  67.85\n",
       "LANDAREA_MODE                   59.38\n",
       "LIVINGAPARTMENTS_MODE           68.35\n",
       "LIVINGAREA_MODE                 50.19\n",
       "NONLIVINGAPARTMENTS_MODE        69.43\n",
       "NONLIVINGAREA_MODE              55.18\n",
       "APARTMENTS_MEDI                 50.75\n",
       "BASEMENTAREA_MEDI               58.52\n",
       "YEARS_BEGINEXPLUATATION_MEDI    48.78\n",
       "YEARS_BUILD_MEDI                66.50\n",
       "COMMONAREA_MEDI                 69.87\n",
       "ELEVATORS_MEDI                  53.30\n",
       "ENTRANCES_MEDI                  50.35\n",
       "FLOORSMAX_MEDI                  49.76\n",
       "FLOORSMIN_MEDI                  67.85\n",
       "LANDAREA_MEDI                   59.38\n",
       "LIVINGAPARTMENTS_MEDI           68.35\n",
       "LIVINGAREA_MEDI                 50.19\n",
       "NONLIVINGAPARTMENTS_MEDI        69.43\n",
       "NONLIVINGAREA_MEDI              55.18\n",
       "FONDKAPREMONT_MODE              68.39\n",
       "HOUSETYPE_MODE                  50.18\n",
       "TOTALAREA_MODE                  48.27\n",
       "WALLSMATERIAL_MODE              50.84\n",
       "EMERGENCYSTATE_MODE             47.40\n",
       "dtype: float64"
      ]
     },
     "execution_count": 11,
     "metadata": {},
     "output_type": "execute_result"
    }
   ],
   "source": [
    "# Getting columns that had more than 30 % null data\n",
    "null_v = df_null[df_null>=30]\n",
    "null_v"
   ]
  },
  {
   "cell_type": "markdown",
   "id": "51ea7c70",
   "metadata": {
    "papermill": {
     "duration": 0.018369,
     "end_time": "2024-06-25T04:46:38.763065",
     "exception": false,
     "start_time": "2024-06-25T04:46:38.744696",
     "status": "completed"
    },
    "tags": []
   },
   "source": [
    "#### drop data of Null_v"
   ]
  },
  {
   "cell_type": "code",
   "execution_count": 12,
   "id": "aaddd463",
   "metadata": {
    "execution": {
     "iopub.execute_input": "2024-06-25T04:46:38.803452Z",
     "iopub.status.busy": "2024-06-25T04:46:38.802947Z",
     "iopub.status.idle": "2024-06-25T04:46:38.887652Z",
     "shell.execute_reply": "2024-06-25T04:46:38.886340Z"
    },
    "papermill": {
     "duration": 0.108682,
     "end_time": "2024-06-25T04:46:38.890474",
     "exception": false,
     "start_time": "2024-06-25T04:46:38.781792",
     "status": "completed"
    },
    "tags": []
   },
   "outputs": [],
   "source": [
    "l1 = list(null_v.index) # add that data in list\n",
    "df.drop(l1 , axis = 1 , inplace = True) # Drop that data using 'drop' function"
   ]
  },
  {
   "cell_type": "code",
   "execution_count": 13,
   "id": "8a3b18c5",
   "metadata": {
    "execution": {
     "iopub.execute_input": "2024-06-25T04:46:38.930441Z",
     "iopub.status.busy": "2024-06-25T04:46:38.930051Z",
     "iopub.status.idle": "2024-06-25T04:46:38.938909Z",
     "shell.execute_reply": "2024-06-25T04:46:38.937030Z"
    },
    "papermill": {
     "duration": 0.031801,
     "end_time": "2024-06-25T04:46:38.941701",
     "exception": false,
     "start_time": "2024-06-25T04:46:38.909900",
     "status": "completed"
    },
    "tags": []
   },
   "outputs": [
    {
     "data": {
      "text/plain": [
       "(307511, 72)"
      ]
     },
     "execution_count": 13,
     "metadata": {},
     "output_type": "execute_result"
    }
   ],
   "source": [
    "df.shape # Shape after removing Null data (<30%)"
   ]
  },
  {
   "cell_type": "markdown",
   "id": "fea57cd8",
   "metadata": {
    "papermill": {
     "duration": 0.018889,
     "end_time": "2024-06-25T04:46:38.979920",
     "exception": false,
     "start_time": "2024-06-25T04:46:38.961031",
     "status": "completed"
    },
    "tags": []
   },
   "source": [
    "### Working on 'AMT_INCOME_TOTAL' column "
   ]
  },
  {
   "cell_type": "code",
   "execution_count": 14,
   "id": "42d1297e",
   "metadata": {
    "execution": {
     "iopub.execute_input": "2024-06-25T04:46:39.021130Z",
     "iopub.status.busy": "2024-06-25T04:46:39.020715Z",
     "iopub.status.idle": "2024-06-25T04:46:39.049178Z",
     "shell.execute_reply": "2024-06-25T04:46:39.047912Z"
    },
    "papermill": {
     "duration": 0.052776,
     "end_time": "2024-06-25T04:46:39.051760",
     "exception": false,
     "start_time": "2024-06-25T04:46:38.998984",
     "status": "completed"
    },
    "tags": []
   },
   "outputs": [
    {
     "data": {
      "text/plain": [
       "count    3.075110e+05\n",
       "mean     1.687979e+05\n",
       "std      2.371231e+05\n",
       "min      2.565000e+04\n",
       "25%      1.125000e+05\n",
       "50%      1.471500e+05\n",
       "75%      2.025000e+05\n",
       "max      1.170000e+08\n",
       "Name: AMT_INCOME_TOTAL, dtype: float64"
      ]
     },
     "execution_count": 14,
     "metadata": {},
     "output_type": "execute_result"
    }
   ],
   "source": [
    "df['AMT_INCOME_TOTAL'].describe() # Description of AMT_INCOME_TOTAL"
   ]
  },
  {
   "cell_type": "markdown",
   "id": "713b9434",
   "metadata": {
    "papermill": {
     "duration": 0.019338,
     "end_time": "2024-06-25T04:46:39.090096",
     "exception": false,
     "start_time": "2024-06-25T04:46:39.070758",
     "status": "completed"
    },
    "tags": []
   },
   "source": [
    "#### Outliers in data"
   ]
  },
  {
   "cell_type": "code",
   "execution_count": 15,
   "id": "544c5221",
   "metadata": {
    "execution": {
     "iopub.execute_input": "2024-06-25T04:46:39.131673Z",
     "iopub.status.busy": "2024-06-25T04:46:39.131195Z",
     "iopub.status.idle": "2024-06-25T04:46:39.446901Z",
     "shell.execute_reply": "2024-06-25T04:46:39.445622Z"
    },
    "papermill": {
     "duration": 0.340306,
     "end_time": "2024-06-25T04:46:39.449530",
     "exception": false,
     "start_time": "2024-06-25T04:46:39.109224",
     "status": "completed"
    },
    "tags": []
   },
   "outputs": [
    {
     "data": {
      "image/png": "[encoded data removed]",
      "text/plain": [
       "<Figure size 640x480 with 1 Axes>"
      ]
     },
     "metadata": {},
     "output_type": "display_data"
    }
   ],
   "source": [
    "plt.boxplot(df['AMT_INCOME_TOTAL']);\n",
    "plt.title('Outliers in data');"
   ]
  },
  {
   "cell_type": "markdown",
   "id": "80b70e82",
   "metadata": {
    "papermill": {
     "duration": 0.019498,
     "end_time": "2024-06-25T04:46:39.488300",
     "exception": false,
     "start_time": "2024-06-25T04:46:39.468802",
     "status": "completed"
    },
    "tags": []
   },
   "source": [
    "##### removing outliers"
   ]
  },
  {
   "cell_type": "code",
   "execution_count": 16,
   "id": "d9b4b8a0",
   "metadata": {
    "execution": {
     "iopub.execute_input": "2024-06-25T04:46:39.530584Z",
     "iopub.status.busy": "2024-06-25T04:46:39.530137Z",
     "iopub.status.idle": "2024-06-25T04:46:39.658158Z",
     "shell.execute_reply": "2024-06-25T04:46:39.656743Z"
    },
    "papermill": {
     "duration": 0.152592,
     "end_time": "2024-06-25T04:46:39.661063",
     "exception": false,
     "start_time": "2024-06-25T04:46:39.508471",
     "status": "completed"
    },
    "tags": []
   },
   "outputs": [],
   "source": [
    "q3  = np.percentile(df['AMT_INCOME_TOTAL'],75)\n",
    "q2 = np.percentile(df['AMT_INCOME_TOTAL'],25)\n",
    "iqr = q3 -q2\n",
    "ub = q3 +(1.5 * iqr)\n",
    "lb = q2-(1.5 * iqr)\n",
    "\n",
    "df  = df[(df['AMT_INCOME_TOTAL'] <= ub) & (df['AMT_INCOME_TOTAL'] >=lb)]"
   ]
  },
  {
   "cell_type": "markdown",
   "id": "7ac70cd8",
   "metadata": {
    "papermill": {
     "duration": 0.019378,
     "end_time": "2024-06-25T04:46:39.700920",
     "exception": false,
     "start_time": "2024-06-25T04:46:39.681542",
     "status": "completed"
    },
    "tags": []
   },
   "source": [
    "##### Plot after removing ouliers"
   ]
  },
  {
   "cell_type": "code",
   "execution_count": 17,
   "id": "0918e74b",
   "metadata": {
    "execution": {
     "iopub.execute_input": "2024-06-25T04:46:39.805152Z",
     "iopub.status.busy": "2024-06-25T04:46:39.804377Z",
     "iopub.status.idle": "2024-06-25T04:46:40.200995Z",
     "shell.execute_reply": "2024-06-25T04:46:40.199584Z"
    },
    "papermill": {
     "duration": 0.484136,
     "end_time": "2024-06-25T04:46:40.204284",
     "exception": false,
     "start_time": "2024-06-25T04:46:39.720148",
     "status": "completed"
    },
    "tags": []
   },
   "outputs": [
    {
     "data": {
      "image/png": "[encoded data removed]",
      "text/plain": [
       "<Figure size 640x480 with 1 Axes>"
      ]
     },
     "metadata": {},
     "output_type": "display_data"
    }
   ],
   "source": [
    "plt.boxplot(df['AMT_INCOME_TOTAL']);\n",
    "plt.title('After Outliers in data');"
   ]
  },
  {
   "cell_type": "markdown",
   "id": "1ecb2ddb",
   "metadata": {
    "papermill": {
     "duration": 0.022008,
     "end_time": "2024-06-25T04:46:40.247993",
     "exception": false,
     "start_time": "2024-06-25T04:46:40.225985",
     "status": "completed"
    },
    "tags": []
   },
   "source": [
    "#### Summary Statistics"
   ]
  },
  {
   "cell_type": "code",
   "execution_count": 18,
   "id": "1e215995",
   "metadata": {
    "execution": {
     "iopub.execute_input": "2024-06-25T04:46:40.293237Z",
     "iopub.status.busy": "2024-06-25T04:46:40.292803Z",
     "iopub.status.idle": "2024-06-25T04:46:40.317603Z",
     "shell.execute_reply": "2024-06-25T04:46:40.316285Z"
    },
    "papermill": {
     "duration": 0.050087,
     "end_time": "2024-06-25T04:46:40.320369",
     "exception": false,
     "start_time": "2024-06-25T04:46:40.270282",
     "status": "completed"
    },
    "tags": []
   },
   "outputs": [
    {
     "data": {
      "text/plain": [
       "count    293476.000000\n",
       "mean     154263.935956\n",
       "std       64014.949755\n",
       "min       25650.000000\n",
       "25%      112500.000000\n",
       "50%      135000.000000\n",
       "75%      202500.000000\n",
       "max      337500.000000\n",
       "Name: AMT_INCOME_TOTAL, dtype: float64"
      ]
     },
     "execution_count": 18,
     "metadata": {},
     "output_type": "execute_result"
    }
   ],
   "source": [
    "df['AMT_INCOME_TOTAL'].describe()"
   ]
  },
  {
   "cell_type": "markdown",
   "id": "88a649c3",
   "metadata": {
    "papermill": {
     "duration": 0.019794,
     "end_time": "2024-06-25T04:46:40.360615",
     "exception": false,
     "start_time": "2024-06-25T04:46:40.340821",
     "status": "completed"
    },
    "tags": []
   },
   "source": [
    "#### Data visualization "
   ]
  },
  {
   "cell_type": "code",
   "execution_count": 19,
   "id": "545948cc",
   "metadata": {
    "execution": {
     "iopub.execute_input": "2024-06-25T04:46:40.404619Z",
     "iopub.status.busy": "2024-06-25T04:46:40.404145Z",
     "iopub.status.idle": "2024-06-25T04:46:40.739349Z",
     "shell.execute_reply": "2024-06-25T04:46:40.738093Z"
    },
    "papermill": {
     "duration": 0.361522,
     "end_time": "2024-06-25T04:46:40.742638",
     "exception": false,
     "start_time": "2024-06-25T04:46:40.381116",
     "status": "completed"
    },
    "tags": []
   },
   "outputs": [
    {
     "data": {
      "image/png": "[encoded data removed]",
      "text/plain": [
       "<Figure size 640x480 with 1 Axes>"
      ]
     },
     "metadata": {},
     "output_type": "display_data"
    }
   ],
   "source": [
    "plt.hist(df['AMT_INCOME_TOTAL'],histtype='step',color = 'black');"
   ]
  },
  {
   "cell_type": "code",
   "execution_count": 20,
   "id": "0c5aeabf",
   "metadata": {
    "execution": {
     "iopub.execute_input": "2024-06-25T04:46:40.791708Z",
     "iopub.status.busy": "2024-06-25T04:46:40.791153Z",
     "iopub.status.idle": "2024-06-25T04:46:42.344109Z",
     "shell.execute_reply": "2024-06-25T04:46:42.342849Z"
    },
    "papermill": {
     "duration": 1.579633,
     "end_time": "2024-06-25T04:46:42.347289",
     "exception": false,
     "start_time": "2024-06-25T04:46:40.767656",
     "status": "completed"
    },
    "tags": []
   },
   "outputs": [
    {
     "data": {
      "image/png": "[encoded data removed]",
      "text/plain": [
       "<Figure size 1600x900 with 1 Axes>"
      ]
     },
     "metadata": {},
     "output_type": "display_data"
    }
   ],
   "source": [
    "plt.figure(figsize =(16,9))\n",
    "sns.countplot(df,x = \"NAME_INCOME_TYPE\",width = 0.6,hue = \"NAME_FAMILY_STATUS\");"
   ]
  },
  {
   "cell_type": "markdown",
   "id": "cb48816a",
   "metadata": {
    "papermill": {
     "duration": 0.021749,
     "end_time": "2024-06-25T04:46:42.390870",
     "exception": false,
     "start_time": "2024-06-25T04:46:42.369121",
     "status": "completed"
    },
    "tags": []
   },
   "source": [
    "# PlaygroundS4E06|OriginalData Data"
   ]
  },
  {
   "cell_type": "code",
   "execution_count": 21,
   "id": "8cdb749c",
   "metadata": {
    "execution": {
     "iopub.execute_input": "2024-06-25T04:46:42.436009Z",
     "iopub.status.busy": "2024-06-25T04:46:42.435387Z",
     "iopub.status.idle": "2024-06-25T04:46:42.482836Z",
     "shell.execute_reply": "2024-06-25T04:46:42.481574Z"
    },
    "papermill": {
     "duration": 0.073007,
     "end_time": "2024-06-25T04:46:42.485657",
     "exception": false,
     "start_time": "2024-06-25T04:46:42.412650",
     "status": "completed"
    },
    "tags": []
   },
   "outputs": [],
   "source": [
    "df = pd.read_csv('/kaggle/input/playgrounds4e06originaldata/original.csv')"
   ]
  },
  {
   "cell_type": "code",
   "execution_count": 22,
   "id": "ffca3e7c",
   "metadata": {
    "execution": {
     "iopub.execute_input": "2024-06-25T04:46:42.531589Z",
     "iopub.status.busy": "2024-06-25T04:46:42.531166Z",
     "iopub.status.idle": "2024-06-25T04:46:42.540864Z",
     "shell.execute_reply": "2024-06-25T04:46:42.539267Z"
    },
    "papermill": {
     "duration": 0.036022,
     "end_time": "2024-06-25T04:46:42.543770",
     "exception": false,
     "start_time": "2024-06-25T04:46:42.507748",
     "status": "completed"
    },
    "tags": []
   },
   "outputs": [
    {
     "data": {
      "text/plain": [
       "(4424, 38)"
      ]
     },
     "execution_count": 22,
     "metadata": {},
     "output_type": "execute_result"
    }
   ],
   "source": [
    "df.shape"
   ]
  },
  {
   "cell_type": "code",
   "execution_count": 23,
   "id": "d88d6509",
   "metadata": {
    "execution": {
     "iopub.execute_input": "2024-06-25T04:46:42.589114Z",
     "iopub.status.busy": "2024-06-25T04:46:42.588065Z",
     "iopub.status.idle": "2024-06-25T04:46:42.595415Z",
     "shell.execute_reply": "2024-06-25T04:46:42.594252Z"
    },
    "papermill": {
     "duration": 0.032925,
     "end_time": "2024-06-25T04:46:42.598036",
     "exception": false,
     "start_time": "2024-06-25T04:46:42.565111",
     "status": "completed"
    },
    "tags": []
   },
   "outputs": [
    {
     "data": {
      "text/plain": [
       "168112"
      ]
     },
     "execution_count": 23,
     "metadata": {},
     "output_type": "execute_result"
    }
   ],
   "source": [
    "df.size"
   ]
  },
  {
   "cell_type": "code",
   "execution_count": 24,
   "id": "4bf49eca",
   "metadata": {
    "execution": {
     "iopub.execute_input": "2024-06-25T04:46:42.643406Z",
     "iopub.status.busy": "2024-06-25T04:46:42.643038Z",
     "iopub.status.idle": "2024-06-25T04:46:42.654760Z",
     "shell.execute_reply": "2024-06-25T04:46:42.653535Z"
    },
    "papermill": {
     "duration": 0.03739,
     "end_time": "2024-06-25T04:46:42.657176",
     "exception": false,
     "start_time": "2024-06-25T04:46:42.619786",
     "status": "completed"
    },
    "tags": []
   },
   "outputs": [
    {
     "data": {
      "text/plain": [
       "id                                                0\n",
       "Marital status                                    0\n",
       "Application mode                                  0\n",
       "Application order                                 0\n",
       "Course                                            0\n",
       "Daytime/evening attendance\\t                      0\n",
       "Previous qualification                            0\n",
       "Previous qualification (grade)                    0\n",
       "Nacionality                                       0\n",
       "Mother's qualification                            0\n",
       "Father's qualification                            0\n",
       "Mother's occupation                               0\n",
       "Father's occupation                               0\n",
       "Admission grade                                   0\n",
       "Displaced                                         0\n",
       "Educational special needs                         0\n",
       "Debtor                                            0\n",
       "Tuition fees up to date                           0\n",
       "Gender                                            0\n",
       "Scholarship holder                                0\n",
       "Age at enrollment                                 0\n",
       "International                                     0\n",
       "Curricular units 1st sem (credited)               0\n",
       "Curricular units 1st sem (enrolled)               0\n",
       "Curricular units 1st sem (evaluations)            0\n",
       "Curricular units 1st sem (approved)               0\n",
       "Curricular units 1st sem (grade)                  0\n",
       "Curricular units 1st sem (without evaluations)    0\n",
       "Curricular units 2nd sem (credited)               0\n",
       "Curricular units 2nd sem (enrolled)               0\n",
       "Curricular units 2nd sem (evaluations)            0\n",
       "Curricular units 2nd sem (approved)               0\n",
       "Curricular units 2nd sem (grade)                  0\n",
       "Curricular units 2nd sem (without evaluations)    0\n",
       "Unemployment rate                                 0\n",
       "Inflation rate                                    0\n",
       "GDP                                               0\n",
       "Target                                            0\n",
       "dtype: int64"
      ]
     },
     "execution_count": 24,
     "metadata": {},
     "output_type": "execute_result"
    }
   ],
   "source": [
    "df_null= round(df.isnull().sum())\n",
    "df_null"
   ]
  },
  {
   "cell_type": "markdown",
   "id": "b9ada9d3",
   "metadata": {
    "papermill": {
     "duration": 0.021153,
     "end_time": "2024-06-25T04:46:42.700014",
     "exception": false,
     "start_time": "2024-06-25T04:46:42.678861",
     "status": "completed"
    },
    "tags": []
   },
   "source": [
    "## There is no null value\n",
    "### Data cleaning is not applicable"
   ]
  },
  {
   "cell_type": "code",
   "execution_count": 25,
   "id": "e94448f2",
   "metadata": {
    "execution": {
     "iopub.execute_input": "2024-06-25T04:46:42.746718Z",
     "iopub.status.busy": "2024-06-25T04:46:42.745355Z",
     "iopub.status.idle": "2024-06-25T04:46:42.866314Z",
     "shell.execute_reply": "2024-06-25T04:46:42.864921Z"
    },
    "papermill": {
     "duration": 0.147105,
     "end_time": "2024-06-25T04:46:42.869120",
     "exception": false,
     "start_time": "2024-06-25T04:46:42.722015",
     "status": "completed"
    },
    "tags": []
   },
   "outputs": [
    {
     "data": {
      "text/html": [
       "<div>\n",
       "<style scoped>\n",
       "    .dataframe tbody tr th:only-of-type {\n",
       "        vertical-align: middle;\n",
       "    }\n",
       "\n",
       "    .dataframe tbody tr th {\n",
       "        vertical-align: top;\n",
       "    }\n",
       "\n",
       "    .dataframe thead th {\n",
       "        text-align: right;\n",
       "    }\n",
       "</style>\n",
       "<table border=\"1\" class=\"dataframe\">\n",
       "  <thead>\n",
       "    <tr style=\"text-align: right;\">\n",
       "      <th></th>\n",
       "      <th>id</th>\n",
       "      <th>Marital status</th>\n",
       "      <th>Application mode</th>\n",
       "      <th>Application order</th>\n",
       "      <th>Course</th>\n",
       "      <th>Daytime/evening attendance\\t</th>\n",
       "      <th>Previous qualification</th>\n",
       "      <th>Previous qualification (grade)</th>\n",
       "      <th>Nacionality</th>\n",
       "      <th>Mother's qualification</th>\n",
       "      <th>Father's qualification</th>\n",
       "      <th>Mother's occupation</th>\n",
       "      <th>Father's occupation</th>\n",
       "      <th>Admission grade</th>\n",
       "      <th>Displaced</th>\n",
       "      <th>Educational special needs</th>\n",
       "      <th>Debtor</th>\n",
       "      <th>Tuition fees up to date</th>\n",
       "      <th>Gender</th>\n",
       "      <th>Scholarship holder</th>\n",
       "      <th>Age at enrollment</th>\n",
       "      <th>International</th>\n",
       "      <th>Curricular units 1st sem (credited)</th>\n",
       "      <th>Curricular units 1st sem (enrolled)</th>\n",
       "      <th>Curricular units 1st sem (evaluations)</th>\n",
       "      <th>Curricular units 1st sem (approved)</th>\n",
       "      <th>Curricular units 1st sem (grade)</th>\n",
       "      <th>Curricular units 1st sem (without evaluations)</th>\n",
       "      <th>Curricular units 2nd sem (credited)</th>\n",
       "      <th>Curricular units 2nd sem (enrolled)</th>\n",
       "      <th>Curricular units 2nd sem (evaluations)</th>\n",
       "      <th>Curricular units 2nd sem (approved)</th>\n",
       "      <th>Curricular units 2nd sem (grade)</th>\n",
       "      <th>Curricular units 2nd sem (without evaluations)</th>\n",
       "      <th>Unemployment rate</th>\n",
       "      <th>Inflation rate</th>\n",
       "      <th>GDP</th>\n",
       "    </tr>\n",
       "  </thead>\n",
       "  <tbody>\n",
       "    <tr>\n",
       "      <th>count</th>\n",
       "      <td>4424.000000</td>\n",
       "      <td>4424.000000</td>\n",
       "      <td>4424.000000</td>\n",
       "      <td>4424.000000</td>\n",
       "      <td>4424.000000</td>\n",
       "      <td>4424.000000</td>\n",
       "      <td>4424.000000</td>\n",
       "      <td>4424.000000</td>\n",
       "      <td>4424.000000</td>\n",
       "      <td>4424.000000</td>\n",
       "      <td>4424.000000</td>\n",
       "      <td>4424.000000</td>\n",
       "      <td>4424.000000</td>\n",
       "      <td>4424.000000</td>\n",
       "      <td>4424.000000</td>\n",
       "      <td>4424.000000</td>\n",
       "      <td>4424.000000</td>\n",
       "      <td>4424.000000</td>\n",
       "      <td>4424.000000</td>\n",
       "      <td>4424.000000</td>\n",
       "      <td>4424.000000</td>\n",
       "      <td>4424.000000</td>\n",
       "      <td>4424.000000</td>\n",
       "      <td>4424.000000</td>\n",
       "      <td>4424.000000</td>\n",
       "      <td>4424.000000</td>\n",
       "      <td>4424.000000</td>\n",
       "      <td>4424.000000</td>\n",
       "      <td>4424.000000</td>\n",
       "      <td>4424.000000</td>\n",
       "      <td>4424.000000</td>\n",
       "      <td>4424.000000</td>\n",
       "      <td>4424.000000</td>\n",
       "      <td>4424.000000</td>\n",
       "      <td>4424.000000</td>\n",
       "      <td>4424.000000</td>\n",
       "      <td>4424.000000</td>\n",
       "    </tr>\n",
       "    <tr>\n",
       "      <th>mean</th>\n",
       "      <td>2212.500000</td>\n",
       "      <td>1.178571</td>\n",
       "      <td>18.669078</td>\n",
       "      <td>1.727848</td>\n",
       "      <td>8856.642631</td>\n",
       "      <td>0.890823</td>\n",
       "      <td>4.577758</td>\n",
       "      <td>132.613314</td>\n",
       "      <td>1.873192</td>\n",
       "      <td>19.561935</td>\n",
       "      <td>22.275316</td>\n",
       "      <td>10.960895</td>\n",
       "      <td>11.032324</td>\n",
       "      <td>126.978119</td>\n",
       "      <td>0.548373</td>\n",
       "      <td>0.011528</td>\n",
       "      <td>0.113698</td>\n",
       "      <td>0.880651</td>\n",
       "      <td>0.351718</td>\n",
       "      <td>0.248418</td>\n",
       "      <td>23.265145</td>\n",
       "      <td>0.024864</td>\n",
       "      <td>0.709991</td>\n",
       "      <td>6.270570</td>\n",
       "      <td>8.299051</td>\n",
       "      <td>4.706600</td>\n",
       "      <td>10.640822</td>\n",
       "      <td>0.137658</td>\n",
       "      <td>0.541817</td>\n",
       "      <td>6.232143</td>\n",
       "      <td>8.063291</td>\n",
       "      <td>4.435805</td>\n",
       "      <td>10.230206</td>\n",
       "      <td>0.150316</td>\n",
       "      <td>11.566139</td>\n",
       "      <td>1.228029</td>\n",
       "      <td>0.001969</td>\n",
       "    </tr>\n",
       "    <tr>\n",
       "      <th>std</th>\n",
       "      <td>1277.243125</td>\n",
       "      <td>0.605747</td>\n",
       "      <td>17.484682</td>\n",
       "      <td>1.313793</td>\n",
       "      <td>2063.566416</td>\n",
       "      <td>0.311897</td>\n",
       "      <td>10.216592</td>\n",
       "      <td>13.188332</td>\n",
       "      <td>6.914514</td>\n",
       "      <td>15.603186</td>\n",
       "      <td>15.343108</td>\n",
       "      <td>26.418253</td>\n",
       "      <td>25.263040</td>\n",
       "      <td>14.482001</td>\n",
       "      <td>0.497711</td>\n",
       "      <td>0.106760</td>\n",
       "      <td>0.317480</td>\n",
       "      <td>0.324235</td>\n",
       "      <td>0.477560</td>\n",
       "      <td>0.432144</td>\n",
       "      <td>7.587816</td>\n",
       "      <td>0.155729</td>\n",
       "      <td>2.360507</td>\n",
       "      <td>2.480178</td>\n",
       "      <td>4.179106</td>\n",
       "      <td>3.094238</td>\n",
       "      <td>4.843663</td>\n",
       "      <td>0.690880</td>\n",
       "      <td>1.918546</td>\n",
       "      <td>2.195951</td>\n",
       "      <td>3.947951</td>\n",
       "      <td>3.014764</td>\n",
       "      <td>5.210808</td>\n",
       "      <td>0.753774</td>\n",
       "      <td>2.663850</td>\n",
       "      <td>1.382711</td>\n",
       "      <td>2.269935</td>\n",
       "    </tr>\n",
       "    <tr>\n",
       "      <th>min</th>\n",
       "      <td>1.000000</td>\n",
       "      <td>1.000000</td>\n",
       "      <td>1.000000</td>\n",
       "      <td>0.000000</td>\n",
       "      <td>33.000000</td>\n",
       "      <td>0.000000</td>\n",
       "      <td>1.000000</td>\n",
       "      <td>95.000000</td>\n",
       "      <td>1.000000</td>\n",
       "      <td>1.000000</td>\n",
       "      <td>1.000000</td>\n",
       "      <td>0.000000</td>\n",
       "      <td>0.000000</td>\n",
       "      <td>95.000000</td>\n",
       "      <td>0.000000</td>\n",
       "      <td>0.000000</td>\n",
       "      <td>0.000000</td>\n",
       "      <td>0.000000</td>\n",
       "      <td>0.000000</td>\n",
       "      <td>0.000000</td>\n",
       "      <td>17.000000</td>\n",
       "      <td>0.000000</td>\n",
       "      <td>0.000000</td>\n",
       "      <td>0.000000</td>\n",
       "      <td>0.000000</td>\n",
       "      <td>0.000000</td>\n",
       "      <td>0.000000</td>\n",
       "      <td>0.000000</td>\n",
       "      <td>0.000000</td>\n",
       "      <td>0.000000</td>\n",
       "      <td>0.000000</td>\n",
       "      <td>0.000000</td>\n",
       "      <td>0.000000</td>\n",
       "      <td>0.000000</td>\n",
       "      <td>7.600000</td>\n",
       "      <td>-0.800000</td>\n",
       "      <td>-4.060000</td>\n",
       "    </tr>\n",
       "    <tr>\n",
       "      <th>25%</th>\n",
       "      <td>1106.750000</td>\n",
       "      <td>1.000000</td>\n",
       "      <td>1.000000</td>\n",
       "      <td>1.000000</td>\n",
       "      <td>9085.000000</td>\n",
       "      <td>1.000000</td>\n",
       "      <td>1.000000</td>\n",
       "      <td>125.000000</td>\n",
       "      <td>1.000000</td>\n",
       "      <td>2.000000</td>\n",
       "      <td>3.000000</td>\n",
       "      <td>4.000000</td>\n",
       "      <td>4.000000</td>\n",
       "      <td>117.900000</td>\n",
       "      <td>0.000000</td>\n",
       "      <td>0.000000</td>\n",
       "      <td>0.000000</td>\n",
       "      <td>1.000000</td>\n",
       "      <td>0.000000</td>\n",
       "      <td>0.000000</td>\n",
       "      <td>19.000000</td>\n",
       "      <td>0.000000</td>\n",
       "      <td>0.000000</td>\n",
       "      <td>5.000000</td>\n",
       "      <td>6.000000</td>\n",
       "      <td>3.000000</td>\n",
       "      <td>11.000000</td>\n",
       "      <td>0.000000</td>\n",
       "      <td>0.000000</td>\n",
       "      <td>5.000000</td>\n",
       "      <td>6.000000</td>\n",
       "      <td>2.000000</td>\n",
       "      <td>10.750000</td>\n",
       "      <td>0.000000</td>\n",
       "      <td>9.400000</td>\n",
       "      <td>0.300000</td>\n",
       "      <td>-1.700000</td>\n",
       "    </tr>\n",
       "    <tr>\n",
       "      <th>50%</th>\n",
       "      <td>2212.500000</td>\n",
       "      <td>1.000000</td>\n",
       "      <td>17.000000</td>\n",
       "      <td>1.000000</td>\n",
       "      <td>9238.000000</td>\n",
       "      <td>1.000000</td>\n",
       "      <td>1.000000</td>\n",
       "      <td>133.100000</td>\n",
       "      <td>1.000000</td>\n",
       "      <td>19.000000</td>\n",
       "      <td>19.000000</td>\n",
       "      <td>5.000000</td>\n",
       "      <td>7.000000</td>\n",
       "      <td>126.100000</td>\n",
       "      <td>1.000000</td>\n",
       "      <td>0.000000</td>\n",
       "      <td>0.000000</td>\n",
       "      <td>1.000000</td>\n",
       "      <td>0.000000</td>\n",
       "      <td>0.000000</td>\n",
       "      <td>20.000000</td>\n",
       "      <td>0.000000</td>\n",
       "      <td>0.000000</td>\n",
       "      <td>6.000000</td>\n",
       "      <td>8.000000</td>\n",
       "      <td>5.000000</td>\n",
       "      <td>12.285714</td>\n",
       "      <td>0.000000</td>\n",
       "      <td>0.000000</td>\n",
       "      <td>6.000000</td>\n",
       "      <td>8.000000</td>\n",
       "      <td>5.000000</td>\n",
       "      <td>12.200000</td>\n",
       "      <td>0.000000</td>\n",
       "      <td>11.100000</td>\n",
       "      <td>1.400000</td>\n",
       "      <td>0.320000</td>\n",
       "    </tr>\n",
       "    <tr>\n",
       "      <th>75%</th>\n",
       "      <td>3318.250000</td>\n",
       "      <td>1.000000</td>\n",
       "      <td>39.000000</td>\n",
       "      <td>2.000000</td>\n",
       "      <td>9556.000000</td>\n",
       "      <td>1.000000</td>\n",
       "      <td>1.000000</td>\n",
       "      <td>140.000000</td>\n",
       "      <td>1.000000</td>\n",
       "      <td>37.000000</td>\n",
       "      <td>37.000000</td>\n",
       "      <td>9.000000</td>\n",
       "      <td>9.000000</td>\n",
       "      <td>134.800000</td>\n",
       "      <td>1.000000</td>\n",
       "      <td>0.000000</td>\n",
       "      <td>0.000000</td>\n",
       "      <td>1.000000</td>\n",
       "      <td>1.000000</td>\n",
       "      <td>0.000000</td>\n",
       "      <td>25.000000</td>\n",
       "      <td>0.000000</td>\n",
       "      <td>0.000000</td>\n",
       "      <td>7.000000</td>\n",
       "      <td>10.000000</td>\n",
       "      <td>6.000000</td>\n",
       "      <td>13.400000</td>\n",
       "      <td>0.000000</td>\n",
       "      <td>0.000000</td>\n",
       "      <td>7.000000</td>\n",
       "      <td>10.000000</td>\n",
       "      <td>6.000000</td>\n",
       "      <td>13.333333</td>\n",
       "      <td>0.000000</td>\n",
       "      <td>13.900000</td>\n",
       "      <td>2.600000</td>\n",
       "      <td>1.790000</td>\n",
       "    </tr>\n",
       "    <tr>\n",
       "      <th>max</th>\n",
       "      <td>4424.000000</td>\n",
       "      <td>6.000000</td>\n",
       "      <td>57.000000</td>\n",
       "      <td>9.000000</td>\n",
       "      <td>9991.000000</td>\n",
       "      <td>1.000000</td>\n",
       "      <td>43.000000</td>\n",
       "      <td>190.000000</td>\n",
       "      <td>109.000000</td>\n",
       "      <td>44.000000</td>\n",
       "      <td>44.000000</td>\n",
       "      <td>194.000000</td>\n",
       "      <td>195.000000</td>\n",
       "      <td>190.000000</td>\n",
       "      <td>1.000000</td>\n",
       "      <td>1.000000</td>\n",
       "      <td>1.000000</td>\n",
       "      <td>1.000000</td>\n",
       "      <td>1.000000</td>\n",
       "      <td>1.000000</td>\n",
       "      <td>70.000000</td>\n",
       "      <td>1.000000</td>\n",
       "      <td>20.000000</td>\n",
       "      <td>26.000000</td>\n",
       "      <td>45.000000</td>\n",
       "      <td>26.000000</td>\n",
       "      <td>18.875000</td>\n",
       "      <td>12.000000</td>\n",
       "      <td>19.000000</td>\n",
       "      <td>23.000000</td>\n",
       "      <td>33.000000</td>\n",
       "      <td>20.000000</td>\n",
       "      <td>18.571429</td>\n",
       "      <td>12.000000</td>\n",
       "      <td>16.200000</td>\n",
       "      <td>3.700000</td>\n",
       "      <td>3.510000</td>\n",
       "    </tr>\n",
       "  </tbody>\n",
       "</table>\n",
       "</div>"
      ],
      "text/plain": [
       "                id  Marital status  Application mode  Application order  \\\n",
       "count  4424.000000     4424.000000       4424.000000        4424.000000   \n",
       "mean   2212.500000        1.178571         18.669078           1.727848   \n",
       "std    1277.243125        0.605747         17.484682           1.313793   \n",
       "min       1.000000        1.000000          1.000000           0.000000   \n",
       "25%    1106.750000        1.000000          1.000000           1.000000   \n",
       "50%    2212.500000        1.000000         17.000000           1.000000   \n",
       "75%    3318.250000        1.000000         39.000000           2.000000   \n",
       "max    4424.000000        6.000000         57.000000           9.000000   \n",
       "\n",
       "            Course  Daytime/evening attendance\\t  Previous qualification  \\\n",
       "count  4424.000000                   4424.000000             4424.000000   \n",
       "mean   8856.642631                      0.890823                4.577758   \n",
       "std    2063.566416                      0.311897               10.216592   \n",
       "min      33.000000                      0.000000                1.000000   \n",
       "25%    9085.000000                      1.000000                1.000000   \n",
       "50%    9238.000000                      1.000000                1.000000   \n",
       "75%    9556.000000                      1.000000                1.000000   \n",
       "max    9991.000000                      1.000000               43.000000   \n",
       "\n",
       "       Previous qualification (grade)  Nacionality  Mother's qualification  \\\n",
       "count                     4424.000000  4424.000000             4424.000000   \n",
       "mean                       132.613314     1.873192               19.561935   \n",
       "std                         13.188332     6.914514               15.603186   \n",
       "min                         95.000000     1.000000                1.000000   \n",
       "25%                        125.000000     1.000000                2.000000   \n",
       "50%                        133.100000     1.000000               19.000000   \n",
       "75%                        140.000000     1.000000               37.000000   \n",
       "max                        190.000000   109.000000               44.000000   \n",
       "\n",
       "       Father's qualification  Mother's occupation  Father's occupation  \\\n",
       "count             4424.000000          4424.000000          4424.000000   \n",
       "mean                22.275316            10.960895            11.032324   \n",
       "std                 15.343108            26.418253            25.263040   \n",
       "min                  1.000000             0.000000             0.000000   \n",
       "25%                  3.000000             4.000000             4.000000   \n",
       "50%                 19.000000             5.000000             7.000000   \n",
       "75%                 37.000000             9.000000             9.000000   \n",
       "max                 44.000000           194.000000           195.000000   \n",
       "\n",
       "       Admission grade    Displaced  Educational special needs       Debtor  \\\n",
       "count      4424.000000  4424.000000                4424.000000  4424.000000   \n",
       "mean        126.978119     0.548373                   0.011528     0.113698   \n",
       "std          14.482001     0.497711                   0.106760     0.317480   \n",
       "min          95.000000     0.000000                   0.000000     0.000000   \n",
       "25%         117.900000     0.000000                   0.000000     0.000000   \n",
       "50%         126.100000     1.000000                   0.000000     0.000000   \n",
       "75%         134.800000     1.000000                   0.000000     0.000000   \n",
       "max         190.000000     1.000000                   1.000000     1.000000   \n",
       "\n",
       "       Tuition fees up to date       Gender  Scholarship holder  \\\n",
       "count              4424.000000  4424.000000         4424.000000   \n",
       "mean                  0.880651     0.351718            0.248418   \n",
       "std                   0.324235     0.477560            0.432144   \n",
       "min                   0.000000     0.000000            0.000000   \n",
       "25%                   1.000000     0.000000            0.000000   \n",
       "50%                   1.000000     0.000000            0.000000   \n",
       "75%                   1.000000     1.000000            0.000000   \n",
       "max                   1.000000     1.000000            1.000000   \n",
       "\n",
       "       Age at enrollment  International  Curricular units 1st sem (credited)  \\\n",
       "count        4424.000000    4424.000000                          4424.000000   \n",
       "mean           23.265145       0.024864                             0.709991   \n",
       "std             7.587816       0.155729                             2.360507   \n",
       "min            17.000000       0.000000                             0.000000   \n",
       "25%            19.000000       0.000000                             0.000000   \n",
       "50%            20.000000       0.000000                             0.000000   \n",
       "75%            25.000000       0.000000                             0.000000   \n",
       "max            70.000000       1.000000                            20.000000   \n",
       "\n",
       "       Curricular units 1st sem (enrolled)  \\\n",
       "count                          4424.000000   \n",
       "mean                              6.270570   \n",
       "std                               2.480178   \n",
       "min                               0.000000   \n",
       "25%                               5.000000   \n",
       "50%                               6.000000   \n",
       "75%                               7.000000   \n",
       "max                              26.000000   \n",
       "\n",
       "       Curricular units 1st sem (evaluations)  \\\n",
       "count                             4424.000000   \n",
       "mean                                 8.299051   \n",
       "std                                  4.179106   \n",
       "min                                  0.000000   \n",
       "25%                                  6.000000   \n",
       "50%                                  8.000000   \n",
       "75%                                 10.000000   \n",
       "max                                 45.000000   \n",
       "\n",
       "       Curricular units 1st sem (approved)  Curricular units 1st sem (grade)  \\\n",
       "count                          4424.000000                       4424.000000   \n",
       "mean                              4.706600                         10.640822   \n",
       "std                               3.094238                          4.843663   \n",
       "min                               0.000000                          0.000000   \n",
       "25%                               3.000000                         11.000000   \n",
       "50%                               5.000000                         12.285714   \n",
       "75%                               6.000000                         13.400000   \n",
       "max                              26.000000                         18.875000   \n",
       "\n",
       "       Curricular units 1st sem (without evaluations)  \\\n",
       "count                                     4424.000000   \n",
       "mean                                         0.137658   \n",
       "std                                          0.690880   \n",
       "min                                          0.000000   \n",
       "25%                                          0.000000   \n",
       "50%                                          0.000000   \n",
       "75%                                          0.000000   \n",
       "max                                         12.000000   \n",
       "\n",
       "       Curricular units 2nd sem (credited)  \\\n",
       "count                          4424.000000   \n",
       "mean                              0.541817   \n",
       "std                               1.918546   \n",
       "min                               0.000000   \n",
       "25%                               0.000000   \n",
       "50%                               0.000000   \n",
       "75%                               0.000000   \n",
       "max                              19.000000   \n",
       "\n",
       "       Curricular units 2nd sem (enrolled)  \\\n",
       "count                          4424.000000   \n",
       "mean                              6.232143   \n",
       "std                               2.195951   \n",
       "min                               0.000000   \n",
       "25%                               5.000000   \n",
       "50%                               6.000000   \n",
       "75%                               7.000000   \n",
       "max                              23.000000   \n",
       "\n",
       "       Curricular units 2nd sem (evaluations)  \\\n",
       "count                             4424.000000   \n",
       "mean                                 8.063291   \n",
       "std                                  3.947951   \n",
       "min                                  0.000000   \n",
       "25%                                  6.000000   \n",
       "50%                                  8.000000   \n",
       "75%                                 10.000000   \n",
       "max                                 33.000000   \n",
       "\n",
       "       Curricular units 2nd sem (approved)  Curricular units 2nd sem (grade)  \\\n",
       "count                          4424.000000                       4424.000000   \n",
       "mean                              4.435805                         10.230206   \n",
       "std                               3.014764                          5.210808   \n",
       "min                               0.000000                          0.000000   \n",
       "25%                               2.000000                         10.750000   \n",
       "50%                               5.000000                         12.200000   \n",
       "75%                               6.000000                         13.333333   \n",
       "max                              20.000000                         18.571429   \n",
       "\n",
       "       Curricular units 2nd sem (without evaluations)  Unemployment rate  \\\n",
       "count                                     4424.000000        4424.000000   \n",
       "mean                                         0.150316          11.566139   \n",
       "std                                          0.753774           2.663850   \n",
       "min                                          0.000000           7.600000   \n",
       "25%                                          0.000000           9.400000   \n",
       "50%                                          0.000000          11.100000   \n",
       "75%                                          0.000000          13.900000   \n",
       "max                                         12.000000          16.200000   \n",
       "\n",
       "       Inflation rate          GDP  \n",
       "count     4424.000000  4424.000000  \n",
       "mean         1.228029     0.001969  \n",
       "std          1.382711     2.269935  \n",
       "min         -0.800000    -4.060000  \n",
       "25%          0.300000    -1.700000  \n",
       "50%          1.400000     0.320000  \n",
       "75%          2.600000     1.790000  \n",
       "max          3.700000     3.510000  "
      ]
     },
     "execution_count": 25,
     "metadata": {},
     "output_type": "execute_result"
    }
   ],
   "source": [
    "df.describe()"
   ]
  },
  {
   "cell_type": "markdown",
   "id": "7c012c29",
   "metadata": {
    "papermill": {
     "duration": 0.023543,
     "end_time": "2024-06-25T04:46:42.916912",
     "exception": false,
     "start_time": "2024-06-25T04:46:42.893369",
     "status": "completed"
    },
    "tags": []
   },
   "source": [
    "#### Workin on Admission grade column"
   ]
  },
  {
   "cell_type": "code",
   "execution_count": 26,
   "id": "964c81ba",
   "metadata": {
    "execution": {
     "iopub.execute_input": "2024-06-25T04:46:42.965520Z",
     "iopub.status.busy": "2024-06-25T04:46:42.965044Z",
     "iopub.status.idle": "2024-06-25T04:46:42.978262Z",
     "shell.execute_reply": "2024-06-25T04:46:42.977011Z"
    },
    "papermill": {
     "duration": 0.0406,
     "end_time": "2024-06-25T04:46:42.981056",
     "exception": false,
     "start_time": "2024-06-25T04:46:42.940456",
     "status": "completed"
    },
    "tags": []
   },
   "outputs": [
    {
     "data": {
      "text/plain": [
       "count    4424.000000\n",
       "mean      126.978119\n",
       "std        14.482001\n",
       "min        95.000000\n",
       "25%       117.900000\n",
       "50%       126.100000\n",
       "75%       134.800000\n",
       "max       190.000000\n",
       "Name: Admission grade, dtype: float64"
      ]
     },
     "execution_count": 26,
     "metadata": {},
     "output_type": "execute_result"
    }
   ],
   "source": [
    "df['Admission grade'].describe()"
   ]
  },
  {
   "cell_type": "code",
   "execution_count": 27,
   "id": "ad38f7aa",
   "metadata": {
    "execution": {
     "iopub.execute_input": "2024-06-25T04:46:43.030568Z",
     "iopub.status.busy": "2024-06-25T04:46:43.030138Z",
     "iopub.status.idle": "2024-06-25T04:46:43.292262Z",
     "shell.execute_reply": "2024-06-25T04:46:43.290559Z"
    },
    "papermill": {
     "duration": 0.289973,
     "end_time": "2024-06-25T04:46:43.294953",
     "exception": false,
     "start_time": "2024-06-25T04:46:43.004980",
     "status": "completed"
    },
    "tags": []
   },
   "outputs": [
    {
     "data": {
      "image/png": "[encoded data removed]",
      "text/plain": [
       "<Figure size 640x480 with 1 Axes>"
      ]
     },
     "metadata": {},
     "output_type": "display_data"
    }
   ],
   "source": [
    "plt.boxplot(df['Admission grade']);\n",
    "plt.title('Outliers in data');"
   ]
  },
  {
   "cell_type": "code",
   "execution_count": 28,
   "id": "c356b88b",
   "metadata": {
    "execution": {
     "iopub.execute_input": "2024-06-25T04:46:43.344060Z",
     "iopub.status.busy": "2024-06-25T04:46:43.343607Z",
     "iopub.status.idle": "2024-06-25T04:46:43.349052Z",
     "shell.execute_reply": "2024-06-25T04:46:43.347882Z"
    },
    "papermill": {
     "duration": 0.033437,
     "end_time": "2024-06-25T04:46:43.351777",
     "exception": false,
     "start_time": "2024-06-25T04:46:43.318340",
     "status": "completed"
    },
    "tags": []
   },
   "outputs": [],
   "source": [
    "# removing ouliers"
   ]
  },
  {
   "cell_type": "code",
   "execution_count": 29,
   "id": "67b984a8",
   "metadata": {
    "execution": {
     "iopub.execute_input": "2024-06-25T04:46:43.399915Z",
     "iopub.status.busy": "2024-06-25T04:46:43.399480Z",
     "iopub.status.idle": "2024-06-25T04:46:43.410671Z",
     "shell.execute_reply": "2024-06-25T04:46:43.409470Z"
    },
    "papermill": {
     "duration": 0.038425,
     "end_time": "2024-06-25T04:46:43.413404",
     "exception": false,
     "start_time": "2024-06-25T04:46:43.374979",
     "status": "completed"
    },
    "tags": []
   },
   "outputs": [],
   "source": [
    "q3  = np.percentile(df['Admission grade'],75)\n",
    "q2 = np.percentile(df['Admission grade'],25)\n",
    "iqr = q3 -q2\n",
    "ub = q3 +(1.5 * iqr)\n",
    "lb = q2-(1.5 * iqr)\n",
    "\n",
    "df  = df[(df['Admission grade'] <= ub) & (df['Admission grade'] >=lb)]"
   ]
  },
  {
   "cell_type": "code",
   "execution_count": 30,
   "id": "5a45a9a7",
   "metadata": {
    "execution": {
     "iopub.execute_input": "2024-06-25T04:46:43.463818Z",
     "iopub.status.busy": "2024-06-25T04:46:43.462472Z",
     "iopub.status.idle": "2024-06-25T04:46:43.688803Z",
     "shell.execute_reply": "2024-06-25T04:46:43.687585Z"
    },
    "papermill": {
     "duration": 0.254975,
     "end_time": "2024-06-25T04:46:43.691597",
     "exception": false,
     "start_time": "2024-06-25T04:46:43.436622",
     "status": "completed"
    },
    "tags": []
   },
   "outputs": [
    {
     "data": {
      "image/png": "[encoded data removed]",
      "text/plain": [
       "<Figure size 640x480 with 1 Axes>"
      ]
     },
     "metadata": {},
     "output_type": "display_data"
    }
   ],
   "source": [
    "plt.boxplot(df['Admission grade']);\n",
    "plt.title('After removing utliers in data');"
   ]
  },
  {
   "cell_type": "code",
   "execution_count": 31,
   "id": "05077a61",
   "metadata": {
    "execution": {
     "iopub.execute_input": "2024-06-25T04:46:43.741072Z",
     "iopub.status.busy": "2024-06-25T04:46:43.740650Z",
     "iopub.status.idle": "2024-06-25T04:46:43.966583Z",
     "shell.execute_reply": "2024-06-25T04:46:43.965172Z"
    },
    "papermill": {
     "duration": 0.254414,
     "end_time": "2024-06-25T04:46:43.969248",
     "exception": false,
     "start_time": "2024-06-25T04:46:43.714834",
     "status": "completed"
    },
    "tags": []
   },
   "outputs": [
    {
     "data": {
      "image/png": "[encoded data removed]",
      "text/plain": [
       "<Figure size 640x480 with 1 Axes>"
      ]
     },
     "metadata": {},
     "output_type": "display_data"
    }
   ],
   "source": [
    "plt.hist(df['Admission grade'],histtype='step',color = 'black',bins = 20);"
   ]
  },
  {
   "cell_type": "code",
   "execution_count": 32,
   "id": "d60bf53d",
   "metadata": {
    "execution": {
     "iopub.execute_input": "2024-06-25T04:46:44.020673Z",
     "iopub.status.busy": "2024-06-25T04:46:44.020222Z",
     "iopub.status.idle": "2024-06-25T04:46:44.324071Z",
     "shell.execute_reply": "2024-06-25T04:46:44.322743Z"
    },
    "papermill": {
     "duration": 0.335788,
     "end_time": "2024-06-25T04:46:44.329375",
     "exception": false,
     "start_time": "2024-06-25T04:46:43.993587",
     "status": "completed"
    },
    "tags": []
   },
   "outputs": [
    {
     "data": {
      "image/png": "[encoded data removed]",
      "text/plain": [
       "<Figure size 1200x1200 with 1 Axes>"
      ]
     },
     "metadata": {},
     "output_type": "display_data"
    }
   ],
   "source": [
    "plt.figure(figsize = (12,12))\n",
    "sns.countplot(df,x = 'Target',width = 0.090);\n",
    "plt.yticks(range(0,2200,300))\n",
    "plt.grid()\n",
    "plt.title(\"Visualizing 'Target'\");"
   ]
  },
  {
   "cell_type": "markdown",
   "id": "afd0db95",
   "metadata": {
    "papermill": {
     "duration": 0.02408,
     "end_time": "2024-06-25T04:46:44.380168",
     "exception": false,
     "start_time": "2024-06-25T04:46:44.356088",
     "status": "completed"
    },
    "tags": []
   },
   "source": [
    "# Automobile Sales data\n"
   ]
  },
  {
   "cell_type": "code",
   "execution_count": 33,
   "id": "093d8a0b",
   "metadata": {
    "execution": {
     "iopub.execute_input": "2024-06-25T04:46:44.433607Z",
     "iopub.status.busy": "2024-06-25T04:46:44.433134Z",
     "iopub.status.idle": "2024-06-25T04:46:44.469669Z",
     "shell.execute_reply": "2024-06-25T04:46:44.468352Z"
    },
    "papermill": {
     "duration": 0.06676,
     "end_time": "2024-06-25T04:46:44.472829",
     "exception": false,
     "start_time": "2024-06-25T04:46:44.406069",
     "status": "completed"
    },
    "tags": []
   },
   "outputs": [],
   "source": [
    "df = pd.read_csv('/kaggle/input/auto-sales-data/Auto Sales data.csv')\n"
   ]
  },
  {
   "cell_type": "code",
   "execution_count": 34,
   "id": "e3d2d90f",
   "metadata": {
    "execution": {
     "iopub.execute_input": "2024-06-25T04:46:44.524266Z",
     "iopub.status.busy": "2024-06-25T04:46:44.523866Z",
     "iopub.status.idle": "2024-06-25T04:46:44.532127Z",
     "shell.execute_reply": "2024-06-25T04:46:44.530426Z"
    },
    "papermill": {
     "duration": 0.037471,
     "end_time": "2024-06-25T04:46:44.535065",
     "exception": false,
     "start_time": "2024-06-25T04:46:44.497594",
     "status": "completed"
    },
    "tags": []
   },
   "outputs": [
    {
     "data": {
      "text/plain": [
       "(2747, 20)"
      ]
     },
     "execution_count": 34,
     "metadata": {},
     "output_type": "execute_result"
    }
   ],
   "source": [
    "df.shape"
   ]
  },
  {
   "cell_type": "code",
   "execution_count": 35,
   "id": "195398a5",
   "metadata": {
    "execution": {
     "iopub.execute_input": "2024-06-25T04:46:44.588180Z",
     "iopub.status.busy": "2024-06-25T04:46:44.587172Z",
     "iopub.status.idle": "2024-06-25T04:46:44.595285Z",
     "shell.execute_reply": "2024-06-25T04:46:44.593872Z"
    },
    "papermill": {
     "duration": 0.036991,
     "end_time": "2024-06-25T04:46:44.597978",
     "exception": false,
     "start_time": "2024-06-25T04:46:44.560987",
     "status": "completed"
    },
    "tags": []
   },
   "outputs": [
    {
     "data": {
      "text/plain": [
       "54940"
      ]
     },
     "execution_count": 35,
     "metadata": {},
     "output_type": "execute_result"
    }
   ],
   "source": [
    "df.size"
   ]
  },
  {
   "cell_type": "code",
   "execution_count": 36,
   "id": "8ca4339c",
   "metadata": {
    "execution": {
     "iopub.execute_input": "2024-06-25T04:46:44.649708Z",
     "iopub.status.busy": "2024-06-25T04:46:44.649265Z",
     "iopub.status.idle": "2024-06-25T04:46:44.676292Z",
     "shell.execute_reply": "2024-06-25T04:46:44.674206Z"
    },
    "papermill": {
     "duration": 0.05633,
     "end_time": "2024-06-25T04:46:44.679408",
     "exception": false,
     "start_time": "2024-06-25T04:46:44.623078",
     "status": "completed"
    },
    "tags": []
   },
   "outputs": [
    {
     "name": "stdout",
     "output_type": "stream",
     "text": [
      "<class 'pandas.core.frame.DataFrame'>\n",
      "RangeIndex: 2747 entries, 0 to 2746\n",
      "Data columns (total 20 columns):\n",
      " #   Column                Non-Null Count  Dtype  \n",
      "---  ------                --------------  -----  \n",
      " 0   ORDERNUMBER           2747 non-null   int64  \n",
      " 1   QUANTITYORDERED       2747 non-null   int64  \n",
      " 2   PRICEEACH             2747 non-null   float64\n",
      " 3   ORDERLINENUMBER       2747 non-null   int64  \n",
      " 4   SALES                 2747 non-null   float64\n",
      " 5   ORDERDATE             2747 non-null   object \n",
      " 6   DAYS_SINCE_LASTORDER  2747 non-null   int64  \n",
      " 7   STATUS                2747 non-null   object \n",
      " 8   PRODUCTLINE           2747 non-null   object \n",
      " 9   MSRP                  2747 non-null   int64  \n",
      " 10  PRODUCTCODE           2747 non-null   object \n",
      " 11  CUSTOMERNAME          2747 non-null   object \n",
      " 12  PHONE                 2747 non-null   object \n",
      " 13  ADDRESSLINE1          2747 non-null   object \n",
      " 14  CITY                  2747 non-null   object \n",
      " 15  POSTALCODE            2747 non-null   object \n",
      " 16  COUNTRY               2747 non-null   object \n",
      " 17  CONTACTLASTNAME       2747 non-null   object \n",
      " 18  CONTACTFIRSTNAME      2747 non-null   object \n",
      " 19  DEALSIZE              2747 non-null   object \n",
      "dtypes: float64(2), int64(5), object(13)\n",
      "memory usage: 429.3+ KB\n"
     ]
    }
   ],
   "source": [
    "df.info();"
   ]
  },
  {
   "cell_type": "code",
   "execution_count": 37,
   "id": "31893731",
   "metadata": {
    "execution": {
     "iopub.execute_input": "2024-06-25T04:46:44.732011Z",
     "iopub.status.busy": "2024-06-25T04:46:44.731593Z",
     "iopub.status.idle": "2024-06-25T04:46:44.749737Z",
     "shell.execute_reply": "2024-06-25T04:46:44.748363Z"
    },
    "papermill": {
     "duration": 0.047526,
     "end_time": "2024-06-25T04:46:44.752475",
     "exception": false,
     "start_time": "2024-06-25T04:46:44.704949",
     "status": "completed"
    },
    "tags": []
   },
   "outputs": [
    {
     "data": {
      "text/plain": [
       "ORDERNUMBER             0.0\n",
       "QUANTITYORDERED         0.0\n",
       "PRICEEACH               0.0\n",
       "ORDERLINENUMBER         0.0\n",
       "SALES                   0.0\n",
       "ORDERDATE               0.0\n",
       "DAYS_SINCE_LASTORDER    0.0\n",
       "STATUS                  0.0\n",
       "PRODUCTLINE             0.0\n",
       "MSRP                    0.0\n",
       "PRODUCTCODE             0.0\n",
       "CUSTOMERNAME            0.0\n",
       "PHONE                   0.0\n",
       "ADDRESSLINE1            0.0\n",
       "CITY                    0.0\n",
       "POSTALCODE              0.0\n",
       "COUNTRY                 0.0\n",
       "CONTACTLASTNAME         0.0\n",
       "CONTACTFIRSTNAME        0.0\n",
       "DEALSIZE                0.0\n",
       "dtype: float64"
      ]
     },
     "execution_count": 37,
     "metadata": {},
     "output_type": "execute_result"
    }
   ],
   "source": [
    "df_null = round(df.isna().sum()*100/len(df),2)\n",
    "df_null"
   ]
  },
  {
   "cell_type": "markdown",
   "id": "dadc6ca8",
   "metadata": {
    "papermill": {
     "duration": 0.025221,
     "end_time": "2024-06-25T04:46:44.803295",
     "exception": false,
     "start_time": "2024-06-25T04:46:44.778074",
     "status": "completed"
    },
    "tags": []
   },
   "source": [
    "### There is no null column \n",
    "####  No Data cleaning "
   ]
  },
  {
   "cell_type": "markdown",
   "id": "3cd6968d",
   "metadata": {
    "papermill": {
     "duration": 0.025708,
     "end_time": "2024-06-25T04:46:44.855675",
     "exception": false,
     "start_time": "2024-06-25T04:46:44.829967",
     "status": "completed"
    },
    "tags": []
   },
   "source": [
    "#### Working on 'SALES' column"
   ]
  },
  {
   "cell_type": "code",
   "execution_count": 38,
   "id": "cab97e10",
   "metadata": {
    "execution": {
     "iopub.execute_input": "2024-06-25T04:46:44.909790Z",
     "iopub.status.busy": "2024-06-25T04:46:44.908520Z",
     "iopub.status.idle": "2024-06-25T04:46:44.921740Z",
     "shell.execute_reply": "2024-06-25T04:46:44.920327Z"
    },
    "papermill": {
     "duration": 0.043753,
     "end_time": "2024-06-25T04:46:44.924721",
     "exception": false,
     "start_time": "2024-06-25T04:46:44.880968",
     "status": "completed"
    },
    "tags": []
   },
   "outputs": [
    {
     "data": {
      "text/plain": [
       "count     2747.000000\n",
       "mean      3553.047583\n",
       "std       1838.953901\n",
       "min        482.130000\n",
       "25%       2204.350000\n",
       "50%       3184.800000\n",
       "75%       4503.095000\n",
       "max      14082.800000\n",
       "Name: SALES, dtype: float64"
      ]
     },
     "execution_count": 38,
     "metadata": {},
     "output_type": "execute_result"
    }
   ],
   "source": [
    "df['SALES'].describe()"
   ]
  },
  {
   "cell_type": "code",
   "execution_count": 39,
   "id": "fc0e92b2",
   "metadata": {
    "execution": {
     "iopub.execute_input": "2024-06-25T04:46:44.978327Z",
     "iopub.status.busy": "2024-06-25T04:46:44.977828Z",
     "iopub.status.idle": "2024-06-25T04:46:45.277529Z",
     "shell.execute_reply": "2024-06-25T04:46:45.276360Z"
    },
    "papermill": {
     "duration": 0.329808,
     "end_time": "2024-06-25T04:46:45.280293",
     "exception": false,
     "start_time": "2024-06-25T04:46:44.950485",
     "status": "completed"
    },
    "tags": []
   },
   "outputs": [
    {
     "data": {
      "image/png": "[encoded data removed]",
      "text/plain": [
       "<Figure size 640x480 with 1 Axes>"
      ]
     },
     "metadata": {},
     "output_type": "display_data"
    }
   ],
   "source": [
    "plt.boxplot(df['SALES']);\n",
    "plt.title('Outliers in data');"
   ]
  },
  {
   "cell_type": "markdown",
   "id": "7f5d98dd",
   "metadata": {
    "papermill": {
     "duration": 0.02532,
     "end_time": "2024-06-25T04:46:45.331452",
     "exception": false,
     "start_time": "2024-06-25T04:46:45.306132",
     "status": "completed"
    },
    "tags": []
   },
   "source": [
    "#### Removing Outliers in 'SALES' column"
   ]
  },
  {
   "cell_type": "code",
   "execution_count": 40,
   "id": "5b2affa0",
   "metadata": {
    "execution": {
     "iopub.execute_input": "2024-06-25T04:46:45.386457Z",
     "iopub.status.busy": "2024-06-25T04:46:45.386059Z",
     "iopub.status.idle": "2024-06-25T04:46:45.397273Z",
     "shell.execute_reply": "2024-06-25T04:46:45.395481Z"
    },
    "papermill": {
     "duration": 0.04255,
     "end_time": "2024-06-25T04:46:45.400438",
     "exception": false,
     "start_time": "2024-06-25T04:46:45.357888",
     "status": "completed"
    },
    "tags": []
   },
   "outputs": [],
   "source": [
    "q3  = np.percentile(df['SALES'],85)\n",
    "q2 = np.percentile(df['SALES'],25)\n",
    "iqr = q3 -q2\n",
    "ub = q3 +(1.5 * iqr)\n",
    "lb = q2-(1.5 * iqr)\n",
    "\n",
    "df  = df[(df['SALES'] <= ub) & (df['SALES'] >=lb)]"
   ]
  },
  {
   "cell_type": "code",
   "execution_count": 41,
   "id": "7f2ad797",
   "metadata": {
    "execution": {
     "iopub.execute_input": "2024-06-25T04:46:45.454552Z",
     "iopub.status.busy": "2024-06-25T04:46:45.454099Z",
     "iopub.status.idle": "2024-06-25T04:46:45.742152Z",
     "shell.execute_reply": "2024-06-25T04:46:45.741030Z"
    },
    "papermill": {
     "duration": 0.318129,
     "end_time": "2024-06-25T04:46:45.744855",
     "exception": false,
     "start_time": "2024-06-25T04:46:45.426726",
     "status": "completed"
    },
    "tags": []
   },
   "outputs": [
    {
     "data": {
      "image/png": "[encoded data removed]",
      "text/plain": [
       "<Figure size 640x480 with 1 Axes>"
      ]
     },
     "metadata": {},
     "output_type": "display_data"
    }
   ],
   "source": [
    "plt.boxplot(df['SALES']);\n",
    "plt.title('Outliers in data');"
   ]
  },
  {
   "cell_type": "code",
   "execution_count": 42,
   "id": "70725c5e",
   "metadata": {
    "execution": {
     "iopub.execute_input": "2024-06-25T04:46:45.799700Z",
     "iopub.status.busy": "2024-06-25T04:46:45.799268Z",
     "iopub.status.idle": "2024-06-25T04:46:46.692266Z",
     "shell.execute_reply": "2024-06-25T04:46:46.690765Z"
    },
    "papermill": {
     "duration": 0.924098,
     "end_time": "2024-06-25T04:46:46.695229",
     "exception": false,
     "start_time": "2024-06-25T04:46:45.771131",
     "status": "completed"
    },
    "tags": []
   },
   "outputs": [
    {
     "data": {
      "image/png": "[encoded data removed]",
      "text/plain": [
       "<Figure size 640x480 with 1 Axes>"
      ]
     },
     "metadata": {},
     "output_type": "display_data"
    },
    {
     "data": {
      "image/png": "[encoded data removed]",
      "text/plain": [
       "<Figure size 640x480 with 1 Axes>"
      ]
     },
     "metadata": {},
     "output_type": "display_data"
    },
    {
     "data": {
      "image/png": "[encoded data removed]",
      "text/plain": [
       "<Figure size 640x480 with 1 Axes>"
      ]
     },
     "metadata": {},
     "output_type": "display_data"
    }
   ],
   "source": [
    "\n",
    "df['QUANTITYORDERED'].hist(bins=30)\n",
    "plt.show()\n",
    "\n",
    "\n",
    "df['PRICEEACH'].hist(bins=30)\n",
    "plt.show()\n",
    "\n",
    "\n",
    "df['SALES'].hist(bins=30)\n",
    "plt.show()\n"
   ]
  },
  {
   "cell_type": "code",
   "execution_count": null,
   "id": "f400b88c",
   "metadata": {
    "papermill": {
     "duration": 0.027044,
     "end_time": "2024-06-25T04:46:46.749602",
     "exception": false,
     "start_time": "2024-06-25T04:46:46.722558",
     "status": "completed"
    },
    "tags": []
   },
   "outputs": [],
   "source": []
  }
 ],
 "metadata": {
  "kaggle": {
   "accelerator": "none",
   "dataSources": [
    {
     "datasetId": 807638,
     "sourceId": 1383922,
     "sourceType": "datasetVersion"
    },
    {
     "datasetId": 4021193,
     "sourceId": 6995678,
     "sourceType": "datasetVersion"
    },
    {
     "datasetId": 5127040,
     "sourceId": 8574205,
     "sourceType": "datasetVersion"
    }
   ],
   "dockerImageVersionId": 30732,
   "isGpuEnabled": false,
   "isInternetEnabled": false,
   "language": "python",
   "sourceType": "notebook"
  },
  "kernelspec": {
   "display_name": "Python 3 (ipykernel)",
   "language": "python",
   "name": "python3"
  },
  "language_info": {
   "codemirror_mode": {
    "name": "ipython",
    "version": 3
   },
   "file_extension": ".py",
   "mimetype": "text/x-python",
   "name": "python",
   "nbconvert_exporter": "python",
   "pygments_lexer": "ipython3",
   "version": "3.11.7"
  },
  "papermill": {
   "default_parameters": {},
   "duration": 23.686704,
   "end_time": "2024-06-25T04:46:47.502900",
   "environment_variables": {},
   "exception": null,
   "input_path": "__notebook__.ipynb",
   "output_path": "__notebook__.ipynb",
   "parameters": {},
   "start_time": "2024-06-25T04:46:23.816196",
   "version": "2.5.0"
  }
 },
 "nbformat": 4,
 "nbformat_minor": 5
}
