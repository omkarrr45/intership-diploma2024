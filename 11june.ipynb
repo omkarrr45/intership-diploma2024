{
 "cells": [
  {
   "cell_type": "code",
   "execution_count": 6,
   "id": "3107b27d-9b49-402a-893e-af0cbfaa8845",
   "metadata": {},
   "outputs": [],
   "source": [
    "f = open('maha.txt','r')"
   ]
  },
  {
   "cell_type": "code",
   "execution_count": 7,
   "id": "707f889c-5b2d-4f9d-bf79-4717ef24835e",
   "metadata": {},
   "outputs": [
    {
     "name": "stdout",
     "output_type": "stream",
     "text": [
      "maha.txt\n"
     ]
    }
   ],
   "source": [
    "print(f.name)"
   ]
  },
  {
   "cell_type": "code",
   "execution_count": 8,
   "id": "54267b5a-66f5-4940-bd67-5259c9958b5a",
   "metadata": {},
   "outputs": [
    {
     "name": "stdout",
     "output_type": "stream",
     "text": [
      "A paragraph is a series of sentences that are organized and coherent, and are all related to a single topic. Almost every piece of writing you do that is longer than a few sentences should be organized into paragraphs. This is because paragraphs show a reader where the subdivisions of an essay begin and end, and thus help the reader see the organization of the essay and grasp its main points.\n",
      "\n",
      "Paragraphs can contain many different kinds of information. A paragraph could contain a series of brief examples or a single long illustration of a general point. It might describe a place, character, or process; narrate a series of events; compare or contrast two or more things; classify items into categories; or describe causes and effects. Regardless of the kind of information they contain, all paragraphs share certain characteristics. One of the most important of these is a topic sentence.\n"
     ]
    }
   ],
   "source": [
    "print(f.read())"
   ]
  },
  {
   "cell_type": "code",
   "execution_count": 9,
   "id": "ab290356-e0ab-490d-8152-fc46afc8c3aa",
   "metadata": {},
   "outputs": [
    {
     "name": "stdout",
     "output_type": "stream",
     "text": [
      "r\n"
     ]
    }
   ],
   "source": [
    "print(f.mode)"
   ]
  },
  {
   "cell_type": "code",
   "execution_count": 10,
   "id": "e59c4ec1-cb9f-44f8-8793-d43e3d632b55",
   "metadata": {},
   "outputs": [],
   "source": [
    "f.close()"
   ]
  },
  {
   "cell_type": "code",
   "execution_count": 12,
   "id": "7bddadbe-38a1-4f07-b8be-6a2157122148",
   "metadata": {},
   "outputs": [
    {
     "data": {
      "text/plain": [
       "True"
      ]
     },
     "execution_count": 12,
     "metadata": {},
     "output_type": "execute_result"
    }
   ],
   "source": [
    "f.closed"
   ]
  },
  {
   "cell_type": "code",
   "execution_count": 14,
   "id": "d8b892c1-9381-48f8-9697-c99a8b11d8c1",
   "metadata": {},
   "outputs": [],
   "source": [
    "# open with context manager\n",
    "\n",
    "with open('maha.txt','r') as f:\n",
    "    pass"
   ]
  },
  {
   "cell_type": "code",
   "execution_count": 15,
   "id": "06c84c6f-c9eb-4541-9bb4-be8dbf24bd0a",
   "metadata": {},
   "outputs": [
    {
     "data": {
      "text/plain": [
       "True"
      ]
     },
     "execution_count": 15,
     "metadata": {},
     "output_type": "execute_result"
    }
   ],
   "source": [
    "f.closed\n"
   ]
  },
  {
   "cell_type": "code",
   "execution_count": 17,
   "id": "45066b01-d0eb-430b-92c1-5040eba0c3cf",
   "metadata": {},
   "outputs": [
    {
     "name": "stdout",
     "output_type": "stream",
     "text": [
      "[' this is first line\\n', 'this is 2 line\\n', 'this is 3 line\\n', 'this is 4 line\\n']\n"
     ]
    }
   ],
   "source": [
    "#read lines\n",
    "\n",
    "with open('test1.txt','r') as f:\n",
    "    content = f.readlines()\n",
    "    print(content)"
   ]
  },
  {
   "cell_type": "code",
   "execution_count": 18,
   "id": "8e630767-d3b9-40a3-bc38-a5f625fc9026",
   "metadata": {},
   "outputs": [
    {
     "name": "stdout",
     "output_type": "stream",
     "text": [
      " this is first line\n",
      "\n"
     ]
    }
   ],
   "source": [
    "#read only one line\n",
    "\n",
    "with open('test1.txt','r') as f:\n",
    "    content = f.readline()\n",
    "    print(content)"
   ]
  },
  {
   "cell_type": "code",
   "execution_count": 20,
   "id": "5cc20dec-9e66-4464-89c3-34ad31ac30dd",
   "metadata": {},
   "outputs": [
    {
     "name": "stdout",
     "output_type": "stream",
     "text": [
      " this is first line\n",
      " this is 2 line\n",
      "\n"
     ]
    }
   ],
   "source": [
    "with open('test1.txt','r') as f:\n",
    "    content = f.readline()\n",
    "    print(content, end=' ')\n",
    "    \n",
    "    content = f.readline()\n",
    "    print(content)"
   ]
  },
  {
   "cell_type": "code",
   "execution_count": 21,
   "id": "e13afa54-a656-49db-9856-e4448a3b8297",
   "metadata": {},
   "outputs": [
    {
     "name": "stdout",
     "output_type": "stream",
     "text": [
      " th\n"
     ]
    }
   ],
   "source": [
    "# read the three character\n",
    "\n",
    "with open('test1.txt','r') as f:\n",
    "    content = f.readline(3)\n",
    "    print(content)"
   ]
  },
  {
   "cell_type": "code",
   "execution_count": 23,
   "id": "aba6bb10-4378-42b6-8f5a-162eb2d5e6e9",
   "metadata": {},
   "outputs": [
    {
     "name": "stdout",
     "output_type": "stream",
     "text": [
      " this* is f*irst *line\n",
      "*this *is 2 *line\n",
      "*this *is 3 *line\n",
      "*this *is 4 *line\n",
      "*"
     ]
    }
   ],
   "source": [
    "# use while loop to read entire file.. 5 character at time\n",
    "\n",
    "with open('test1.txt','r') as f:\n",
    "    size = 5\n",
    "    \n",
    "    content = f.readline(size)\n",
    "    while len(content) > 0:\n",
    "        print(content, end = '*')\n",
    "        content = f.read(size)\n",
    "        "
   ]
  },
  {
   "cell_type": "code",
   "execution_count": 24,
   "id": "2f373e74-4957-424e-85ed-22629b5eb098",
   "metadata": {},
   "outputs": [
    {
     "name": "stdout",
     "output_type": "stream",
     "text": [
      " this\n",
      " this\n"
     ]
    }
   ],
   "source": [
    "with open('test1.txt','r') as f:\n",
    "    size = 5\n",
    "    content = f.readline(size)\n",
    "    print(content)\n",
    "\n",
    "    f.seek(0)     #will start from begining\n",
    "\n",
    "    content = f.read(size)\n",
    "    print(content)"
   ]
  },
  {
   "cell_type": "code",
   "execution_count": 25,
   "id": "a5f31184-3eec-4721-a7c5-505d9e6191f0",
   "metadata": {},
   "outputs": [],
   "source": [
    "#write\n",
    "with open('write.txt','w') as w:\n",
    "     pass"
   ]
  },
  {
   "cell_type": "code",
   "execution_count": 27,
   "id": "cdb166b1-3f3d-467b-918e-a4db42c60597",
   "metadata": {},
   "outputs": [],
   "source": [
    "with open('write.txt','w') as w:\n",
    "    w.write('my name is omkar ')\n",
    "    w.seek(0)\n",
    "    w.write('my name is aryan')\n"
   ]
  },
  {
   "cell_type": "code",
   "execution_count": 28,
   "id": "c33f90b1-24f0-4f82-a537-4509cd512ede",
   "metadata": {},
   "outputs": [],
   "source": [
    "with open('write.txt','w') as w:\n",
    "    w.write('my name is omkar ')\n",
    "    w.seek(0)\n",
    "    w.write('AAA')\n",
    "    \n"
   ]
  },
  {
   "cell_type": "code",
   "execution_count": 30,
   "id": "7bb40738-e335-4bf0-980d-5f433fb82ad2",
   "metadata": {},
   "outputs": [],
   "source": [
    "# create a new file which will be the copy of maha.txt\n",
    "\n",
    "with open('maha.txt','r') as rf:\n",
    "    with open('maha_copy.txt','w') as w:\n",
    "        for line in rf :\n",
    "         w.write(line)\n"
   ]
  },
  {
   "cell_type": "code",
   "execution_count": 43,
   "id": "52bae725-c8b6-4adc-b53e-231b0778c398",
   "metadata": {},
   "outputs": [
    {
     "ename": "SyntaxError",
     "evalue": "(unicode error) 'unicodeescape' codec can't decode bytes in position 12-13: truncated \\UXXXXXXXX escape (405664464.py, line 2)",
     "output_type": "error",
     "traceback": [
      "\u001b[1;36m  Cell \u001b[1;32mIn[43], line 2\u001b[1;36m\u001b[0m\n\u001b[1;33m    with open('‪C:\\Users\\OMKAR\\Pictures\\Screenshots\\Screenshot 2024-06-11 102354.png', 'r') as f:\u001b[0m\n\u001b[1;37m                                                                                     ^\u001b[0m\n\u001b[1;31mSyntaxError\u001b[0m\u001b[1;31m:\u001b[0m (unicode error) 'unicodeescape' codec can't decode bytes in position 12-13: truncated \\UXXXXXXXX escape\n"
     ]
    }
   ],
   "source": [
    "# image\n",
    "with open('‪C:\\Users\\OMKAR\\Pictures\\Screenshots\\Screenshot 2024-06-11 102354.png', 'rb') as f:\n",
    " with open('wall_copy','wb') as w:\n",
    "     for line in f:\n",
    "       w.write(line)"
   ]
  },
  {
   "cell_type": "code",
   "execution_count": 48,
   "id": "c9841f98-4907-4ff7-a1f9-25bf26c34b83",
   "metadata": {},
   "outputs": [
    {
     "name": "stdout",
     "output_type": "stream",
     "text": [
      "file is not there\n"
     ]
    }
   ],
   "source": [
    "try:\n",
    "    f = open('test1.txt')\n",
    "    var = var1\n",
    "except Exception:\n",
    "    print('file is not there')"
   ]
  },
  {
   "cell_type": "code",
   "execution_count": 49,
   "id": "7a1311f5-cd84-4c33-893c-d881c1e9ce90",
   "metadata": {},
   "outputs": [
    {
     "ename": "NameError",
     "evalue": "name 'var1' is not defined",
     "output_type": "error",
     "traceback": [
      "\u001b[1;31m---------------------------------------------------------------------------\u001b[0m",
      "\u001b[1;31mNameError\u001b[0m                                 Traceback (most recent call last)",
      "Cell \u001b[1;32mIn[49], line 3\u001b[0m\n\u001b[0;32m      1\u001b[0m \u001b[38;5;28;01mtry\u001b[39;00m:\n\u001b[0;32m      2\u001b[0m     f \u001b[38;5;241m=\u001b[39m \u001b[38;5;28mopen\u001b[39m(\u001b[38;5;124m'\u001b[39m\u001b[38;5;124mtest1.txt\u001b[39m\u001b[38;5;124m'\u001b[39m)\n\u001b[1;32m----> 3\u001b[0m     var \u001b[38;5;241m=\u001b[39m var1\n\u001b[0;32m      4\u001b[0m \u001b[38;5;28;01mexcept\u001b[39;00m \u001b[38;5;167;01mFileNotFoundError\u001b[39;00m:\n\u001b[0;32m      5\u001b[0m     \u001b[38;5;28mprint\u001b[39m(\u001b[38;5;124m'\u001b[39m\u001b[38;5;124mfile is not found there\u001b[39m\u001b[38;5;124m'\u001b[39m)\n",
      "\u001b[1;31mNameError\u001b[0m: name 'var1' is not defined"
     ]
    }
   ],
   "source": [
    "\n",
    "try:\n",
    "    f = open('test1.txt')\n",
    "    var = var1\n",
    "except FileNotFoundError:\n",
    "    print('file is not found there')"
   ]
  },
  {
   "cell_type": "code",
   "execution_count": 50,
   "id": "6b84a49e-3e01-48f7-94eb-a76993c4b5f1",
   "metadata": {},
   "outputs": [
    {
     "name": "stdout",
     "output_type": "stream",
     "text": [
      "var1 is not defined\n"
     ]
    }
   ],
   "source": [
    "try:\n",
    "    f = open('test1.txt')\n",
    "    var = var1\n",
    "except NameError:\n",
    "    print('var1 is not defined')"
   ]
  },
  {
   "cell_type": "code",
   "execution_count": 51,
   "id": "bd15e177-8b13-488e-8e2a-70ad8ecaf830",
   "metadata": {},
   "outputs": [
    {
     "name": "stdout",
     "output_type": "stream",
     "text": [
      "name 'var1' is not defined\n"
     ]
    }
   ],
   "source": [
    "try:\n",
    "    f = open('test1.txt')\n",
    "    var = var1\n",
    "except Exception as e:\n",
    "    print(e)"
   ]
  },
  {
   "cell_type": "code",
   "execution_count": 53,
   "id": "78dcde59-dcdb-4c9b-b9e7-01fc6c7ddea3",
   "metadata": {},
   "outputs": [
    {
     "name": "stdout",
     "output_type": "stream",
     "text": [
      " this is first line\n",
      "this is 2 line\n",
      "this is 3 line\n",
      "this is 4 line\n",
      "\n"
     ]
    }
   ],
   "source": [
    "\n",
    "try:\n",
    "    f = open('test1.txt')\n",
    "except FileNotFoundError:\n",
    "    print('file is not found there')\n",
    "else:                                         # will execute if we are not getting erre in  try\n",
    "    print(f.read())\n",
    "    f.close()"
   ]
  },
  {
   "cell_type": "code",
   "execution_count": 55,
   "id": "e08de86b-f293-4cf4-a863-307c6e7a65fc",
   "metadata": {},
   "outputs": [
    {
     "name": "stdout",
     "output_type": "stream",
     "text": [
      "file is not found there\n",
      "finally\n"
     ]
    }
   ],
   "source": [
    "\n",
    "try:\n",
    "    f = open('test10.txt')\n",
    "except FileNotFoundError:\n",
    "    print('file is not found there')\n",
    "else:                                         # will execute if we are not getting erre in  try\n",
    "    print('ok')\n",
    "finally:\n",
    "    print('finally')"
   ]
  },
  {
   "cell_type": "code",
   "execution_count": 56,
   "id": "cc2089ba-d682-4d21-a215-6ce8773fd383",
   "metadata": {},
   "outputs": [
    {
     "name": "stdout",
     "output_type": "stream",
     "text": [
      "ok\n",
      "finally\n"
     ]
    }
   ],
   "source": [
    "try:\n",
    "    f = open('test1.txt')\n",
    "except FileNotFoundError:\n",
    "    print('file is not found there')\n",
    "else:                                         # will execute if we are not getting erre in  try\n",
    "    print('ok')\n",
    "finally:\n",
    "    print('finally')"
   ]
  },
  {
   "cell_type": "code",
   "execution_count": null,
   "id": "be35eb2c-fe0d-4904-9279-939ae4a9c026",
   "metadata": {},
   "outputs": [],
   "source": []
  }
 ],
 "metadata": {
  "kernelspec": {
   "display_name": "Python 3 (ipykernel)",
   "language": "python",
   "name": "python3"
  },
  "language_info": {
   "codemirror_mode": {
    "name": "ipython",
    "version": 3
   },
   "file_extension": ".py",
   "mimetype": "text/x-python",
   "name": "python",
   "nbconvert_exporter": "python",
   "pygments_lexer": "ipython3",
   "version": "3.11.7"
  }
 },
 "nbformat": 4,
 "nbformat_minor": 5
}
