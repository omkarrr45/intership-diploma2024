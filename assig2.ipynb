{
 "cells": [
  {
   "cell_type": "code",
   "execution_count": null,
   "id": "f11fa182-f7f4-43d8-9a80-9d1993a98281",
   "metadata": {},
   "outputs": [],
   "source": [
    "#que 1\n",
    "'''\n",
    "Create a package named ‘cricket’ which will contain modules named batsman and bowler. Create following functions in respective modules.\n",
    "Import the package and call all these functions in your program batsman: findaverage(runs,matches), strikerate(runs,balls) bowler: \n",
    "findavg(runs,wickets), economyrate(overs, runs)\n",
    "'''"
   ]
  },
  {
   "cell_type": "code",
   "execution_count": null,
   "id": "802724b8-3e9d-441f-9587-b6fca5b566e6",
   "metadata": {},
   "outputs": [],
   "source": [
    "from cricket import batsman\n",
    "from cricket import bowler\n",
    "\n",
    "runs = 500\n",
    "matches = 10\n",
    "balls = 300\n",
    "\n",
    "batting_avg = batsman.findaverage(runs, matches)\n",
    "strike_rate = batsman.strikerate(runs, balls)\n",
    "\n",
    "print(f\"Batting Average: {batting_avg}\")\n",
    "print(f\"Strike Rate: {strike_rate}\")\n",
    "\n",
    "runs_conceded = 400\n",
    "wickets = 20\n",
    "overs = 50\n",
    "\n",
    "bowling_avg = bowler.findavg(runs_conceded, wickets)\n",
    "economy_rate = bowler.economyrate(overs, runs_conceded)\n",
    "\n",
    "print(f\"Bowling Average: {bowling_avg}\")\n",
    "print(f\"Economy Rate: {economy_rate}\")"
   ]
  },
  {
   "cell_type": "markdown",
   "id": "04ceb265-0786-4c04-a2d7-206857726723",
   "metadata": {},
   "source": [
    "Batting Average: 50.0 \n",
    "Strike Rate: 166.66666666666669 \n",
    "Bowling Average: 20.0 \n",
    "Economy Rate: 8.0 \n"
   ]
  },
  {
   "cell_type": "code",
   "execution_count": 6,
   "id": "01279b1e-87bf-4219-b7f4-94c40b107d1a",
   "metadata": {},
   "outputs": [],
   "source": [
    "#que 2\n",
    "'''\n",
    "Write a Python function to find whether the number if prime or not. def isPrime(num)\n",
    "'''\n",
    "def Prime(num):\n",
    "    if num <= 1:\n",
    "        return False\n",
    "    if num <= 3:\n",
    "        return True\n",
    "    if num % 2 == 0 or num % 3 == 0:\n",
    "        return False\n",
    "    i = 5\n",
    "    while i * i <= num:\n",
    "        if num % i == 0 or num % (i + 2) == 0:\n",
    "            return False\n",
    "        i += 6\n",
    "    return True\n",
    "    \n"
   ]
  },
  {
   "cell_type": "code",
   "execution_count": 6,
   "id": "b671ac39-b5d6-4280-bfa2-4c81cf92ab12",
   "metadata": {},
   "outputs": [
    {
     "name": "stdout",
     "output_type": "stream",
     "text": [
      "True\n"
     ]
    }
   ],
   "source": [
    "print(Prime(41)) "
   ]
  },
  {
   "cell_type": "code",
   "execution_count": 5,
   "id": "8f8ad97e-bcef-46a4-8a0e-9550b3b14aad",
   "metadata": {},
   "outputs": [
    {
     "name": "stdout",
     "output_type": "stream",
     "text": [
      "False\n"
     ]
    }
   ],
   "source": [
    "print(Prime(91))"
   ]
  },
  {
   "cell_type": "code",
   "execution_count": 9,
   "id": "64d3b705-b36e-4e0c-868b-13269db7e713",
   "metadata": {},
   "outputs": [],
   "source": [
    "#que 3\n",
    "'''\n",
    "Write a function is_palindrome(string) that takes a string as input and returns\n",
    "True if the string reads the same backward as forward (e.g., \"racecar\" is a palindrome)\n",
    "'''\n",
    "\n",
    "def is_palindrome(string):\n",
    "   \n",
    "    pass\n",
    "    return string == string[::-1]"
   ]
  },
  {
   "cell_type": "code",
   "execution_count": 10,
   "id": "dd4a83c0-4cb0-428d-9688-7721f2b1766c",
   "metadata": {},
   "outputs": [],
   "source": [
    "string1 = \"racecar\"\n",
    "string2 = \"hello\""
   ]
  },
  {
   "cell_type": "code",
   "execution_count": 11,
   "id": "5ce1de26-aaf5-47a8-ba93-74e1d5443254",
   "metadata": {},
   "outputs": [
    {
     "name": "stdout",
     "output_type": "stream",
     "text": [
      "Is 'racecar' a palindrome? True\n"
     ]
    }
   ],
   "source": [
    "print(f\"Is '{string1}' a palindrome? {is_palindrome(string1)}\")"
   ]
  },
  {
   "cell_type": "code",
   "execution_count": 12,
   "id": "f60acd57-88ea-4cb3-add2-9ea71c3ffbaa",
   "metadata": {},
   "outputs": [
    {
     "name": "stdout",
     "output_type": "stream",
     "text": [
      "Is 'hello' a palindrome? False\n"
     ]
    }
   ],
   "source": [
    "print(f\"Is '{string2}' a palindrome? {is_palindrome(string2)}\")"
   ]
  },
  {
   "cell_type": "code",
   "execution_count": null,
   "id": "7360eee7-7fdb-4702-b5c2-9950cd5c3deb",
   "metadata": {},
   "outputs": [],
   "source": [
    "#que.4 \n",
    "'''\n",
    "Write a function reverse_list(data) that takes a list as input and returns a new list with the elements in reverse order \n",
    "(e.g., reverse_list([1, 2, 3]) returns [3, 2, 1]\n",
    " '''"
   ]
  },
  {
   "cell_type": "code",
   "execution_count": 14,
   "id": "b89ec5f6-a113-463b-b73d-e4543212133e",
   "metadata": {},
   "outputs": [],
   "source": [
    "def reverse_list(data):\n",
    "    reversed_list = data[::-1]\n",
    "    return reversed_list\n",
    "    "
   ]
  },
  {
   "cell_type": "code",
   "execution_count": 17,
   "id": "31321571-5392-4769-8e66-172c99d8000d",
   "metadata": {},
   "outputs": [],
   "source": [
    "original_list = [5, 7, 3]\n",
    "reversed_result = reverse_list(original_list)"
   ]
  },
  {
   "cell_type": "code",
   "execution_count": 18,
   "id": "c52b9c0e-ebf2-4e88-b128-47b1d38baf07",
   "metadata": {},
   "outputs": [
    {
     "name": "stdout",
     "output_type": "stream",
     "text": [
      "Original list: [5, 7, 3]\n"
     ]
    }
   ],
   "source": [
    "print(\"Original list:\", original_list)"
   ]
  },
  {
   "cell_type": "code",
   "execution_count": 19,
   "id": "8015327c-91ec-4a2f-8819-fbf4f688d458",
   "metadata": {},
   "outputs": [
    {
     "name": "stdout",
     "output_type": "stream",
     "text": [
      "Reversed list: [3, 7, 5]\n"
     ]
    }
   ],
   "source": [
    "print(\"Reversed list:\", reversed_result)"
   ]
  },
  {
   "cell_type": "code",
   "execution_count": 21,
   "id": "a8bf390d-4485-49fc-86f9-d71e9c7c2fb8",
   "metadata": {},
   "outputs": [],
   "source": [
    "#que 5\n",
    "'''\n",
    "Write a function write_file(filename, content) that takes a filename and\n",
    "content as input and writes the content to the specified file.\n",
    "'''\n",
    "def write_file(filename, content):\n",
    "      with open(filename, 'w') as w:\n",
    "            w.write(content)\n"
   ]
  },
  {
   "cell_type": "code",
   "execution_count": 22,
   "id": "c6c3177a-df78-4b0e-a08a-14b91c828afe",
   "metadata": {},
   "outputs": [],
   "source": [
    "write_file(\"assig2Q5.txt\", \"hello\")"
   ]
  },
  {
   "cell_type": "code",
   "execution_count": 31,
   "id": "13d46e39-f7d4-4584-9075-0d9d3985dc38",
   "metadata": {},
   "outputs": [
    {
     "name": "stdout",
     "output_type": "stream",
     "text": [
      "Content copied from example_source.txt to example_destination.txt\n",
      "Content of example_destination.txt\n",
      "This is a test content.\n"
     ]
    }
   ],
   "source": [
    "#que 6\n",
    "'''\n",
    "Write a function copy_file(source_filename, destination_filename) that\n",
    "takes the source and destination filenames as input and copies the content of the source\n",
    "file to the destination file. Handle cases where the source file doesn't exist.\n",
    "'''\n",
    "def copy_file(source_filename, destination_filename):\n",
    "    try:\n",
    "        with open(source_filename, 'r') as source_file:\n",
    "            content = source_file.read()\n",
    "\n",
    "        with open(destination_filename, 'w') as destination_file:\n",
    "            destination_file.write(content)\n",
    "\n",
    "        print(f\"Content copied from {source_filename} to {destination_filename}\")\n",
    "\n",
    "    except FileNotFoundError:\n",
    "        print(f\"Error: The file {source_filename} does not exist.\")\n",
    "    \n",
    "    except Exception as e:\n",
    "        print(f\"An error occurred: {e}\")\n",
    "\n",
    "source_file = 'example_source.txt'\n",
    "destination_file = 'example_destination.txt'\n",
    "\n",
    "with open(source_file, 'w') as f:\n",
    "    f.write(\"This is a test content.\")\n",
    "\n",
    "copy_file(source_file, destination_file)\n",
    "\n",
    "with open(destination_file, 'r') as f:\n",
    "    print('Content of',destination_file)\n",
    "    print(f.read())\n",
    "          \n"
   ]
  },
  {
   "cell_type": "code",
   "execution_count": null,
   "id": "a158e5e1-dd24-49c7-a9bb-814cf0b59a19",
   "metadata": {},
   "outputs": [],
   "source": [
    "#que7\n",
    "'''\n",
    "Implement a function to calculate the dot product of two NumPy arrays.\n",
    "'''"
   ]
  },
  {
   "cell_type": "code",
   "execution_count": 26,
   "id": "1f484346-6089-421a-85bd-1c762b6497d7",
   "metadata": {},
   "outputs": [],
   "source": [
    "import numpy as np\n",
    "\n",
    "def calculate_dot_product(arr1, arr2):\n",
    "    return np.dot(arr1, arr2)"
   ]
  },
  {
   "cell_type": "code",
   "execution_count": 27,
   "id": "dea9bfdd-37a3-4f0f-b7cb-af7408ea2cf4",
   "metadata": {},
   "outputs": [],
   "source": [
    "arr1 = np.array([2, 5, 8])\n",
    "arr2 = np.array([1, 4, 7])"
   ]
  },
  {
   "cell_type": "code",
   "execution_count": 28,
   "id": "3720a7fb-d7c4-4904-91c5-26d5bef850ae",
   "metadata": {},
   "outputs": [],
   "source": [
    "result = calculate_dot_product(arr1, arr2)"
   ]
  },
  {
   "cell_type": "code",
   "execution_count": 29,
   "id": "83c94e58-d203-41e8-8069-928283bd47e8",
   "metadata": {},
   "outputs": [
    {
     "name": "stdout",
     "output_type": "stream",
     "text": [
      "Dot product: 78\n"
     ]
    }
   ],
   "source": [
    "print('Dot product:', result)"
   ]
  },
  {
   "cell_type": "code",
   "execution_count": null,
   "id": "d70fea6c-3443-465a-8373-835bbdbc249b",
   "metadata": {},
   "outputs": [],
   "source": [
    "#que 8.\n",
    "'''Implement a GUI with a radio button selection for choosing a favorite color (e.g., red,green, blue).\n",
    "change the background color of the window based on the selected radio button.\n",
    "'''"
   ]
  },
  {
   "cell_type": "code",
   "execution_count": 32,
   "id": "b2302b9b-0be1-4a99-bcf5-5ec082874afb",
   "metadata": {},
   "outputs": [],
   "source": [
    "import tkinter as tk\n",
    "from tkinter import ttk\n",
    "\n",
    "top = tk.Tk()\n",
    "\n",
    "top.title(\"Favorite Color Selector\")\n",
    "top.geometry(\"300x200\")\n",
    "color_var = tk.StringVar(value='Red')\n",
    "\n",
    "def change_color():\n",
    "    selected_color = color_var.get()\n",
    "    if selected_color == 'Red':\n",
    "        top.configure(bg='red')\n",
    "    elif selected_color == 'Green':\n",
    "        top.configure(bg='green')\n",
    "    elif selected_color == 'Blue':\n",
    "        top.configure(bg='blue')\n",
    "\n",
    "radio_red = ttk.Radiobutton(top, text='Red', value='Red', variable=color_var, command=change_color)\n",
    "radio_red.grid(row=0, column=0)\n",
    "\n",
    "radio_green = ttk.Radiobutton(top, text='Green', value='Green', variable=color_var, command=change_color)\n",
    "radio_green.grid(row=1, column=0)\n",
    "\n",
    "radio_blue = ttk.Radiobutton(top, text='Blue', value='Blue', variable=color_var, command=change_color)\n",
    "radio_blue.grid(row=2, column=0)\n",
    "\n",
    "top.mainloop()"
   ]
  },
  {
   "cell_type": "code",
   "execution_count": null,
   "id": "4fb82713-6aed-4ca3-9292-cf5c9efb5b20",
   "metadata": {},
   "outputs": [],
   "source": [
    "#que 9\n",
    "'''\n",
    "Design a currency converter GUI. Allow users to enter an amount and select the currencies they want to convert between (e.g., USD, EUR).\n",
    " Display the converted amount in the selected currency\n",
    "'''"
   ]
  },
  {
   "cell_type": "code",
   "execution_count": null,
   "id": "3570f759-33c6-4d49-bfa7-77ca435390b2",
   "metadata": {},
   "outputs": [],
   "source": [
    "import tkinter as tk\n",
    "from tkinter import ttk\n",
    "\n",
    "top = tk.Tk()\n",
    "top.title('Currency Converter')\n",
    "\n",
    "result_var = tk.StringVar()\n",
    "result_label = tk.Label(top, textvariable=result_var, font=('Arial', 24))\n",
    "result_label.grid(row=4, column=0, columnspan=2)\n",
    "\n",
    "convert_button = tk.Button(top, text=\"Convert\", command=convert_currency)\n",
    "convert_button.grid(row=3, column=0, columnspan=2)\n",
    "\n",
    "\n",
    "def convert_currency():\n",
    "    amount = float(amount_entry.get())\n",
    "    from_currency = from_currency_var.get()\n",
    "    to_currency = to_currency_var.get()\n",
    "    if from_currency == to_currency:\n",
    "        result = amount\n",
    "    else:\n",
    "        rate = conversion_rates[from_currency][to_currency]\n",
    "        result = amount * rate\n",
    "    result_var.set(f\"{result:.2f} {to_currency}\")\n",
    "\n",
    "\n",
    "# Conversion rates dictionary\n",
    "conversion_rates = {\n",
    "    \"USD\": {\"EUR\": 0.85, \"INR\": 74.10},\n",
    "    \"EUR\": {\"USD\": 1.18, \"INR\": 87.21},\n",
    "    \"INR\": {\"USD\": 0.013, \"EUR\": 0.011}\n",
    "}\n",
    "\n",
    "\n",
    "# Amount entry\n",
    "amount_label = tk.Label(top, text=\"Amount:\")\n",
    "amount_label.grid(row=0, column=0)\n",
    "amount_entry = tk.Entry(top)\n",
    "amount_entry.grid(row=0, column=1)\n",
    "\n",
    "# From currency\n",
    "from_currency_label = tk.Label(top, text=\"From:\")\n",
    "from_currency_label.grid(row=1, column=0)\n",
    "from_currency_var = tk.StringVar(value='USD')\n",
    "from_currency_combo = ttk.Combobox(top, textvariable=from_currency_var)\n",
    "from_currency_combo['values'] = ('USD', 'EUR', 'INR')\n",
    "from_currency_combo.grid(row=1, column=1)\n",
    "\n",
    "# To currency\n",
    "to_currency_label = tk.Label(top, text=\"To:\")\n",
    "to_currency_label.grid(row=2, column=0)\n",
    "to_currency_var = tk.StringVar(value='EUR')\n",
    "to_currency_combo = ttk.Combobox(top, textvariable=to_currency_var)\n",
    "to_currency_combo['values'] = ('USD', 'EUR', 'INR')\n",
    "to_currency_combo.grid(row=2, column=1)\n",
    "\n",
    "top.mainloop()"
   ]
  }
 ],
 "metadata": {
  "kernelspec": {
   "display_name": "Python 3 (ipykernel)",
   "language": "python",
   "name": "python3"
  },
  "language_info": {
   "codemirror_mode": {
    "name": "ipython",
    "version": 3
   },
   "file_extension": ".py",
   "mimetype": "text/x-python",
   "name": "python",
   "nbconvert_exporter": "python",
   "pygments_lexer": "ipython3",
   "version": "3.11.7"
  }
 },
 "nbformat": 4,
 "nbformat_minor": 5
}
