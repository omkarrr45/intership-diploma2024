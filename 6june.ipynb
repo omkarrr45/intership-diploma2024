{
 "cells": [
  {
   "cell_type": "code",
   "execution_count": 1,
   "id": "ef5da8a2-a441-4e10-a2cc-b433251acdf1",
   "metadata": {},
   "outputs": [
    {
     "name": "stdout",
     "output_type": "stream",
     "text": [
      "[12, 34, 45, 17]\n"
     ]
    }
   ],
   "source": [
    "#list\n",
    "l=[12,34,45,17]\n",
    "print(l)"
   ]
  },
  {
   "cell_type": "code",
   "execution_count": 2,
   "id": "f8490e8f-8ad9-459e-a1b6-27791b63e8cd",
   "metadata": {},
   "outputs": [
    {
     "data": {
      "text/plain": [
       "list"
      ]
     },
     "execution_count": 2,
     "metadata": {},
     "output_type": "execute_result"
    }
   ],
   "source": [
    "type(l)"
   ]
  },
  {
   "cell_type": "code",
   "execution_count": 3,
   "id": "af1dae66-45ea-481b-82a1-1979be6755e6",
   "metadata": {},
   "outputs": [
    {
     "name": "stdout",
     "output_type": "stream",
     "text": [
      "[12, 34, 45, 67, 12]\n"
     ]
    }
   ],
   "source": [
    "l=[12,34,45,67,12]\n",
    "print(l)"
   ]
  },
  {
   "cell_type": "code",
   "execution_count": 6,
   "id": "62dd19fa-7be4-428a-a8bc-d226da194235",
   "metadata": {},
   "outputs": [
    {
     "name": "stdout",
     "output_type": "stream",
     "text": [
      "[12, 34, 45, 67, 12, 'adi', True]\n"
     ]
    }
   ],
   "source": [
    "l=[12,34,45,67,12,'adi',True]\n",
    "print(l)"
   ]
  },
  {
   "cell_type": "code",
   "execution_count": 7,
   "id": "7d0198a7-2b47-4723-85c2-67c57e4ce261",
   "metadata": {},
   "outputs": [
    {
     "data": {
      "text/plain": [
       "12"
      ]
     },
     "execution_count": 7,
     "metadata": {},
     "output_type": "execute_result"
    }
   ],
   "source": [
    "#access the data\n",
    "l[0]"
   ]
  },
  {
   "cell_type": "code",
   "execution_count": 8,
   "id": "be077a99-ee60-4555-9426-6df275db06ea",
   "metadata": {},
   "outputs": [
    {
     "data": {
      "text/plain": [
       "'adi'"
      ]
     },
     "execution_count": 8,
     "metadata": {},
     "output_type": "execute_result"
    }
   ],
   "source": [
    "l[5]"
   ]
  },
  {
   "cell_type": "code",
   "execution_count": 9,
   "id": "deb61f37-2f20-4ab6-82d9-9875c8346da4",
   "metadata": {},
   "outputs": [
    {
     "data": {
      "text/plain": [
       "True"
      ]
     },
     "execution_count": 9,
     "metadata": {},
     "output_type": "execute_result"
    }
   ],
   "source": [
    "l[-1]"
   ]
  },
  {
   "cell_type": "code",
   "execution_count": 10,
   "id": "f69454d5-02f2-4732-80ca-5432a843cc53",
   "metadata": {},
   "outputs": [],
   "source": [
    "l[-1]=57  #replace value based on index #changing value=mutablel"
   ]
  },
  {
   "cell_type": "code",
   "execution_count": 11,
   "id": "277520ee-cd1a-44a1-8b74-98766bac0818",
   "metadata": {},
   "outputs": [
    {
     "data": {
      "text/plain": [
       "[12, 34, 45, 67, 12, 'adi', 57]"
      ]
     },
     "execution_count": 11,
     "metadata": {},
     "output_type": "execute_result"
    }
   ],
   "source": [
    "l"
   ]
  },
  {
   "cell_type": "code",
   "execution_count": 12,
   "id": "2662b84f-0e00-4593-8af7-7987a70ad65c",
   "metadata": {},
   "outputs": [
    {
     "data": {
      "text/plain": [
       "[12, 34, 45, 67, 12, 2, 57]"
      ]
     },
     "execution_count": 12,
     "metadata": {},
     "output_type": "execute_result"
    }
   ],
   "source": [
    "l[-2]=2\n",
    "l"
   ]
  },
  {
   "cell_type": "code",
   "execution_count": 13,
   "id": "e4f53868-e7b5-490d-a1d2-e037100e45f3",
   "metadata": {},
   "outputs": [
    {
     "data": {
      "text/plain": [
       "[12, 34, 45, 67, 12, 'nil', 57]"
      ]
     },
     "execution_count": 13,
     "metadata": {},
     "output_type": "execute_result"
    }
   ],
   "source": [
    "l[-2]='nil'\n",
    "l"
   ]
  },
  {
   "cell_type": "code",
   "execution_count": 14,
   "id": "a9285a2a-8af1-4c2a-bbb3-621bf69f64d1",
   "metadata": {},
   "outputs": [],
   "source": [
    "# list slicing\n"
   ]
  },
  {
   "cell_type": "code",
   "execution_count": 36,
   "id": "56c5643e-25c1-46b1-8152-fe3e24ba770b",
   "metadata": {},
   "outputs": [
    {
     "data": {
      "text/plain": [
       "[12, 45, 67, 82]"
      ]
     },
     "execution_count": 36,
     "metadata": {},
     "output_type": "execute_result"
    }
   ],
   "source": [
    "l"
   ]
  },
  {
   "cell_type": "code",
   "execution_count": 16,
   "id": "54143d96-2da8-49fc-aa5a-42dbd41e7626",
   "metadata": {},
   "outputs": [
    {
     "data": {
      "text/plain": [
       "[45, 67, 12, 'nil']"
      ]
     },
     "execution_count": 16,
     "metadata": {},
     "output_type": "execute_result"
    }
   ],
   "source": [
    "l[2:6]"
   ]
  },
  {
   "cell_type": "code",
   "execution_count": 17,
   "id": "774c3046-9b70-488e-9df2-556c2c13271c",
   "metadata": {},
   "outputs": [
    {
     "data": {
      "text/plain": [
       "[45, 67, 12, 'nil']"
      ]
     },
     "execution_count": 17,
     "metadata": {},
     "output_type": "execute_result"
    }
   ],
   "source": [
    "x=l[2:6]\n",
    "x"
   ]
  },
  {
   "cell_type": "code",
   "execution_count": 18,
   "id": "203f1deb-50aa-4f24-ae96-275b93a900c1",
   "metadata": {},
   "outputs": [
    {
     "data": {
      "text/plain": [
       "[12, 34, 45, 67, 12]"
      ]
     },
     "execution_count": 18,
     "metadata": {},
     "output_type": "execute_result"
    }
   ],
   "source": [
    "l[:-2]"
   ]
  },
  {
   "cell_type": "code",
   "execution_count": 19,
   "id": "e0f64a1f-bcf0-4b0d-9d20-5738aadca0ea",
   "metadata": {},
   "outputs": [
    {
     "data": {
      "text/plain": [
       "[34, 67]"
      ]
     },
     "execution_count": 19,
     "metadata": {},
     "output_type": "execute_result"
    }
   ],
   "source": [
    "l[1:-3:2]"
   ]
  },
  {
   "cell_type": "code",
   "execution_count": 21,
   "id": "00934c6c-aea6-4860-82fb-94f043296308",
   "metadata": {},
   "outputs": [
    {
     "data": {
      "text/plain": [
       "[12, 45, 12, 57]"
      ]
     },
     "execution_count": 21,
     "metadata": {},
     "output_type": "execute_result"
    }
   ],
   "source": [
    "l[::2]"
   ]
  },
  {
   "cell_type": "code",
   "execution_count": 35,
   "id": "578c94d9-ebfd-4fbe-a2d2-49054a3ce068",
   "metadata": {},
   "outputs": [
    {
     "data": {
      "text/plain": [
       "[12, 45, 67, 82]"
      ]
     },
     "execution_count": 35,
     "metadata": {},
     "output_type": "execute_result"
    }
   ],
   "source": [
    "l[1:4]=[45,67,82]\n",
    "l"
   ]
  },
  {
   "cell_type": "code",
   "execution_count": 43,
   "id": "14320d43-9140-45c6-99b3-64ee2466f927",
   "metadata": {},
   "outputs": [
    {
     "data": {
      "text/plain": [
       "[12, 12, 10, 57]"
      ]
     },
     "execution_count": 43,
     "metadata": {},
     "output_type": "execute_result"
    }
   ],
   "source": [
    "#delete the data\n",
    "del l[1]\n",
    "l"
   ]
  },
  {
   "cell_type": "code",
   "execution_count": 70,
   "id": "a47deb59-1dce-477d-b1f0-3ccbee20b7cf",
   "metadata": {},
   "outputs": [
    {
     "data": {
      "text/plain": [
       "[12, 67, 82, 17, 12, 10, 57]"
      ]
     },
     "execution_count": 70,
     "metadata": {},
     "output_type": "execute_result"
    }
   ],
   "source": [
    "l=[12,67,82,17,12,10,57]\n",
    "l"
   ]
  },
  {
   "cell_type": "code",
   "execution_count": 39,
   "id": "7d3895fc-ed82-4430-989c-df29b55f72ca",
   "metadata": {},
   "outputs": [
    {
     "data": {
      "text/plain": [
       "True"
      ]
     },
     "execution_count": 39,
     "metadata": {},
     "output_type": "execute_result"
    }
   ],
   "source": [
    "82 in l"
   ]
  },
  {
   "cell_type": "code",
   "execution_count": 40,
   "id": "4a49bbea-22b4-446c-bc9e-ec30414ae716",
   "metadata": {},
   "outputs": [
    {
     "data": {
      "text/plain": [
       "False"
      ]
     },
     "execution_count": 40,
     "metadata": {},
     "output_type": "execute_result"
    }
   ],
   "source": [
    "100 in l"
   ]
  },
  {
   "cell_type": "code",
   "execution_count": 44,
   "id": "e6a04580-8185-4878-b945-6c70905caa03",
   "metadata": {},
   "outputs": [],
   "source": [
    "#arithmetic oprator"
   ]
  },
  {
   "cell_type": "code",
   "execution_count": 47,
   "id": "7963e152-7f47-4834-8317-346c3a7a82cf",
   "metadata": {},
   "outputs": [
    {
     "data": {
      "text/plain": [
       "[12, 67, 82, 17, 12, 10, 57]"
      ]
     },
     "execution_count": 47,
     "metadata": {},
     "output_type": "execute_result"
    }
   ],
   "source": [
    "l"
   ]
  },
  {
   "cell_type": "code",
   "execution_count": 48,
   "id": "4c6c0f65-daea-46cc-b5cc-d6451ccc5c55",
   "metadata": {},
   "outputs": [
    {
     "data": {
      "text/plain": [
       "[12, 67, 82, 17, 12, 10, 57, 12, 67, 82, 17, 12, 10, 57]"
      ]
     },
     "execution_count": 48,
     "metadata": {},
     "output_type": "execute_result"
    }
   ],
   "source": [
    "l*2"
   ]
  },
  {
   "cell_type": "code",
   "execution_count": 49,
   "id": "dec86a31-fae6-4f8c-8e36-e9ec47a8429b",
   "metadata": {},
   "outputs": [
    {
     "data": {
      "text/plain": [
       "[12, 67, 82, 17, 12, 10, 57, 12, 56]"
      ]
     },
     "execution_count": 49,
     "metadata": {},
     "output_type": "execute_result"
    }
   ],
   "source": [
    "l+[12,56]"
   ]
  },
  {
   "cell_type": "code",
   "execution_count": 50,
   "id": "dc6f3254-6058-4679-8024-72e5dd00effb",
   "metadata": {},
   "outputs": [],
   "source": [
    "l1=[56,True,44.33]"
   ]
  },
  {
   "cell_type": "code",
   "execution_count": 51,
   "id": "1fc8d74a-c5d2-43da-81a9-799c4a48d62a",
   "metadata": {},
   "outputs": [
    {
     "data": {
      "text/plain": [
       "[12, 67, 82, 17, 12, 10, 57, 56, True, 44.33]"
      ]
     },
     "execution_count": 51,
     "metadata": {},
     "output_type": "execute_result"
    }
   ],
   "source": [
    "l+l1"
   ]
  },
  {
   "cell_type": "code",
   "execution_count": 53,
   "id": "1ae10252-2735-4e8a-aec5-01a31b0b5153",
   "metadata": {},
   "outputs": [],
   "source": [
    "#iterating over the list"
   ]
  },
  {
   "cell_type": "code",
   "execution_count": 4,
   "id": "b09c91fa-7d2c-44eb-ad27-e3c36a0bbcfe",
   "metadata": {},
   "outputs": [
    {
     "data": {
      "text/plain": [
       "[12, 67, 82, 17, 12, 10, 57]"
      ]
     },
     "execution_count": 4,
     "metadata": {},
     "output_type": "execute_result"
    }
   ],
   "source": [
    "l"
   ]
  },
  {
   "cell_type": "code",
   "execution_count": 55,
   "id": "25ab05c3-9c68-49ec-b9da-ba75f5d87eb9",
   "metadata": {},
   "outputs": [
    {
     "name": "stdout",
     "output_type": "stream",
     "text": [
      "144 4489 6724 289 144 100 3249 "
     ]
    }
   ],
   "source": [
    "for n in l:\n",
    "    print(n*n,end=' ')"
   ]
  },
  {
   "cell_type": "code",
   "execution_count": 56,
   "id": "0f39aad9-0c8c-4b52-9a75-6c3ac06feed7",
   "metadata": {},
   "outputs": [],
   "source": [
    "#write a program to print odd number from this list"
   ]
  },
  {
   "cell_type": "code",
   "execution_count": 5,
   "id": "7e9a1769-0ce4-4387-b6e7-d4603fd41aaa",
   "metadata": {},
   "outputs": [
    {
     "name": "stdout",
     "output_type": "stream",
     "text": [
      "67 17 57 "
     ]
    }
   ],
   "source": [
    "for n in l:\n",
    "   if n%2!=0:\n",
    "     print(n,end=' ')\n",
    "    "
   ]
  },
  {
   "cell_type": "code",
   "execution_count": 6,
   "id": "e801ec82-aba1-4fd7-a294-b9a0b95664d2",
   "metadata": {},
   "outputs": [],
   "source": [
    "#list comprehension"
   ]
  },
  {
   "cell_type": "code",
   "execution_count": 7,
   "id": "2fd6786a-593c-49f6-b6f4-6616cb851035",
   "metadata": {},
   "outputs": [
    {
     "data": {
      "text/plain": [
       "[12, 67, 82, 17, 12, 10, 57]"
      ]
     },
     "execution_count": 7,
     "metadata": {},
     "output_type": "execute_result"
    }
   ],
   "source": [
    "l"
   ]
  },
  {
   "cell_type": "code",
   "execution_count": 8,
   "id": "896bed9c-a472-408f-a37b-eb21d101bbd4",
   "metadata": {},
   "outputs": [],
   "source": [
    "#map"
   ]
  },
  {
   "cell_type": "code",
   "execution_count": 9,
   "id": "df5a1d25-bbb8-4cdd-8afe-948756e5624b",
   "metadata": {},
   "outputs": [],
   "source": [
    "a=[n/2 for n in l]"
   ]
  },
  {
   "cell_type": "code",
   "execution_count": 10,
   "id": "bfaa8665-876d-436e-8d67-91d5c3abe2eb",
   "metadata": {},
   "outputs": [
    {
     "data": {
      "text/plain": [
       "[6.0, 33.5, 41.0, 8.5, 6.0, 5.0, 28.5]"
      ]
     },
     "execution_count": 10,
     "metadata": {},
     "output_type": "execute_result"
    }
   ],
   "source": [
    "a"
   ]
  },
  {
   "cell_type": "code",
   "execution_count": 11,
   "id": "06d1d1c2-08b8-48fb-981f-8cda3635e790",
   "metadata": {},
   "outputs": [
    {
     "data": {
      "text/plain": [
       "list"
      ]
     },
     "execution_count": 11,
     "metadata": {},
     "output_type": "execute_result"
    }
   ],
   "source": [
    "type(a)"
   ]
  },
  {
   "cell_type": "code",
   "execution_count": 12,
   "id": "aff3333b-db64-4319-8959-5cd5cff26ab5",
   "metadata": {},
   "outputs": [
    {
     "data": {
      "text/plain": [
       "[144, 4489, 6724, 289, 144, 100, 3249]"
      ]
     },
     "execution_count": 12,
     "metadata": {},
     "output_type": "execute_result"
    }
   ],
   "source": [
    "[n*n for n in l]"
   ]
  },
  {
   "cell_type": "code",
   "execution_count": 13,
   "id": "08835a02-50ae-4516-9dcc-62b8c30bda9d",
   "metadata": {},
   "outputs": [
    {
     "data": {
      "text/plain": [
       "[12, 67, 82, 17, 12, 10, 57]"
      ]
     },
     "execution_count": 13,
     "metadata": {},
     "output_type": "execute_result"
    }
   ],
   "source": [
    "#filter\n",
    "l"
   ]
  },
  {
   "cell_type": "code",
   "execution_count": 20,
   "id": "01a5b1e3-7ab2-4b18-bde7-65b700cf79c8",
   "metadata": {},
   "outputs": [],
   "source": [
    "b=[ n for n in l if n>40]"
   ]
  },
  {
   "cell_type": "code",
   "execution_count": 17,
   "id": "707ce2fb-74c1-4a8c-83cb-a86361deafad",
   "metadata": {},
   "outputs": [
    {
     "data": {
      "text/plain": [
       "[67, 82, 57]"
      ]
     },
     "execution_count": 17,
     "metadata": {},
     "output_type": "execute_result"
    }
   ],
   "source": [
    "b"
   ]
  },
  {
   "cell_type": "code",
   "execution_count": 21,
   "id": "48e78dae-2d98-4e12-b772-e0147591d0b6",
   "metadata": {},
   "outputs": [
    {
     "data": {
      "text/plain": [
       "[67, 17, 57]"
      ]
     },
     "execution_count": 21,
     "metadata": {},
     "output_type": "execute_result"
    }
   ],
   "source": [
    "[ n for n in l if n%2==1]"
   ]
  },
  {
   "cell_type": "code",
   "execution_count": 22,
   "id": "b41adc31-48e6-4afa-af96-a3a49a729b01",
   "metadata": {},
   "outputs": [],
   "source": [
    "name=['karan','sakshi','tanvi','aryan','tanvi','tejal',]"
   ]
  },
  {
   "cell_type": "code",
   "execution_count": 30,
   "id": "0b3fa405-7feb-4bd8-b6f6-ab9ca3637d23",
   "metadata": {},
   "outputs": [],
   "source": [
    "#list contating name which start with 't'\n",
    "b=[n for n in name if n.startswith('t')]"
   ]
  },
  {
   "cell_type": "code",
   "execution_count": 31,
   "id": "d805d24e-6361-4b05-86bf-a6c6d78979ff",
   "metadata": {},
   "outputs": [
    {
     "data": {
      "text/plain": [
       "['tanvi', 'tanvi', 'tejal']"
      ]
     },
     "execution_count": 31,
     "metadata": {},
     "output_type": "execute_result"
    }
   ],
   "source": [
    "b"
   ]
  },
  {
   "cell_type": "code",
   "execution_count": 32,
   "id": "9999f434-8c62-497e-8223-a46fcf6dcfe9",
   "metadata": {},
   "outputs": [],
   "source": [
    "#list i upper case"
   ]
  },
  {
   "cell_type": "code",
   "execution_count": 40,
   "id": "b0696e6b-d5e8-4296-873d-9cd292e5c060",
   "metadata": {},
   "outputs": [
    {
     "data": {
      "text/plain": [
       "['KARAN', 'SAKSHI', 'TANVI', 'ARYAN', 'TANVI', 'TEJAL']"
      ]
     },
     "execution_count": 40,
     "metadata": {},
     "output_type": "execute_result"
    }
   ],
   "source": [
    "[ n.upper() for n in name ]"
   ]
  },
  {
   "cell_type": "code",
   "execution_count": 41,
   "id": "04fdea78-e032-4ed8-9178-6734d23a2d2d",
   "metadata": {},
   "outputs": [],
   "source": [
    "#empty list"
   ]
  },
  {
   "cell_type": "code",
   "execution_count": 43,
   "id": "616ef21c-7636-4be3-89bd-36fa6b3371ea",
   "metadata": {},
   "outputs": [
    {
     "data": {
      "text/plain": [
       "list"
      ]
     },
     "execution_count": 43,
     "metadata": {},
     "output_type": "execute_result"
    }
   ],
   "source": [
    "e=[]\n",
    "type(e)"
   ]
  },
  {
   "cell_type": "code",
   "execution_count": 45,
   "id": "52e585a5-6e81-4d79-861c-f3964f143620",
   "metadata": {},
   "outputs": [
    {
     "ename": "IndexError",
     "evalue": "list index out of range",
     "output_type": "error",
     "traceback": [
      "\u001b[1;31m---------------------------------------------------------------------------\u001b[0m",
      "\u001b[1;31mIndexError\u001b[0m                                Traceback (most recent call last)",
      "Cell \u001b[1;32mIn[45], line 1\u001b[0m\n\u001b[1;32m----> 1\u001b[0m e[\u001b[38;5;241m0\u001b[39m]\n",
      "\u001b[1;31mIndexError\u001b[0m: list index out of range"
     ]
    }
   ],
   "source": [
    "e[0]"
   ]
  },
  {
   "cell_type": "code",
   "execution_count": 46,
   "id": "91d11e0a-0cfc-40c2-8175-fee674cc0995",
   "metadata": {},
   "outputs": [],
   "source": [
    "e=e+[4]"
   ]
  },
  {
   "cell_type": "code",
   "execution_count": 47,
   "id": "69c0d203-1ef0-4531-a3bc-b38b1a2302e1",
   "metadata": {},
   "outputs": [
    {
     "data": {
      "text/plain": [
       "[4]"
      ]
     },
     "execution_count": 47,
     "metadata": {},
     "output_type": "execute_result"
    }
   ],
   "source": [
    "e"
   ]
  },
  {
   "cell_type": "code",
   "execution_count": 48,
   "id": "6eef9b95-8eb0-4534-b699-206499c6a6d8",
   "metadata": {},
   "outputs": [],
   "source": [
    "#list decomposition"
   ]
  },
  {
   "cell_type": "code",
   "execution_count": 49,
   "id": "d42ede1f-9c3c-44ce-bba6-91f607d66607",
   "metadata": {},
   "outputs": [],
   "source": [
    "l1=[34,56,78]"
   ]
  },
  {
   "cell_type": "code",
   "execution_count": 50,
   "id": "cfaefcd8-e06e-4235-a856-80a4c0d06a34",
   "metadata": {},
   "outputs": [],
   "source": [
    "x,y,z=l1"
   ]
  },
  {
   "cell_type": "code",
   "execution_count": 51,
   "id": "da077bc4-3bdd-473e-b2a4-fdc8d7d98700",
   "metadata": {},
   "outputs": [
    {
     "data": {
      "text/plain": [
       "34"
      ]
     },
     "execution_count": 51,
     "metadata": {},
     "output_type": "execute_result"
    }
   ],
   "source": [
    "x"
   ]
  },
  {
   "cell_type": "code",
   "execution_count": 52,
   "id": "6ea7ce3e-4fe2-46ec-927c-7ae0cbb1598a",
   "metadata": {},
   "outputs": [
    {
     "data": {
      "text/plain": [
       "56"
      ]
     },
     "execution_count": 52,
     "metadata": {},
     "output_type": "execute_result"
    }
   ],
   "source": [
    "y"
   ]
  },
  {
   "cell_type": "code",
   "execution_count": 53,
   "id": "4237452e-0fad-4929-92a1-ee02a15998e8",
   "metadata": {},
   "outputs": [
    {
     "data": {
      "text/plain": [
       "78"
      ]
     },
     "execution_count": 53,
     "metadata": {},
     "output_type": "execute_result"
    }
   ],
   "source": [
    "z"
   ]
  },
  {
   "cell_type": "code",
   "execution_count": 54,
   "id": "79af6fe6-3fbe-41c7-9abf-1e6aab0dc019",
   "metadata": {},
   "outputs": [],
   "source": [
    "##function"
   ]
  },
  {
   "cell_type": "code",
   "execution_count": 55,
   "id": "580ac0b3-3138-4aef-9f00-48c54748dc82",
   "metadata": {},
   "outputs": [
    {
     "data": {
      "text/plain": [
       "[12, 67, 82, 17, 12, 10, 57]"
      ]
     },
     "execution_count": 55,
     "metadata": {},
     "output_type": "execute_result"
    }
   ],
   "source": [
    "l"
   ]
  },
  {
   "cell_type": "code",
   "execution_count": 56,
   "id": "a9d2b7b3-c236-4399-ac69-6d1117268768",
   "metadata": {},
   "outputs": [
    {
     "data": {
      "text/plain": [
       "7"
      ]
     },
     "execution_count": 56,
     "metadata": {},
     "output_type": "execute_result"
    }
   ],
   "source": [
    "len(l)"
   ]
  },
  {
   "cell_type": "code",
   "execution_count": 57,
   "id": "9cb2129f-56b0-44c6-905f-945a6fc469c9",
   "metadata": {},
   "outputs": [
    {
     "data": {
      "text/plain": [
       "82"
      ]
     },
     "execution_count": 57,
     "metadata": {},
     "output_type": "execute_result"
    }
   ],
   "source": [
    "max(l)"
   ]
  },
  {
   "cell_type": "code",
   "execution_count": 58,
   "id": "90fa6008-2754-4d81-8989-f37209b5a29f",
   "metadata": {},
   "outputs": [
    {
     "data": {
      "text/plain": [
       "10"
      ]
     },
     "execution_count": 58,
     "metadata": {},
     "output_type": "execute_result"
    }
   ],
   "source": [
    "min(l)"
   ]
  },
  {
   "cell_type": "code",
   "execution_count": 59,
   "id": "1519c01a-3d3c-4516-a017-1f08e60517fe",
   "metadata": {},
   "outputs": [
    {
     "data": {
      "text/plain": [
       "257"
      ]
     },
     "execution_count": 59,
     "metadata": {},
     "output_type": "execute_result"
    }
   ],
   "source": [
    "sum(l)"
   ]
  },
  {
   "cell_type": "code",
   "execution_count": 60,
   "id": "e467f735-8700-42d9-bbff-8929ce2d1447",
   "metadata": {},
   "outputs": [
    {
     "data": {
      "text/plain": [
       "[10, 12, 12, 17, 57, 67, 82]"
      ]
     },
     "execution_count": 60,
     "metadata": {},
     "output_type": "execute_result"
    }
   ],
   "source": [
    "sorted(l)   #assending"
   ]
  },
  {
   "cell_type": "code",
   "execution_count": 63,
   "id": "8bb16b01-1dca-47d2-9332-87d767aadd8e",
   "metadata": {},
   "outputs": [
    {
     "data": {
      "text/plain": [
       "[82, 67, 57, 17, 12, 12, 10]"
      ]
     },
     "execution_count": 63,
     "metadata": {},
     "output_type": "execute_result"
    }
   ],
   "source": [
    "sorted(l,reverse=True)   #desending"
   ]
  },
  {
   "cell_type": "code",
   "execution_count": 64,
   "id": "1c60e0ff-64e5-4bf3-bda7-f0dd7e055bc6",
   "metadata": {},
   "outputs": [],
   "source": [
    "   ####method on list"
   ]
  },
  {
   "cell_type": "code",
   "execution_count": 71,
   "id": "3621f600-9f95-477a-b1d1-6619d79af547",
   "metadata": {},
   "outputs": [
    {
     "data": {
      "text/plain": [
       "[12, 67, 82, 17, 12, 10, 57]"
      ]
     },
     "execution_count": 71,
     "metadata": {},
     "output_type": "execute_result"
    }
   ],
   "source": [
    "l"
   ]
  },
  {
   "cell_type": "code",
   "execution_count": 72,
   "id": "2d6e598e-b4b0-46cc-baba-ea9e5e9ca366",
   "metadata": {},
   "outputs": [
    {
     "data": {
      "text/plain": [
       "[12, 67, 82, 17, 12, 10, 57, 100]"
      ]
     },
     "execution_count": 72,
     "metadata": {},
     "output_type": "execute_result"
    }
   ],
   "source": [
    "l.append(100)   #add at end\n",
    "l"
   ]
  },
  {
   "cell_type": "code",
   "execution_count": 73,
   "id": "8102cd25-b352-485f-b2f0-2b0bb6aaf16b",
   "metadata": {},
   "outputs": [],
   "source": [
    "#append and extend"
   ]
  },
  {
   "cell_type": "code",
   "execution_count": 74,
   "id": "d1b37609-e0b9-4ae3-b0c5-b06140e3d0de",
   "metadata": {},
   "outputs": [],
   "source": [
    "x=[12,23,34]"
   ]
  },
  {
   "cell_type": "code",
   "execution_count": 75,
   "id": "d451ea55-722b-45b5-a83a-4b6eddc080aa",
   "metadata": {},
   "outputs": [],
   "source": [
    "y=[12,23,34]"
   ]
  },
  {
   "cell_type": "code",
   "execution_count": 86,
   "id": "80a937b2-2842-4773-bbd5-efe037a013d4",
   "metadata": {},
   "outputs": [],
   "source": [
    "x.append([11,22])"
   ]
  },
  {
   "cell_type": "code",
   "execution_count": 87,
   "id": "07acd002-9e5e-4d69-8bdf-0b16bae59b1e",
   "metadata": {},
   "outputs": [],
   "source": [
    "y.extend([11,22])"
   ]
  },
  {
   "cell_type": "code",
   "execution_count": 88,
   "id": "0ab78896-6643-4167-8084-025850922be6",
   "metadata": {},
   "outputs": [
    {
     "name": "stdout",
     "output_type": "stream",
     "text": [
      "[12, 23, 34, [11, 22]]\n"
     ]
    }
   ],
   "source": [
    "print(x)"
   ]
  },
  {
   "cell_type": "code",
   "execution_count": 89,
   "id": "95015088-460c-47d5-930e-616cc72eb4f4",
   "metadata": {},
   "outputs": [
    {
     "name": "stdout",
     "output_type": "stream",
     "text": [
      "[12, 23, 34, 11, 22]\n"
     ]
    }
   ],
   "source": [
    "print(y)"
   ]
  },
  {
   "cell_type": "code",
   "execution_count": 90,
   "id": "9f3e64fb-b598-4622-9dfa-de7b215e8e4e",
   "metadata": {},
   "outputs": [
    {
     "data": {
      "text/plain": [
       "[11, 22]"
      ]
     },
     "execution_count": 90,
     "metadata": {},
     "output_type": "execute_result"
    }
   ],
   "source": [
    "x[-1]"
   ]
  },
  {
   "cell_type": "code",
   "execution_count": 91,
   "id": "69a67bdf-ce3d-463c-9de8-c4259884b782",
   "metadata": {},
   "outputs": [
    {
     "data": {
      "text/plain": [
       "22"
      ]
     },
     "execution_count": 91,
     "metadata": {},
     "output_type": "execute_result"
    }
   ],
   "source": [
    "x[-1][1]"
   ]
  },
  {
   "cell_type": "code",
   "execution_count": null,
   "id": "9bfe26f4-f477-41bf-a383-3200d7a1a115",
   "metadata": {},
   "outputs": [],
   "source": []
  },
  {
   "cell_type": "code",
   "execution_count": 76,
   "id": "94132f7e-874f-4d83-87ba-a18b84b629da",
   "metadata": {},
   "outputs": [
    {
     "data": {
      "text/plain": [
       "[12, 67, 82, 17, 12, 10, 57, 100]"
      ]
     },
     "execution_count": 76,
     "metadata": {},
     "output_type": "execute_result"
    }
   ],
   "source": [
    "#insert\n",
    "l"
   ]
  },
  {
   "cell_type": "code",
   "execution_count": 78,
   "id": "4da3a816-ac4b-4541-a58a-3a6cf77fa24c",
   "metadata": {},
   "outputs": [],
   "source": [
    "l.insert(2,78)"
   ]
  },
  {
   "cell_type": "code",
   "execution_count": 79,
   "id": "32aae37f-3b82-4f07-89e2-a23acc1814ae",
   "metadata": {},
   "outputs": [
    {
     "data": {
      "text/plain": [
       "[12, 67, 78, 82, 17, 12, 10, 57, 100]"
      ]
     },
     "execution_count": 79,
     "metadata": {},
     "output_type": "execute_result"
    }
   ],
   "source": [
    "l"
   ]
  },
  {
   "cell_type": "code",
   "execution_count": 80,
   "id": "5c49d897-0a35-4a5a-baa3-bb0f607d02f2",
   "metadata": {},
   "outputs": [],
   "source": [
    "#remove\n",
    "l.remove(78)"
   ]
  },
  {
   "cell_type": "code",
   "execution_count": 81,
   "id": "9d41226b-7a08-4470-9718-f97cd10aaa24",
   "metadata": {},
   "outputs": [
    {
     "data": {
      "text/plain": [
       "[12, 67, 82, 17, 12, 10, 57, 100]"
      ]
     },
     "execution_count": 81,
     "metadata": {},
     "output_type": "execute_result"
    }
   ],
   "source": [
    "l"
   ]
  },
  {
   "cell_type": "code",
   "execution_count": 82,
   "id": "dac322d5-5dbc-479f-8c62-73905a3e96ea",
   "metadata": {},
   "outputs": [
    {
     "data": {
      "text/plain": [
       "6"
      ]
     },
     "execution_count": 82,
     "metadata": {},
     "output_type": "execute_result"
    }
   ],
   "source": [
    "l.index(57)"
   ]
  },
  {
   "cell_type": "code",
   "execution_count": 83,
   "id": "92ec2142-1c76-45ca-bcc5-54206098187e",
   "metadata": {},
   "outputs": [
    {
     "data": {
      "text/plain": [
       "2"
      ]
     },
     "execution_count": 83,
     "metadata": {},
     "output_type": "execute_result"
    }
   ],
   "source": [
    "l.count(12)"
   ]
  },
  {
   "cell_type": "code",
   "execution_count": 92,
   "id": "effd5c13-24c6-4aaa-b883-22c98c064982",
   "metadata": {},
   "outputs": [],
   "source": [
    "#delete/pop"
   ]
  },
  {
   "cell_type": "code",
   "execution_count": 103,
   "id": "45f24c35-af74-4d49-9f89-f8f2ee8ed91f",
   "metadata": {},
   "outputs": [],
   "source": [
    "l=[12, 67, 82, 17, 12, 10, 57, 100] "
   ]
  },
  {
   "cell_type": "code",
   "execution_count": 104,
   "id": "e85130f3-9532-410a-9d20-cae50d9f00e9",
   "metadata": {},
   "outputs": [
    {
     "data": {
      "text/plain": [
       "100"
      ]
     },
     "execution_count": 104,
     "metadata": {},
     "output_type": "execute_result"
    }
   ],
   "source": [
    "l.pop()"
   ]
  },
  {
   "cell_type": "code",
   "execution_count": 105,
   "id": "7049d128-7823-4f0a-b070-88435b45eb2c",
   "metadata": {},
   "outputs": [
    {
     "data": {
      "text/plain": [
       "10"
      ]
     },
     "execution_count": 105,
     "metadata": {},
     "output_type": "execute_result"
    }
   ],
   "source": [
    "l.pop(-2)"
   ]
  },
  {
   "cell_type": "code",
   "execution_count": 106,
   "id": "ff2ec55b-65fe-45f1-b07a-c0e2cabe1ac6",
   "metadata": {},
   "outputs": [
    {
     "data": {
      "text/plain": [
       "[12, 67, 82, 17, 12, 57]"
      ]
     },
     "execution_count": 106,
     "metadata": {},
     "output_type": "execute_result"
    }
   ],
   "source": [
    "l"
   ]
  },
  {
   "cell_type": "raw",
   "id": "528baa67-07a1-4c25-9182-208da78af8b0",
   "metadata": {},
   "source": [
    "  ........l.reverse()"
   ]
  },
  {
   "cell_type": "code",
   "execution_count": 107,
   "id": "cc094213-7540-434d-ab0c-d954df86b4ab",
   "metadata": {},
   "outputs": [
    {
     "data": {
      "text/plain": [
       "[12, 67, 82, 17, 12, 57]"
      ]
     },
     "execution_count": 107,
     "metadata": {},
     "output_type": "execute_result"
    }
   ],
   "source": [
    "l"
   ]
  },
  {
   "cell_type": "code",
   "execution_count": 109,
   "id": "8a7026b2-b96f-4ce8-8fd1-7f1a9885c4ab",
   "metadata": {},
   "outputs": [
    {
     "data": {
      "text/plain": [
       "[12, 12, 17, 57, 67, 82]"
      ]
     },
     "execution_count": 109,
     "metadata": {},
     "output_type": "execute_result"
    }
   ],
   "source": [
    "l.sort()\n",
    "l"
   ]
  },
  {
   "cell_type": "code",
   "execution_count": 110,
   "id": "50e957dd-aa2f-4611-aaa9-61411991bde2",
   "metadata": {},
   "outputs": [],
   "source": [
    "l.sort(reverse=True)"
   ]
  },
  {
   "cell_type": "code",
   "execution_count": 111,
   "id": "d571c4fc-b729-49d5-8b72-2edfe511ae97",
   "metadata": {},
   "outputs": [
    {
     "data": {
      "text/plain": [
       "[82, 67, 57, 17, 12, 12]"
      ]
     },
     "execution_count": 111,
     "metadata": {},
     "output_type": "execute_result"
    }
   ],
   "source": [
    "l"
   ]
  },
  {
   "cell_type": "code",
   "execution_count": 112,
   "id": "d45a34b8-09f1-4778-9ff5-9fea23efb940",
   "metadata": {},
   "outputs": [],
   "source": [
    "#itreative over a list print and the value assigned to it"
   ]
  },
  {
   "cell_type": "code",
   "execution_count": 114,
   "id": "327d5e73-5090-4bd8-a8d5-3cdf0115620f",
   "metadata": {},
   "outputs": [
    {
     "data": {
      "text/plain": [
       "[82, 67, 57, 17, 12, 12]"
      ]
     },
     "execution_count": 114,
     "metadata": {},
     "output_type": "execute_result"
    }
   ],
   "source": [
    "l"
   ]
  },
  {
   "cell_type": "code",
   "execution_count": 117,
   "id": "7471606d-c4d0-4cbf-88e6-57294adb70fd",
   "metadata": {},
   "outputs": [],
   "source": [
    "#o/p=0 82\n",
    " #   1 67"
   ]
  },
  {
   "cell_type": "code",
   "execution_count": 120,
   "id": "74a4a525-18eb-422c-9f8f-9d1cd95d36cf",
   "metadata": {},
   "outputs": [
    {
     "name": "stdout",
     "output_type": "stream",
     "text": [
      "0 82\n",
      "1 67\n",
      "2 57\n",
      "3 17\n",
      "4 12\n",
      "4 12\n"
     ]
    }
   ],
   "source": [
    "for n in l:\n",
    "    print(l.index(n),n)"
   ]
  },
  {
   "cell_type": "code",
   "execution_count": 121,
   "id": "4fcda272-49b8-4510-9a3a-7df9db48ca0c",
   "metadata": {},
   "outputs": [],
   "source": [
    "#enumerate  use in loop"
   ]
  },
  {
   "cell_type": "code",
   "execution_count": 125,
   "id": "452525a8-3f4b-4dac-9311-213183ac4106",
   "metadata": {},
   "outputs": [
    {
     "name": "stdout",
     "output_type": "stream",
     "text": [
      "0 82\n",
      "1 67\n",
      "2 57\n",
      "3 17\n",
      "4 12\n",
      "5 12\n"
     ]
    }
   ],
   "source": [
    "for index ,n in enumerate(l):\n",
    "   print(index,n)"
   ]
  },
  {
   "cell_type": "code",
   "execution_count": 126,
   "id": "bc5d54f5-01c5-45cf-bd5f-7efb59b55a24",
   "metadata": {},
   "outputs": [
    {
     "name": "stdout",
     "output_type": "stream",
     "text": [
      "1 82\n",
      "2 67\n",
      "3 57\n",
      "4 17\n",
      "5 12\n",
      "6 12\n"
     ]
    }
   ],
   "source": [
    "for index ,n in enumerate(l,1):\n",
    "   print(index,n)"
   ]
  },
  {
   "cell_type": "code",
   "execution_count": null,
   "id": "dde9f991-bfa0-4b53-8d6f-5950c323fef2",
   "metadata": {},
   "outputs": [],
   "source": [
    " #shallow copy"
   ]
  },
  {
   "cell_type": "code",
   "execution_count": 139,
   "id": "b014d36e-1920-42dc-90f4-20fe1395ef05",
   "metadata": {},
   "outputs": [],
   "source": [
    "l1=[34,45,56]"
   ]
  },
  {
   "cell_type": "code",
   "execution_count": 140,
   "id": "91fb7787-9fdb-4077-bccf-ff4cfe9d1723",
   "metadata": {},
   "outputs": [],
   "source": [
    "l2=l1"
   ]
  },
  {
   "cell_type": "markdown",
   "id": "42c624ac-46cb-4f72-9a60-82f63a760035",
   "metadata": {},
   "source": [
    "l2"
   ]
  },
  {
   "cell_type": "code",
   "execution_count": 141,
   "id": "b5c92de8-df72-442c-9b7b-8da2c59e3209",
   "metadata": {},
   "outputs": [
    {
     "data": {
      "text/plain": [
       "[34, 45, 56]"
      ]
     },
     "execution_count": 141,
     "metadata": {},
     "output_type": "execute_result"
    }
   ],
   "source": [
    "l2"
   ]
  },
  {
   "cell_type": "code",
   "execution_count": 142,
   "id": "a59e7908-2d6b-4ff1-a4db-f45a4dc29e92",
   "metadata": {},
   "outputs": [],
   "source": [
    "l1.append(2)"
   ]
  },
  {
   "cell_type": "code",
   "execution_count": 143,
   "id": "a59608cc-e330-49f1-8ac7-3c9a02f6ca9d",
   "metadata": {},
   "outputs": [
    {
     "data": {
      "text/plain": [
       "[34, 45, 56, 2]"
      ]
     },
     "execution_count": 143,
     "metadata": {},
     "output_type": "execute_result"
    }
   ],
   "source": [
    "l2"
   ]
  },
  {
   "cell_type": "markdown",
   "id": "d149cdf6-2890-4369-af10-07fe1a5455e0",
   "metadata": {},
   "source": []
  },
  {
   "cell_type": "code",
   "execution_count": 146,
   "id": "7e4f5fb1-5fce-4888-a68f-f1d534529812",
   "metadata": {},
   "outputs": [],
   "source": [
    "l3=l1.copy()"
   ]
  },
  {
   "cell_type": "code",
   "execution_count": 147,
   "id": "338160fe-99ac-4e44-96e5-1408d6cbe587",
   "metadata": {},
   "outputs": [
    {
     "data": {
      "text/plain": [
       "[34, 45, 56, 2]"
      ]
     },
     "execution_count": 147,
     "metadata": {},
     "output_type": "execute_result"
    }
   ],
   "source": [
    "l3"
   ]
  },
  {
   "cell_type": "code",
   "execution_count": 148,
   "id": "69304eb3-1717-4731-8ea4-efa21afe42a8",
   "metadata": {},
   "outputs": [],
   "source": [
    "l1.append([12,34])"
   ]
  },
  {
   "cell_type": "code",
   "execution_count": 149,
   "id": "ff625679-7bf6-4126-88d6-f856783105e0",
   "metadata": {},
   "outputs": [
    {
     "data": {
      "text/plain": [
       "[34, 45, 56, 2, [12, 34]]"
      ]
     },
     "execution_count": 149,
     "metadata": {},
     "output_type": "execute_result"
    }
   ],
   "source": [
    "l1"
   ]
  },
  {
   "cell_type": "code",
   "execution_count": 150,
   "id": "64b69668-b461-4b34-806d-e931435d0a6f",
   "metadata": {},
   "outputs": [],
   "source": [
    "l3=l1.copy()"
   ]
  },
  {
   "cell_type": "code",
   "execution_count": 151,
   "id": "734e45b3-bf6e-461f-af54-77d27624f92b",
   "metadata": {},
   "outputs": [
    {
     "data": {
      "text/plain": [
       "[34, 45, 56, 2, [12, 34]]"
      ]
     },
     "execution_count": 151,
     "metadata": {},
     "output_type": "execute_result"
    }
   ],
   "source": [
    "l3"
   ]
  },
  {
   "cell_type": "code",
   "execution_count": 152,
   "id": "5796910f-7b2d-48d9-9400-ad366245efd3",
   "metadata": {},
   "outputs": [],
   "source": [
    "l1.append(200)"
   ]
  },
  {
   "cell_type": "code",
   "execution_count": 153,
   "id": "027c30dd-5207-43c8-b177-b1fb9cbbdc1b",
   "metadata": {},
   "outputs": [
    {
     "data": {
      "text/plain": [
       "[34, 45, 56, 2, [12, 34], 200]"
      ]
     },
     "execution_count": 153,
     "metadata": {},
     "output_type": "execute_result"
    }
   ],
   "source": [
    "l1"
   ]
  },
  {
   "cell_type": "code",
   "execution_count": 154,
   "id": "d3fc1ac1-0ba0-4ec0-afbf-4c7f435f5943",
   "metadata": {},
   "outputs": [
    {
     "data": {
      "text/plain": [
       "[34, 45, 56, 2, [12, 34]]"
      ]
     },
     "execution_count": 154,
     "metadata": {},
     "output_type": "execute_result"
    }
   ],
   "source": [
    "l3"
   ]
  },
  {
   "cell_type": "code",
   "execution_count": 155,
   "id": "83d87087-3383-46de-b8ed-388b1236ff50",
   "metadata": {},
   "outputs": [
    {
     "data": {
      "text/plain": [
       "[34, 45, 56, 2, [12, 34, 1000], 200]"
      ]
     },
     "execution_count": 155,
     "metadata": {},
     "output_type": "execute_result"
    }
   ],
   "source": [
    "l1[-2].append(1000)\n",
    "l1"
   ]
  },
  {
   "cell_type": "code",
   "execution_count": 156,
   "id": "2edd7be3-3667-4e59-bc45-f9a9ba41d6d4",
   "metadata": {},
   "outputs": [
    {
     "data": {
      "text/plain": [
       "[34, 45, 56, 2, [12, 34, 1000]]"
      ]
     },
     "execution_count": 156,
     "metadata": {},
     "output_type": "execute_result"
    }
   ],
   "source": [
    "l3"
   ]
  },
  {
   "cell_type": "code",
   "execution_count": 159,
   "id": "78d53c5a-0842-4c89-940c-f35c6cad9ac1",
   "metadata": {},
   "outputs": [],
   "source": [
    "#tuplet\n",
    "t=(23,45,67,12,78,23)"
   ]
  },
  {
   "cell_type": "code",
   "execution_count": 160,
   "id": "cc89afc4-8a3d-4064-b896-7142bc9b984d",
   "metadata": {},
   "outputs": [
    {
     "data": {
      "text/plain": [
       "(23, 45, 67, 12, 78, 23)"
      ]
     },
     "execution_count": 160,
     "metadata": {},
     "output_type": "execute_result"
    }
   ],
   "source": [
    "t"
   ]
  },
  {
   "cell_type": "code",
   "execution_count": 161,
   "id": "05f43dde-d510-4c9b-8965-ba8888a42f10",
   "metadata": {},
   "outputs": [
    {
     "data": {
      "text/plain": [
       "tuple"
      ]
     },
     "execution_count": 161,
     "metadata": {},
     "output_type": "execute_result"
    }
   ],
   "source": [
    "type(t)"
   ]
  },
  {
   "cell_type": "code",
   "execution_count": 162,
   "id": "f3bccf74-1ecc-4dac-ac99-4ec98c6832e5",
   "metadata": {},
   "outputs": [],
   "source": [
    "t1=(34,56,'ganesh')"
   ]
  },
  {
   "cell_type": "code",
   "execution_count": 163,
   "id": "069e520c-5f60-4a49-94b5-9621007a8a92",
   "metadata": {},
   "outputs": [
    {
     "data": {
      "text/plain": [
       "(34, 56, 'ganesh')"
      ]
     },
     "execution_count": 163,
     "metadata": {},
     "output_type": "execute_result"
    }
   ],
   "source": [
    "t1"
   ]
  },
  {
   "cell_type": "code",
   "execution_count": 164,
   "id": "56375654-4e23-4c32-ba92-65007cff945f",
   "metadata": {},
   "outputs": [
    {
     "data": {
      "text/plain": [
       "45"
      ]
     },
     "execution_count": 164,
     "metadata": {},
     "output_type": "execute_result"
    }
   ],
   "source": [
    "t[1]"
   ]
  },
  {
   "cell_type": "code",
   "execution_count": 166,
   "id": "a6e75dbd-b066-452a-973b-8677bc329f32",
   "metadata": {},
   "outputs": [
    {
     "ename": "TypeError",
     "evalue": "'tuple' object does not support item assignment",
     "output_type": "error",
     "traceback": [
      "\u001b[1;31m---------------------------------------------------------------------------\u001b[0m",
      "\u001b[1;31mTypeError\u001b[0m                                 Traceback (most recent call last)",
      "Cell \u001b[1;32mIn[166], line 1\u001b[0m\n\u001b[1;32m----> 1\u001b[0m t[\u001b[38;5;241m1\u001b[39m]\u001b[38;5;241m=\u001b[39m\u001b[38;5;241m30\u001b[39m\n",
      "\u001b[1;31mTypeError\u001b[0m: 'tuple' object does not support item assignment"
     ]
    }
   ],
   "source": [
    "t[1]=30  ##imutable"
   ]
  },
  {
   "cell_type": "code",
   "execution_count": 167,
   "id": "3a21eb69-b23d-4ba7-8770-d6e52f48ba3c",
   "metadata": {},
   "outputs": [
    {
     "name": "stdout",
     "output_type": "stream",
     "text": [
      "Help on class tuple in module builtins:\n",
      "\n",
      "class tuple(object)\n",
      " |  tuple(iterable=(), /)\n",
      " |  \n",
      " |  Built-in immutable sequence.\n",
      " |  \n",
      " |  If no argument is given, the constructor returns an empty tuple.\n",
      " |  If iterable is specified the tuple is initialized from iterable's items.\n",
      " |  \n",
      " |  If the argument is a tuple, the return value is the same object.\n",
      " |  \n",
      " |  Built-in subclasses:\n",
      " |      asyncgen_hooks\n",
      " |      UnraisableHookArgs\n",
      " |  \n",
      " |  Methods defined here:\n",
      " |  \n",
      " |  __add__(self, value, /)\n",
      " |      Return self+value.\n",
      " |  \n",
      " |  __contains__(self, key, /)\n",
      " |      Return key in self.\n",
      " |  \n",
      " |  __eq__(self, value, /)\n",
      " |      Return self==value.\n",
      " |  \n",
      " |  __ge__(self, value, /)\n",
      " |      Return self>=value.\n",
      " |  \n",
      " |  __getattribute__(self, name, /)\n",
      " |      Return getattr(self, name).\n",
      " |  \n",
      " |  __getitem__(self, key, /)\n",
      " |      Return self[key].\n",
      " |  \n",
      " |  __getnewargs__(self, /)\n",
      " |  \n",
      " |  __gt__(self, value, /)\n",
      " |      Return self>value.\n",
      " |  \n",
      " |  __hash__(self, /)\n",
      " |      Return hash(self).\n",
      " |  \n",
      " |  __iter__(self, /)\n",
      " |      Implement iter(self).\n",
      " |  \n",
      " |  __le__(self, value, /)\n",
      " |      Return self<=value.\n",
      " |  \n",
      " |  __len__(self, /)\n",
      " |      Return len(self).\n",
      " |  \n",
      " |  __lt__(self, value, /)\n",
      " |      Return self<value.\n",
      " |  \n",
      " |  __mul__(self, value, /)\n",
      " |      Return self*value.\n",
      " |  \n",
      " |  __ne__(self, value, /)\n",
      " |      Return self!=value.\n",
      " |  \n",
      " |  __repr__(self, /)\n",
      " |      Return repr(self).\n",
      " |  \n",
      " |  __rmul__(self, value, /)\n",
      " |      Return value*self.\n",
      " |  \n",
      " |  count(self, value, /)\n",
      " |      Return number of occurrences of value.\n",
      " |  \n",
      " |  index(self, value, start=0, stop=9223372036854775807, /)\n",
      " |      Return first index of value.\n",
      " |      \n",
      " |      Raises ValueError if the value is not present.\n",
      " |  \n",
      " |  ----------------------------------------------------------------------\n",
      " |  Class methods defined here:\n",
      " |  \n",
      " |  __class_getitem__(...) from builtins.type\n",
      " |      See PEP 585\n",
      " |  \n",
      " |  ----------------------------------------------------------------------\n",
      " |  Static methods defined here:\n",
      " |  \n",
      " |  __new__(*args, **kwargs) from builtins.type\n",
      " |      Create and return a new object.  See help(type) for accurate signature.\n",
      "\n"
     ]
    }
   ],
   "source": [
    "help(tuple)"
   ]
  },
  {
   "cell_type": "code",
   "execution_count": 168,
   "id": "5a878553-e331-4273-89d9-f29ee0dc792a",
   "metadata": {},
   "outputs": [
    {
     "data": {
      "text/plain": [
       "(34, 56, 'ganesh')"
      ]
     },
     "execution_count": 168,
     "metadata": {},
     "output_type": "execute_result"
    }
   ],
   "source": [
    "t1"
   ]
  },
  {
   "cell_type": "code",
   "execution_count": 174,
   "id": "d56687bb-0d57-46d6-930f-debf764370fe",
   "metadata": {},
   "outputs": [
    {
     "data": {
      "text/plain": [
       "[34, 56, 'ganesh']"
      ]
     },
     "execution_count": 174,
     "metadata": {},
     "output_type": "execute_result"
    }
   ],
   "source": [
    "m=list(t1)    #conversion of list\n",
    "m"
   ]
  },
  {
   "cell_type": "markdown",
   "id": "222c8dbd-9ac7-44c6-989f-aafee9743b7d",
   "metadata": {},
   "source": []
  },
  {
   "cell_type": "code",
   "execution_count": 175,
   "id": "99d286a0-59e2-4927-a4b6-a15508cdb0dc",
   "metadata": {},
   "outputs": [
    {
     "data": {
      "text/plain": [
       "(34, 56, 'ganesh')"
      ]
     },
     "execution_count": 175,
     "metadata": {},
     "output_type": "execute_result"
    }
   ],
   "source": [
    "z1=tuple(m)\n",
    "z1"
   ]
  },
  {
   "cell_type": "code",
   "execution_count": 173,
   "id": "9c2a5b3f-07fb-4664-aa4f-889a4f4fea38",
   "metadata": {},
   "outputs": [
    {
     "ename": "TypeError",
     "evalue": "'tuple' object doesn't support item deletion",
     "output_type": "error",
     "traceback": [
      "\u001b[1;31m---------------------------------------------------------------------------\u001b[0m",
      "\u001b[1;31mTypeError\u001b[0m                                 Traceback (most recent call last)",
      "Cell \u001b[1;32mIn[173], line 1\u001b[0m\n\u001b[1;32m----> 1\u001b[0m \u001b[38;5;28;01mdel\u001b[39;00m z1[\u001b[38;5;241m1\u001b[39m]\n",
      "\u001b[1;31mTypeError\u001b[0m: 'tuple' object doesn't support item deletion"
     ]
    }
   ],
   "source": [
    "del z1[1]   #dont delete"
   ]
  },
  {
   "cell_type": "code",
   "execution_count": 176,
   "id": "0cc99255-6436-4c78-b1aa-0bfc6e2b1a44",
   "metadata": {},
   "outputs": [],
   "source": [
    "##set"
   ]
  },
  {
   "cell_type": "code",
   "execution_count": 179,
   "id": "7e3d0a06-efd2-4a1c-9429-d24c6882d489",
   "metadata": {},
   "outputs": [
    {
     "data": {
      "text/plain": [
       "{12, 34, 56, 78}"
      ]
     },
     "execution_count": 179,
     "metadata": {},
     "output_type": "execute_result"
    }
   ],
   "source": [
    "s={12,34,56,78,34}\n",
    "s"
   ]
  },
  {
   "cell_type": "code",
   "execution_count": 178,
   "id": "7522a206-3df7-4c90-ad63-9a1ae5324f6e",
   "metadata": {},
   "outputs": [
    {
     "data": {
      "text/plain": [
       "set"
      ]
     },
     "execution_count": 178,
     "metadata": {},
     "output_type": "execute_result"
    }
   ],
   "source": [
    "type(s)"
   ]
  },
  {
   "cell_type": "code",
   "execution_count": 181,
   "id": "50ebac45-44a1-41af-a9ed-9e504e8e9b91",
   "metadata": {},
   "outputs": [
    {
     "ename": "TypeError",
     "evalue": "'set' object is not subscriptable",
     "output_type": "error",
     "traceback": [
      "\u001b[1;31m---------------------------------------------------------------------------\u001b[0m",
      "\u001b[1;31mTypeError\u001b[0m                                 Traceback (most recent call last)",
      "Cell \u001b[1;32mIn[181], line 1\u001b[0m\n\u001b[1;32m----> 1\u001b[0m s[\u001b[38;5;241m2\u001b[39m]\n",
      "\u001b[1;31mTypeError\u001b[0m: 'set' object is not subscriptable"
     ]
    }
   ],
   "source": [
    "s[2]    #index is not allow  unordered"
   ]
  },
  {
   "cell_type": "code",
   "execution_count": 186,
   "id": "10dcf2c4-f389-4e8e-b0fa-006b930a7e98",
   "metadata": {},
   "outputs": [],
   "source": [
    "s.add(45)"
   ]
  },
  {
   "cell_type": "code",
   "execution_count": 187,
   "id": "ff55677b-d77c-455e-bfda-7b7a10a1d1d3",
   "metadata": {},
   "outputs": [
    {
     "data": {
      "text/plain": [
       "{12, 34, 45, 56, 78, 'a'}"
      ]
     },
     "execution_count": 187,
     "metadata": {},
     "output_type": "execute_result"
    }
   ],
   "source": [
    "s"
   ]
  },
  {
   "cell_type": "code",
   "execution_count": 188,
   "id": "aa6ba0d9-e429-41e4-96fb-b02257e6b613",
   "metadata": {},
   "outputs": [],
   "source": [
    "s.add('a')"
   ]
  },
  {
   "cell_type": "code",
   "execution_count": 189,
   "id": "9b570aa4-14f1-41cb-b255-f8e38bf89523",
   "metadata": {},
   "outputs": [
    {
     "data": {
      "text/plain": [
       "{12, 34, 45, 56, 78, 'a'}"
      ]
     },
     "execution_count": 189,
     "metadata": {},
     "output_type": "execute_result"
    }
   ],
   "source": [
    "s"
   ]
  },
  {
   "cell_type": "code",
   "execution_count": 190,
   "id": "de1c6a90-7f74-4838-ae6c-75b35964ed16",
   "metadata": {},
   "outputs": [
    {
     "data": {
      "text/plain": [
       "frozenset({12, 34, 45, 56, 78, 'a'})"
      ]
     },
     "execution_count": 190,
     "metadata": {},
     "output_type": "execute_result"
    }
   ],
   "source": [
    "s1=frozenset(s)  #not add value\n",
    "s1"
   ]
  },
  {
   "cell_type": "code",
   "execution_count": 191,
   "id": "2fc868cc-1b03-42bc-9593-51255e633bbb",
   "metadata": {},
   "outputs": [
    {
     "ename": "AttributeError",
     "evalue": "'frozenset' object has no attribute 'add'",
     "output_type": "error",
     "traceback": [
      "\u001b[1;31m---------------------------------------------------------------------------\u001b[0m",
      "\u001b[1;31mAttributeError\u001b[0m                            Traceback (most recent call last)",
      "Cell \u001b[1;32mIn[191], line 1\u001b[0m\n\u001b[1;32m----> 1\u001b[0m s1\u001b[38;5;241m.\u001b[39madd(\u001b[38;5;241m5\u001b[39m)\n",
      "\u001b[1;31mAttributeError\u001b[0m: 'frozenset' object has no attribute 'add'"
     ]
    }
   ],
   "source": [
    "s1.add(5)"
   ]
  },
  {
   "cell_type": "code",
   "execution_count": 192,
   "id": "0f58b78b-5bbe-4263-b7ad-e4c3870b935e",
   "metadata": {},
   "outputs": [],
   "source": [
    "##dictionary"
   ]
  },
  {
   "cell_type": "code",
   "execution_count": 193,
   "id": "509accb0-b030-4766-b926-cb305583b17f",
   "metadata": {},
   "outputs": [],
   "source": [
    "d={1:67,2:89,3:75,4:72,7:67}"
   ]
  },
  {
   "cell_type": "code",
   "execution_count": 194,
   "id": "de4dbe73-a308-4489-b59c-7530182d2700",
   "metadata": {},
   "outputs": [
    {
     "data": {
      "text/plain": [
       "{1: 67, 2: 89, 3: 75, 4: 72, 7: 67}"
      ]
     },
     "execution_count": 194,
     "metadata": {},
     "output_type": "execute_result"
    }
   ],
   "source": [
    "d"
   ]
  },
  {
   "cell_type": "code",
   "execution_count": 195,
   "id": "7874f32c-df1f-4da1-91b5-60c7a3488158",
   "metadata": {},
   "outputs": [
    {
     "data": {
      "text/plain": [
       "67"
      ]
     },
     "execution_count": 195,
     "metadata": {},
     "output_type": "execute_result"
    }
   ],
   "source": [
    "d[7]"
   ]
  },
  {
   "cell_type": "code",
   "execution_count": 196,
   "id": "8dfb217e-971a-4584-9f09-ad2977dfcfe5",
   "metadata": {},
   "outputs": [],
   "source": [
    "d1={1:67,2:89,3:75,4:72,7:67,1:37}"
   ]
  },
  {
   "cell_type": "code",
   "execution_count": 197,
   "id": "a3fa5dc5-2021-46a1-a348-dfeb64591393",
   "metadata": {},
   "outputs": [
    {
     "data": {
      "text/plain": [
       "{1: 37, 2: 89, 3: 75, 4: 72, 7: 67}"
      ]
     },
     "execution_count": 197,
     "metadata": {},
     "output_type": "execute_result"
    }
   ],
   "source": [
    "d1  #key must be unique"
   ]
  },
  {
   "cell_type": "code",
   "execution_count": 198,
   "id": "c7dd1925-d9cd-438a-a183-9cc4594d6aa9",
   "metadata": {},
   "outputs": [],
   "source": [
    "d[3]=100"
   ]
  },
  {
   "cell_type": "code",
   "execution_count": 199,
   "id": "5f8c02eb-2440-47f4-8d29-ff0476ec9ab1",
   "metadata": {},
   "outputs": [
    {
     "data": {
      "text/plain": [
       "{1: 67, 2: 89, 3: 100, 4: 72, 7: 67}"
      ]
     },
     "execution_count": 199,
     "metadata": {},
     "output_type": "execute_result"
    }
   ],
   "source": [
    "d   #mutable"
   ]
  },
  {
   "cell_type": "code",
   "execution_count": 200,
   "id": "c534f170-1ebd-4e28-a280-b71e7f3925a0",
   "metadata": {},
   "outputs": [],
   "source": [
    "d[10]=78"
   ]
  },
  {
   "cell_type": "code",
   "execution_count": 201,
   "id": "811fbbad-59dc-4407-9248-c56fd0bce812",
   "metadata": {},
   "outputs": [
    {
     "data": {
      "text/plain": [
       "{1: 67, 2: 89, 3: 100, 4: 72, 7: 67, 10: 78}"
      ]
     },
     "execution_count": 201,
     "metadata": {},
     "output_type": "execute_result"
    }
   ],
   "source": [
    "d"
   ]
  },
  {
   "cell_type": "code",
   "execution_count": 203,
   "id": "f8106e63-4cfa-41e9-939f-6235eabee488",
   "metadata": {},
   "outputs": [
    {
     "data": {
      "text/plain": [
       "dict_keys([1, 2, 3, 4, 7, 10])"
      ]
     },
     "execution_count": 203,
     "metadata": {},
     "output_type": "execute_result"
    }
   ],
   "source": [
    "d.keys()"
   ]
  },
  {
   "cell_type": "code",
   "execution_count": 204,
   "id": "8b5fbc28-032e-4086-9984-236dee9957e5",
   "metadata": {},
   "outputs": [
    {
     "data": {
      "text/plain": [
       "dict_values([67, 89, 100, 72, 67, 78])"
      ]
     },
     "execution_count": 204,
     "metadata": {},
     "output_type": "execute_result"
    }
   ],
   "source": [
    "d.values()"
   ]
  },
  {
   "cell_type": "code",
   "execution_count": null,
   "id": "46fca90b-d520-4487-8534-6ab808f653c2",
   "metadata": {},
   "outputs": [],
   "source": []
  }
 ],
 "metadata": {
  "kernelspec": {
   "display_name": "Python 3 (ipykernel)",
   "language": "python",
   "name": "python3"
  },
  "language_info": {
   "codemirror_mode": {
    "name": "ipython",
    "version": 3
   },
   "file_extension": ".py",
   "mimetype": "text/x-python",
   "name": "python",
   "nbconvert_exporter": "python",
   "pygments_lexer": "ipython3",
   "version": "3.11.7"
  }
 },
 "nbformat": 4,
 "nbformat_minor": 5
}
